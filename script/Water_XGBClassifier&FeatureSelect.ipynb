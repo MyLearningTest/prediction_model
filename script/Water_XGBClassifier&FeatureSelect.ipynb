{
 "cells": [
  {
   "cell_type": "code",
   "execution_count": 75,
   "metadata": {},
   "outputs": [],
   "source": [
    "import pandas as pd\n",
    "from sklearn.model_selection import train_test_split\n",
    "import xgboost as xgb\n",
    "from xgboost import XGBClassifier\n",
    "import numpy as np\n",
    "import matplotlib.pyplot as plt\n",
    "from xgboost import plot_importance"
   ]
  },
  {
   "cell_type": "code",
   "execution_count": 124,
   "metadata": {},
   "outputs": [],
   "source": [
    "data = pd.read_csv('/Users/haixiangliu/Documents/水质数据及代码模型/water_clean_data.csv')"
   ]
  },
  {
   "cell_type": "code",
   "execution_count": 126,
   "metadata": {},
   "outputs": [],
   "source": [
    "data.columns=['datetime','water_level','do','miss','input_wind_throughput','input_wind_openness','ts','input_water_cod','output_water_cod','input_water_ammonia','output_water_ammonia','input_water_ph','output_water_phosphorus','input_water_ss','output_water_ss']"
   ]
  },
  {
   "cell_type": "code",
   "execution_count": 127,
   "metadata": {},
   "outputs": [],
   "source": [
    "datetime_array=[]\n",
    "for value in data['datetime']:\n",
    "    datetime_array.append(value)\n",
    "data[data<0]=np.nan\n",
    "data['datetime']=pd.DataFrame(datetime_array)\n",
    "data = data.fillna(0.0)"
   ]
  },
  {
   "cell_type": "code",
   "execution_count": 128,
   "metadata": {},
   "outputs": [],
   "source": [
    "index_array=[]\n",
    "for d in data['output_water_cod']:\n",
    "    if d>=50:\n",
    "        index_array.append(1)  \n",
    "    else:\n",
    "        index_array.append(0)\n",
    "data['label']=pd.DataFrame(index_array)"
   ]
  },
  {
   "cell_type": "code",
   "execution_count": 129,
   "metadata": {},
   "outputs": [],
   "source": [
    "#提取年、月、周/年、小时形成新列，并修改数据类型\n",
    "#data['year']=pd.to_datetime(data['datetime']).dt.year\n",
    "#data['month']=pd.to_datetime(data['datetime']).dt.month\n",
    "#data['weekofyear']=pd.to_datetime(data['datetime']).dt.weekofyear\n",
    "#data['hour']=pd.to_datetime(data['datetime']).dt.hour\n",
    "#data[['year','month','weekofyear','hour']] = data[['year','month','weekofyear','hour']].astype('float')"
   ]
  },
  {
   "cell_type": "code",
   "execution_count": 130,
   "metadata": {},
   "outputs": [],
   "source": [
    "#抽样进行训练，预测\n",
    "data1=data[data['label']==0]\n",
    "data2=data[data['label']==1]\n",
    "#抽取label=0的数据的20%\n",
    "sample_data1 = data1.sample(frac=0.02)\n",
    "#数据中label=1的所有数据\n",
    "sampled_data=data2.append(sample_data1)"
   ]
  },
  {
   "cell_type": "code",
   "execution_count": 131,
   "metadata": {},
   "outputs": [],
   "source": [
    "y = sampled_data['label']\n",
    "x = sampled_data.drop(['output_water_cod','datetime','label'],axis=1)"
   ]
  },
  {
   "cell_type": "code",
   "execution_count": 83,
   "metadata": {},
   "outputs": [],
   "source": [
    "X_train,X_test,y_train,y_test = train_test_split(x,y,test_size=0.1,random_state=0)"
   ]
  },
  {
   "cell_type": "markdown",
   "metadata": {},
   "source": [
    "### 用XGBClassifier模型进行预测"
   ]
  },
  {
   "cell_type": "code",
   "execution_count": 84,
   "metadata": {},
   "outputs": [],
   "source": [
    "dtrain = xgb.DMatrix(X_train,label=y_train)\n",
    "dtest = xgb.DMatrix(X_test,label=y_test)"
   ]
  },
  {
   "cell_type": "code",
   "execution_count": 85,
   "metadata": {
    "scrolled": true
   },
   "outputs": [],
   "source": [
    "num_round=100\n",
    "model = XGBClassifier(learning_rate = 0.1,\n",
    "                      n_estimators=1000,   #树的个数\n",
    "                      max_depth=6,           #树的深度\n",
    "                      min_child_weight=1,  #叶子节点最小权重\n",
    "                      gamma=0.,              #惩罚项中叶子结点个数前的参数\n",
    "                      subsample=0.8,       #随机选择80%样本建立决策树\n",
    "                      colsample_btree=0.8,#随机选择80%特征建立决策树\n",
    "                      objective = 'multi:softmax',#指定损失函数\n",
    "                      num_class=2,\n",
    "                      scale_pos_weight=1,  #解决样本个数不平衡问题\n",
    "                      random_state=27,     #随机数\n",
    "                     )"
   ]
  },
  {
   "cell_type": "code",
   "execution_count": 86,
   "metadata": {
    "scrolled": true
   },
   "outputs": [
    {
     "name": "stdout",
     "output_type": "stream",
     "text": [
      "[0]\tvalidation_0-mlogloss:0.630137\n",
      "Will train until validation_0-mlogloss hasn't improved in 10 rounds.\n",
      "[1]\tvalidation_0-mlogloss:0.57498\n",
      "[2]\tvalidation_0-mlogloss:0.530183\n",
      "[3]\tvalidation_0-mlogloss:0.491999\n",
      "[4]\tvalidation_0-mlogloss:0.459527\n",
      "[5]\tvalidation_0-mlogloss:0.431663\n",
      "[6]\tvalidation_0-mlogloss:0.411066\n",
      "[7]\tvalidation_0-mlogloss:0.394103\n",
      "[8]\tvalidation_0-mlogloss:0.375378\n",
      "[9]\tvalidation_0-mlogloss:0.360598\n",
      "[10]\tvalidation_0-mlogloss:0.345856\n",
      "[11]\tvalidation_0-mlogloss:0.334647\n",
      "[12]\tvalidation_0-mlogloss:0.32359\n",
      "[13]\tvalidation_0-mlogloss:0.315503\n",
      "[14]\tvalidation_0-mlogloss:0.305987\n",
      "[15]\tvalidation_0-mlogloss:0.29899\n",
      "[16]\tvalidation_0-mlogloss:0.291557\n",
      "[17]\tvalidation_0-mlogloss:0.288497\n",
      "[18]\tvalidation_0-mlogloss:0.282717\n",
      "[19]\tvalidation_0-mlogloss:0.278796\n",
      "[20]\tvalidation_0-mlogloss:0.272892\n",
      "[21]\tvalidation_0-mlogloss:0.267505\n",
      "[22]\tvalidation_0-mlogloss:0.265052\n",
      "[23]\tvalidation_0-mlogloss:0.263117\n",
      "[24]\tvalidation_0-mlogloss:0.260063\n",
      "[25]\tvalidation_0-mlogloss:0.258629\n",
      "[26]\tvalidation_0-mlogloss:0.257464\n",
      "[27]\tvalidation_0-mlogloss:0.255327\n",
      "[28]\tvalidation_0-mlogloss:0.255501\n",
      "[29]\tvalidation_0-mlogloss:0.253114\n",
      "[30]\tvalidation_0-mlogloss:0.2513\n",
      "[31]\tvalidation_0-mlogloss:0.250845\n",
      "[32]\tvalidation_0-mlogloss:0.248885\n",
      "[33]\tvalidation_0-mlogloss:0.249023\n",
      "[34]\tvalidation_0-mlogloss:0.247635\n",
      "[35]\tvalidation_0-mlogloss:0.249871\n",
      "[36]\tvalidation_0-mlogloss:0.249993\n",
      "[37]\tvalidation_0-mlogloss:0.250797\n",
      "[38]\tvalidation_0-mlogloss:0.249393\n",
      "[39]\tvalidation_0-mlogloss:0.249266\n",
      "[40]\tvalidation_0-mlogloss:0.249165\n",
      "[41]\tvalidation_0-mlogloss:0.249976\n",
      "[42]\tvalidation_0-mlogloss:0.245964\n",
      "[43]\tvalidation_0-mlogloss:0.245589\n",
      "[44]\tvalidation_0-mlogloss:0.248266\n",
      "[45]\tvalidation_0-mlogloss:0.250855\n",
      "[46]\tvalidation_0-mlogloss:0.253965\n",
      "[47]\tvalidation_0-mlogloss:0.25649\n",
      "[48]\tvalidation_0-mlogloss:0.255228\n",
      "[49]\tvalidation_0-mlogloss:0.256555\n",
      "[50]\tvalidation_0-mlogloss:0.260952\n",
      "[51]\tvalidation_0-mlogloss:0.260401\n",
      "[52]\tvalidation_0-mlogloss:0.260745\n",
      "[53]\tvalidation_0-mlogloss:0.261132\n",
      "Stopping. Best iteration:\n",
      "[43]\tvalidation_0-mlogloss:0.245589\n",
      "\n"
     ]
    },
    {
     "data": {
      "text/plain": [
       "XGBClassifier(base_score=0.5, booster='gbtree', colsample_btree=0.8,\n",
       "       colsample_bylevel=1, colsample_bytree=1, gamma=0.0,\n",
       "       learning_rate=0.1, max_delta_step=0, max_depth=6,\n",
       "       min_child_weight=1, missing=None, n_estimators=1000, n_jobs=1,\n",
       "       nthread=None, num_class=2, objective='multi:softmax',\n",
       "       random_state=27, reg_alpha=0, reg_lambda=1, scale_pos_weight=1,\n",
       "       seed=None, silent=True, subsample=0.8)"
      ]
     },
     "execution_count": 86,
     "metadata": {},
     "output_type": "execute_result"
    }
   ],
   "source": [
    "model.fit(X_train,y_train,eval_set =[(X_test,y_test)],eval_metric='mlogloss',early_stopping_rounds=10,verbose=True)"
   ]
  },
  {
   "cell_type": "code",
   "execution_count": 87,
   "metadata": {
    "scrolled": true
   },
   "outputs": [
    {
     "data": {
      "text/plain": [
       "<matplotlib.axes._subplots.AxesSubplot at 0x1a19c5f630>"
      ]
     },
     "execution_count": 87,
     "metadata": {},
     "output_type": "execute_result"
    },
    {
     "data": {
      "image/png": "[encoded data removed]",
      "text/plain": [
       "<Figure size 1080x1080 with 1 Axes>"
      ]
     },
     "metadata": {},
     "output_type": "display_data"
    }
   ],
   "source": [
    "#绘制feature的重要性\n",
    "fig,ax = plt.subplots(figsize=(15,15))\n",
    "plot_importance(model,height=0.5,ax=ax,max_num_features=64)"
   ]
  },
  {
   "cell_type": "code",
   "execution_count": 88,
   "metadata": {},
   "outputs": [
    {
     "name": "stderr",
     "output_type": "stream",
     "text": [
      "/usr/local/anaconda3/lib/python3.6/site-packages/sklearn/preprocessing/label.py:151: DeprecationWarning: The truth value of an empty array is ambiguous. Returning False, but in future this will result in an error. Use `array.size > 0` to check that an array is not empty.\n",
      "  if diff:\n"
     ]
    }
   ],
   "source": [
    "pred = model.predict(X_test)"
   ]
  },
  {
   "cell_type": "code",
   "execution_count": 89,
   "metadata": {
    "scrolled": false
   },
   "outputs": [
    {
     "name": "stdout",
     "output_type": "stream",
     "text": [
      "Precision_Score:0.7142857142857143\n",
      "accuracy:89.47%\n"
     ]
    }
   ],
   "source": [
    "#该预测的精度\n",
    "from sklearn.metrics import precision_score\n",
    "print('Precision_Score:'+str(precision_score(y_test,pred,average='macro')))\n",
    "\n",
    "#模型评估\n",
    "from sklearn.metrics import accuracy_score\n",
    "accuracy = accuracy_score(y_test,pred)\n",
    "print('accuracy:%.2f%%' %(accuracy*100.0))"
   ]
  },
  {
   "cell_type": "markdown",
   "metadata": {},
   "source": [
    "### Pearson相关性分析"
   ]
  },
  {
   "cell_type": "code",
   "execution_count": 176,
   "metadata": {
    "scrolled": true
   },
   "outputs": [
    {
     "data": {
      "text/plain": [
       "[('ts', -0.2883084452776026),\n",
       " ('input_water_ss', -0.12340412392641328),\n",
       " ('input_water_ammonia', -0.1207493104150717),\n",
       " ('miss', -0.10809656924228259),\n",
       " ('input_wind_openness', -0.07216276135557602),\n",
       " ('input_wind_throughput', -0.049290039114645134),\n",
       " ('water_level', -0.026388351472986234),\n",
       " ('input_water_cod', -0.025408401245447285),\n",
       " ('output_water_ss', 0.03179729986241738),\n",
       " ('do', 0.09183393910192708),\n",
       " ('input_water_ph', 0.1380970352349247),\n",
       " ('output_water_ammonia', 0.3778876871384895),\n",
       " ('output_water_phosphorus', 0.42997343159307655),\n",
       " ('label', 1.0)]"
      ]
     },
     "execution_count": 176,
     "metadata": {},
     "output_type": "execute_result"
    }
   ],
   "source": [
    "#用Pearson相关，求feature_importance\n",
    "from scipy.stats import pearsonr\n",
    "columns = X_train.columns\n",
    "\n",
    "feature_importance=[(column,pearsonr(X_train[column],y_train)[0]) for column in columns]\n",
    "feature_importance.sort(key=lambda x:x[1])\n",
    "\n",
    "feature_importance"
   ]
  },
  {
   "cell_type": "markdown",
   "metadata": {},
   "source": [
    "通过Pearson相关得到的feature和label的线性关系并不明显"
   ]
  },
  {
   "cell_type": "markdown",
   "metadata": {},
   "source": [
    "### 使用线性模型L1做特征选择 "
   ]
  },
  {
   "cell_type": "code",
   "execution_count": 101,
   "metadata": {},
   "outputs": [
    {
     "name": "stdout",
     "output_type": "stream",
     "text": [
      "0.7959558823529411\n"
     ]
    },
    {
     "data": {
      "text/plain": [
       "[('ts', -4.024636665429571e-11),\n",
       " ('miss', -3.972560926063287e-05),\n",
       " ('input_wind_throughput', -4.102525863031357e-05),\n",
       " ('input_water_cod', -0.00039818340669135527),\n",
       " ('input_water_ss', -0.0015074692004011974),\n",
       " ('input_wind_openness', 0.005366042201123543),\n",
       " ('input_water_ph', 0.017618396090336812),\n",
       " ('output_water_ss', -0.03757238793274894),\n",
       " ('input_water_ammonia', -0.039366079931155096),\n",
       " ('output_water_ammonia', 0.09127269804466788),\n",
       " ('do', 0.10092172540272301),\n",
       " ('water_level', -0.13943815332982443),\n",
       " ('output_water_phosphorus', 0.8457689095376573)]"
      ]
     },
     "execution_count": 101,
     "metadata": {},
     "output_type": "execute_result"
    }
   ],
   "source": [
    "from sklearn.linear_model import LogisticRegression\n",
    "from sklearn.metrics import roc_auc_score\n",
    "X_train, X_test, y_train, y_test = train_test_split(x, y, test_size=0.1, random_state=0)\n",
    "lr=LogisticRegression(penalty='l1',random_state=0).fit(X_train,y_train)\n",
    "pred=lr.predict_proba(X_test)[:,1]\n",
    "print(roc_auc_score(y_test,pred))\n",
    " \n",
    "feature_importance=[(i[0],i[1]) for i in zip(columns,lr.coef_[0])]\n",
    "feature_importance.sort(key=lambda x:np.abs(x[1]))\n",
    "#特征系数\n",
    "feature_importance"
   ]
  },
  {
   "cell_type": "markdown",
   "metadata": {},
   "source": [
    "### 使用线性模型L2进行特征选择"
   ]
  },
  {
   "cell_type": "code",
   "execution_count": 102,
   "metadata": {},
   "outputs": [
    {
     "name": "stdout",
     "output_type": "stream",
     "text": [
      "0.7628676470588235\n"
     ]
    },
    {
     "data": {
      "text/plain": [
       "[('do', -3.2476148692454115e-19),\n",
       " ('output_water_phosphorus', 4.9317584691110855e-19),\n",
       " ('output_water_ss', -5.226903562539908e-18),\n",
       " ('water_level', -5.658971879091991e-18),\n",
       " ('input_water_ph', -6.924287011910742e-18),\n",
       " ('output_water_ammonia', 9.931940696695707e-18),\n",
       " ('input_water_ammonia', -4.2657723134179207e-17),\n",
       " ('input_wind_openness', -5.1575881173874646e-17),\n",
       " ('input_water_cod', -3.030316530688926e-16),\n",
       " ('input_water_ss', -8.156270777870916e-16),\n",
       " ('input_wind_throughput', -1.9735554170796883e-15),\n",
       " ('miss', -4.77459009369226e-15),\n",
       " ('ts', -1.5694231525070371e-09)]"
      ]
     },
     "execution_count": 102,
     "metadata": {},
     "output_type": "execute_result"
    }
   ],
   "source": [
    "X_train2, X_test2, y_train2, y_test2 = train_test_split(x, y, test_size=0.1, random_state=0)\n",
    "lr=LogisticRegression(penalty='l2',random_state=0).fit(X_train2,y_train2)\n",
    "pred=lr.predict_proba(X_test2)[:,1]\n",
    "print(roc_auc_score(y_test2,pred))\n",
    " \n",
    "feature_importance=[(i[0],i[1]) for i in zip(columns,lr.coef_[0])]\n",
    "feature_importance.sort(key=lambda x:np.abs(x[1]))\n",
    "feature_importance"
   ]
  },
  {
   "cell_type": "markdown",
   "metadata": {},
   "source": [
    "### 使用平均精确率减少做特征选择"
   ]
  },
  {
   "cell_type": "code",
   "execution_count": 172,
   "metadata": {},
   "outputs": [],
   "source": [
    "from sklearn.metrics import r2_score\n",
    "from collections import defaultdict\n",
    "\n",
    "X_train, X_test, y_train, y_test = train_test_split(x, y, test_size=0.1, random_state=0)\n",
    "rf=RandomForestClassifier(n_estimators=300,max_depth=7,min_samples_split=10,min_samples_leaf=10,n_jobs=7,random_state=0)\n",
    "scores = defaultdict(list)\n"
   ]
  },
  {
   "cell_type": "code",
   "execution_count": 173,
   "metadata": {},
   "outputs": [
    {
     "data": {
      "text/plain": [
       "[(-0.0815, 'input_wind_throughput'),\n",
       " (-0.08, 'miss'),\n",
       " (-0.0301, 'output_water_ss'),\n",
       " (-0.0207, 'do'),\n",
       " (-0.0058, 'input_wind_openness'),\n",
       " (0.0123, 'water_level'),\n",
       " (0.0539, 'input_water_ss'),\n",
       " (0.085, 'input_water_ph'),\n",
       " (0.0899, 'input_water_ammonia'),\n",
       " (0.2549, 'output_water_ammonia'),\n",
       " (0.3135, 'ts'),\n",
       " (0.3167, 'output_water_phosphorus'),\n",
       " (0.6436, 'input_water_cod')]"
      ]
     },
     "execution_count": 173,
     "metadata": {},
     "output_type": "execute_result"
    }
   ],
   "source": [
    "from sklearn.cross_validation import ShuffleSplit\n",
    "for train_idx, test_idx in ShuffleSplit(len(X_train), 3, 0.3):\n",
    "    x_train, X_test = X_train.values[train_idx], X_train.values[test_idx]\n",
    "    Y_train, Y_test = y_train.values[train_idx], y_train.values[test_idx]\n",
    "    r = rf.fit(x_train, Y_train)\n",
    "    acc = r2_score(Y_test, rf.predict_proba(X_test)[:,1])\n",
    "    for i in range(x_train.shape[1]):\n",
    "        X_t = X_test.copy()\n",
    "        np.random.shuffle(X_t[:, i])\n",
    "        shuff_acc = r2_score(Y_test, rf.predict_proba(X_t)[:,1])\n",
    "        scores[columns[i]].append((acc - shuff_acc) / acc)\n",
    "feature_impotance=sorted([(round(np.mean(score), 4), feat) for feat, score in scores.items()])\n",
    "feature_impotance"
   ]
  },
  {
   "cell_type": "markdown",
   "metadata": {},
   "source": [
    "### 顶级特征选择算法 ???"
   ]
  },
  {
   "cell_type": "code",
   "execution_count": 174,
   "metadata": {},
   "outputs": [],
   "source": [
    "#稳定性选择 \n",
    "from sklearn.linear_model import  RandomizedLasso\n",
    "\n",
    "Y=sampled_data['label']\n",
    "X=sampled_data.drop(['datetime','output_water_cod'],axis=1)\n",
    "names=data.columns\n",
    "\n",
    "rlasso = RandomizedLasso()\n",
    "rlasso.fit(X,Y)"
   ]
  },
  {
   "cell_type": "code",
   "execution_count": 167,
   "metadata": {},
   "outputs": [
    {
     "name": "stdout",
     "output_type": "stream",
     "text": [
      "Features sorted by their score:\n"
     ]
    },
    {
     "data": {
      "text/plain": [
       "[(0.0, 'datetime'),\n",
       " (0.0, 'do'),\n",
       " (0.0, 'input_water_ammonia'),\n",
       " (0.0, 'input_water_cod'),\n",
       " (0.0, 'input_water_ph'),\n",
       " (0.0, 'input_wind_openness'),\n",
       " (0.0, 'input_wind_throughput'),\n",
       " (0.0, 'miss'),\n",
       " (0.0, 'output_water_cod'),\n",
       " (0.0, 'output_water_phosphorus'),\n",
       " (0.0, 'ts'),\n",
       " (0.0, 'water_level'),\n",
       " (0.005, 'output_water_ammonia'),\n",
       " (1.0, 'input_water_ss')]"
      ]
     },
     "execution_count": 167,
     "metadata": {},
     "output_type": "execute_result"
    }
   ],
   "source": [
    "print(\"Features sorted by their score:\")\n",
    "feature_importance=sorted(zip(map(lambda x: round(x, 4), rlasso.scores_),names))\n",
    "feature_importance"
   ]
  },
  {
   "cell_type": "code",
   "execution_count": 175,
   "metadata": {},
   "outputs": [
    {
     "name": "stdout",
     "output_type": "stream",
     "text": [
      "Fitting estimator with 14 features.\n",
      "Fitting estimator with 13 features.\n",
      "Fitting estimator with 12 features.\n",
      "Fitting estimator with 11 features.\n",
      "Fitting estimator with 10 features.\n",
      "Fitting estimator with 9 features.\n",
      "Fitting estimator with 8 features.\n",
      "Fitting estimator with 7 features.\n",
      "Fitting estimator with 6 features.\n",
      "Fitting estimator with 5 features.\n",
      "Fitting estimator with 4 features.\n",
      "Fitting estimator with 3 features.\n",
      "Fitting estimator with 2 features.\n",
      "Features sorted by their rank:\n"
     ]
    },
    {
     "data": {
      "text/plain": [
       "[(14, 'output_water_ss'),\n",
       " (13, 'input_wind_throughput'),\n",
       " (12, 'input_wind_openness'),\n",
       " (11, 'input_water_ss'),\n",
       " (10, 'water_level'),\n",
       " (9, 'input_water_ammonia'),\n",
       " (8, 'miss'),\n",
       " (7, 'do'),\n",
       " (6, 'input_water_cod'),\n",
       " (5, 'ts'),\n",
       " (4, 'output_water_ammonia'),\n",
       " (3, 'input_water_ph'),\n",
       " (2, 'output_water_phosphorus')]"
      ]
     },
     "execution_count": 175,
     "metadata": {},
     "output_type": "execute_result"
    }
   ],
   "source": [
    "#递归特征消除 Recursive feature elimination (RFE)\n",
    "from sklearn.feature_selection import RFE\n",
    " \n",
    "X_train, X_test, y_train, y_test = train_test_split(X, Y, test_size=0.5, random_state=0)\n",
    "# use linear regression as the model\n",
    "rf = RandomForestClassifier()\n",
    "# rank all features, i.e continue the elimination until the last one\n",
    "rfe = RFE(rf, n_features_to_select=1,verbose=1)\n",
    "rfe.fit(X_train, y_train)\n",
    "\n",
    "print(\"Features sorted by their rank:\")\n",
    "feature_importance=(sorted(zip(map(lambda x: round(x, 4), rfe.ranking_), columns),reverse=True))\n",
    "feature_importance\n"
   ]
  },
  {
   "cell_type": "code",
   "execution_count": null,
   "metadata": {},
   "outputs": [],
   "source": []
  }
 ],
 "metadata": {
  "kernelspec": {
   "display_name": "Python 3",
   "language": "python",
   "name": "python3"
  },
  "language_info": {
   "codemirror_mode": {
    "name": "ipython",
    "version": 3
   },
   "file_extension": ".py",
   "mimetype": "text/x-python",
   "name": "python",
   "nbconvert_exporter": "python",
   "pygments_lexer": "ipython3",
   "version": "3.6.5"
  }
 },
 "nbformat": 4,
 "nbformat_minor": 2
}
