{
 "cells": [
  {
   "cell_type": "code",
   "execution_count": 1,
   "metadata": {},
   "outputs": [],
   "source": [
    "import pandas as pd\n",
    "from sklearn.model_selection import train_test_split\n",
    "import xgboost as xgb\n",
    "from xgboost import XGBClassifier\n",
    "import numpy as np\n",
    "import matplotlib.pyplot as plt\n",
    "from xgboost import plot_importance"
   ]
  },
  {
   "cell_type": "code",
   "execution_count": 2,
   "metadata": {},
   "outputs": [],
   "source": [
    "data = pd.read_csv('/Users/haixiangliu/Documents/水质数据及代码模型/water_clean_data.csv')"
   ]
  },
  {
   "cell_type": "code",
   "execution_count": 3,
   "metadata": {},
   "outputs": [],
   "source": [
    "data.columns=['datetime','water_level','do','miss','input_wind_throughput','input_wind_openness','ts','input_water_cod','output_water_cod','input_water_ammonia','output_water_ammonia','input_water_ph','output_water_phosphorus','input_water_ss','output_water_ss']"
   ]
  },
  {
   "cell_type": "code",
   "execution_count": 4,
   "metadata": {},
   "outputs": [],
   "source": [
    "datetime_array=[]\n",
    "for value in data['datetime']:\n",
    "    datetime_array.append(value)\n",
    "data[data<0]=np.nan\n",
    "data['datetime']=pd.DataFrame(datetime_array)\n",
    "data = data.fillna(0.0)"
   ]
  },
  {
   "cell_type": "code",
   "execution_count": 5,
   "metadata": {},
   "outputs": [],
   "source": [
    "index_array=[]\n",
    "for d in data['output_water_cod']:\n",
    "    if d>=50:\n",
    "        index_array.append(1)  \n",
    "    else:\n",
    "        index_array.append(0)\n",
    "data['label']=pd.DataFrame(index_array)"
   ]
  },
  {
   "cell_type": "code",
   "execution_count": 6,
   "metadata": {},
   "outputs": [],
   "source": [
    "#提取年、月、周/年、小时形成新列，并修改数据类型\n",
    "#data['year']=pd.to_datetime(data['datetime']).dt.year\n",
    "#data['month']=pd.to_datetime(data['datetime']).dt.month\n",
    "#data['weekofyear']=pd.to_datetime(data['datetime']).dt.weekofyear\n",
    "#data['hour']=pd.to_datetime(data['datetime']).dt.hour\n",
    "#data[['year','month','weekofyear','hour']] = data[['year','month','weekofyear','hour']].astype('float')"
   ]
  },
  {
   "cell_type": "code",
   "execution_count": 7,
   "metadata": {},
   "outputs": [],
   "source": [
    "#抽样进行训练，预测\n",
    "data1=data[data['label']==0]\n",
    "data2=data[data['label']==1]\n",
    "#抽取label=0的数据的20%\n",
    "sample_data1 = data1.sample(frac=0.02)\n",
    "#数据中label=1的所有数据\n",
    "sampled_data=data2.append(sample_data1)"
   ]
  },
  {
   "cell_type": "code",
   "execution_count": 8,
   "metadata": {},
   "outputs": [],
   "source": [
    "y = sampled_data['label']\n",
    "x = sampled_data.drop(['output_water_cod','datetime','label'],axis=1)"
   ]
  },
  {
   "cell_type": "code",
   "execution_count": 9,
   "metadata": {},
   "outputs": [],
   "source": [
    "X_train,X_test,y_train,y_test = train_test_split(x,y,test_size=0.1,random_state=0)"
   ]
  },
  {
   "cell_type": "code",
   "execution_count": 10,
   "metadata": {},
   "outputs": [],
   "source": [
    "dtrain = xgb.DMatrix(X_train,label=y_train)\n",
    "dtest = xgb.DMatrix(X_test,label=y_test)"
   ]
  },
  {
   "cell_type": "markdown",
   "metadata": {},
   "source": [
    "### XGBoost_Cross_validation"
   ]
  },
  {
   "cell_type": "code",
   "execution_count": 21,
   "metadata": {},
   "outputs": [
    {
     "name": "stdout",
     "output_type": "stream",
     "text": [
      "[0]\ttrain-error:0.084316+0.00701375\ttest-error:0.0851116+0.0227327\n",
      "[1]\ttrain-error:0.0813802+0.00955156\ttest-error:0.0997102+0.016407\n"
     ]
    },
    {
     "data": {
      "text/html": [
       "<div>\n",
       "<style scoped>\n",
       "    .dataframe tbody tr th:only-of-type {\n",
       "        vertical-align: middle;\n",
       "    }\n",
       "\n",
       "    .dataframe tbody tr th {\n",
       "        vertical-align: top;\n",
       "    }\n",
       "\n",
       "    .dataframe thead th {\n",
       "        text-align: right;\n",
       "    }\n",
       "</style>\n",
       "<table border=\"1\" class=\"dataframe\">\n",
       "  <thead>\n",
       "    <tr style=\"text-align: right;\">\n",
       "      <th></th>\n",
       "      <th>train-error-mean</th>\n",
       "      <th>train-error-std</th>\n",
       "      <th>test-error-mean</th>\n",
       "      <th>test-error-std</th>\n",
       "    </tr>\n",
       "  </thead>\n",
       "  <tbody>\n",
       "    <tr>\n",
       "      <th>0</th>\n",
       "      <td>0.084316</td>\n",
       "      <td>0.007014</td>\n",
       "      <td>0.085112</td>\n",
       "      <td>0.022733</td>\n",
       "    </tr>\n",
       "    <tr>\n",
       "      <th>1</th>\n",
       "      <td>0.081380</td>\n",
       "      <td>0.009552</td>\n",
       "      <td>0.099710</td>\n",
       "      <td>0.016407</td>\n",
       "    </tr>\n",
       "  </tbody>\n",
       "</table>\n",
       "</div>"
      ],
      "text/plain": [
       "   train-error-mean  train-error-std  test-error-mean  test-error-std\n",
       "0          0.084316         0.007014         0.085112        0.022733\n",
       "1          0.081380         0.009552         0.099710        0.016407"
      ]
     },
     "execution_count": 21,
     "metadata": {},
     "output_type": "execute_result"
    }
   ],
   "source": [
    "params= {'max_depth':2,'eta':1,'silent':1,'objective':'binary:logistic'}\n",
    "num_round=2\n",
    "xgb.cv(params,dtrain,num_round,nfold=5,metrics={'error'},seed=0,\n",
    "          callbacks=[xgb.callback.print_evaluation(show_stdv=True)])"
   ]
  },
  {
   "cell_type": "code",
   "execution_count": 18,
   "metadata": {},
   "outputs": [
    {
     "name": "stdout",
     "output_type": "stream",
     "text": [
      "[0]\ttrain-error:0.084316\ttest-error:0.0851116\n",
      "Multiple eval metrics have been passed: 'test-error' will be used for early stopping.\n",
      "\n",
      "Will train until test-error hasn't improved in 3 rounds.\n",
      "[1]\ttrain-error:0.0813802\ttest-error:0.0997102\n",
      "[2]\ttrain-error:0.0769818\ttest-error:0.0982608\n",
      "[3]\ttrain-error:0.072584\ttest-error:0.096801\n",
      "Stopping. Best iteration:\n",
      "[0]\ttrain-error:0.084316+0.00701375\ttest-error:0.0851116+0.0227327\n",
      "\n",
      "   train-error-mean  train-error-std  test-error-mean  test-error-std\n",
      "0          0.084316         0.007014         0.085112        0.022733\n",
      "running cross validation, with preprocessing function\n"
     ]
    }
   ],
   "source": [
    "res = xgb.cv(params, dtrain, num_boost_round=10, nfold=5,\n",
    "             metrics={'error'}, seed=0,\n",
    "             callbacks=[xgb.callback.print_evaluation(show_stdv=False),\n",
    "                        xgb.callback.early_stop(3)])\n",
    "print(res)\n",
    "print('running cross validation, with preprocessing function')"
   ]
  },
  {
   "cell_type": "code",
   "execution_count": 19,
   "metadata": {},
   "outputs": [
    {
     "data": {
      "text/html": [
       "<div>\n",
       "<style scoped>\n",
       "    .dataframe tbody tr th:only-of-type {\n",
       "        vertical-align: middle;\n",
       "    }\n",
       "\n",
       "    .dataframe tbody tr th {\n",
       "        vertical-align: top;\n",
       "    }\n",
       "\n",
       "    .dataframe thead th {\n",
       "        text-align: right;\n",
       "    }\n",
       "</style>\n",
       "<table border=\"1\" class=\"dataframe\">\n",
       "  <thead>\n",
       "    <tr style=\"text-align: right;\">\n",
       "      <th></th>\n",
       "      <th>train-auc-mean</th>\n",
       "      <th>train-auc-std</th>\n",
       "      <th>test-auc-mean</th>\n",
       "      <th>test-auc-std</th>\n",
       "    </tr>\n",
       "  </thead>\n",
       "  <tbody>\n",
       "    <tr>\n",
       "      <th>0</th>\n",
       "      <td>0.792625</td>\n",
       "      <td>0.012870</td>\n",
       "      <td>0.698916</td>\n",
       "      <td>0.023580</td>\n",
       "    </tr>\n",
       "    <tr>\n",
       "      <th>1</th>\n",
       "      <td>0.850997</td>\n",
       "      <td>0.008371</td>\n",
       "      <td>0.769880</td>\n",
       "      <td>0.025194</td>\n",
       "    </tr>\n",
       "  </tbody>\n",
       "</table>\n",
       "</div>"
      ],
      "text/plain": [
       "   train-auc-mean  train-auc-std  test-auc-mean  test-auc-std\n",
       "0        0.792625       0.012870       0.698916      0.023580\n",
       "1        0.850997       0.008371       0.769880      0.025194"
      ]
     },
     "execution_count": 19,
     "metadata": {},
     "output_type": "execute_result"
    }
   ],
   "source": [
    "def fpreproc(dtrain, dtest, param):\n",
    "    label = dtrain.get_label()\n",
    "    ratio = float(np.sum(label == 0)) / np.sum(label == 1)\n",
    "    param['scale_pos_weight'] = ratio\n",
    "    return (dtrain, dtest, param)\n",
    "\n",
    "# 对每一个折都要进行交叉验证,dtrain, dtest, param将被传入fpreproc,然后fpreproc的返回值将用于生成该折叠的结果\n",
    "xgb.cv(params, dtrain, num_round, nfold=5,\n",
    "       metrics={'auc'}, seed=0, fpreproc=fpreproc)"
   ]
  },
  {
   "cell_type": "markdown",
   "metadata": {},
   "source": [
    "### Predict_first_ntree"
   ]
  },
  {
   "cell_type": "code",
   "execution_count": 22,
   "metadata": {},
   "outputs": [
    {
     "name": "stdout",
     "output_type": "stream",
     "text": [
      "[0]\ttrain-error:0.085044\teval-error:0.105263\n",
      "[1]\ttrain-error:0.083578\teval-error:0.105263\n",
      "[2]\ttrain-error:0.083578\teval-error:0.105263\n"
     ]
    }
   ],
   "source": [
    "params = {'max_depth':2,'eta':1,'silent':1,'objective':'binary:logistic'}\n",
    "watchlist = [(dtrain,'train'),(dtest,'eval')]\n",
    "num_round=3\n",
    "bst = xgb.train(params,dtrain,num_round,watchlist)"
   ]
  },
  {
   "cell_type": "code",
   "execution_count": 23,
   "metadata": {},
   "outputs": [
    {
     "name": "stdout",
     "output_type": "stream",
     "text": [
      "error of ypred1=0.105263\n",
      "error of ypred2=0.105263\n"
     ]
    }
   ],
   "source": [
    "#从第n棵树开始测试预测\n",
    "label= dtest.get_label()\n",
    "ypred1 = bst.predict(dtest,ntree_limit=1)\n",
    "ypred2 = bst.predict(dtest)\n",
    "print('error of ypred1=%f' % (np.sum((ypred1 > 0.5) != label) / float(len(label))))\n",
    "print('error of ypred2=%f' % (np.sum((ypred2 > 0.5) != label) / float(len(label))))"
   ]
  },
  {
   "cell_type": "code",
   "execution_count": null,
   "metadata": {},
   "outputs": [],
   "source": []
  },
  {
   "cell_type": "markdown",
   "metadata": {},
   "source": [
    "### 预测叶指数"
   ]
  },
  {
   "cell_type": "code",
   "execution_count": 11,
   "metadata": {},
   "outputs": [
    {
     "name": "stdout",
     "output_type": "stream",
     "text": [
      "[0]\teval-error:0.105263\ttrain-error:0.085044\n",
      "[1]\teval-error:0.105263\ttrain-error:0.083578\n",
      "[2]\teval-error:0.105263\ttrain-error:0.083578\n"
     ]
    }
   ],
   "source": [
    "params = {'max_depth':2,'eta':1,'silent':1,'objective':'binary:logistic'}\n",
    "watchlist =[(dtest,'eval'),(dtrain,'train')] \n",
    "num_round=3\n",
    "bst = xgb.train(params,dtrain,num_round,watchlist)"
   ]
  },
  {
   "cell_type": "code",
   "execution_count": 14,
   "metadata": {
    "scrolled": true
   },
   "outputs": [
    {
     "name": "stdout",
     "output_type": "stream",
     "text": [
      "(76, 2)\n",
      "[[4 6]\n",
      " [4 3]\n",
      " [4 6]\n",
      " [4 6]\n",
      " [4 6]\n",
      " [4 3]\n",
      " [4 6]\n",
      " [4 4]\n",
      " [4 6]\n",
      " [4 3]\n",
      " [4 6]\n",
      " [4 6]\n",
      " [4 3]\n",
      " [6 4]\n",
      " [4 6]\n",
      " [4 3]\n",
      " [4 3]\n",
      " [4 3]\n",
      " [4 4]\n",
      " [4 3]\n",
      " [4 6]\n",
      " [4 6]\n",
      " [4 6]\n",
      " [4 3]\n",
      " [4 6]\n",
      " [4 3]\n",
      " [4 6]\n",
      " [4 6]\n",
      " [4 6]\n",
      " [4 3]\n",
      " [4 6]\n",
      " [4 6]\n",
      " [4 6]\n",
      " [4 6]\n",
      " [4 3]\n",
      " [4 3]\n",
      " [4 4]\n",
      " [4 6]\n",
      " [4 4]\n",
      " [4 3]\n",
      " [4 6]\n",
      " [4 3]\n",
      " [4 3]\n",
      " [4 6]\n",
      " [4 6]\n",
      " [4 3]\n",
      " [4 3]\n",
      " [3 3]\n",
      " [4 4]\n",
      " [4 6]\n",
      " [4 6]\n",
      " [4 3]\n",
      " [4 6]\n",
      " [4 6]\n",
      " [3 4]\n",
      " [4 3]\n",
      " [4 6]\n",
      " [4 6]\n",
      " [4 3]\n",
      " [4 6]\n",
      " [4 6]\n",
      " [4 4]\n",
      " [4 6]\n",
      " [4 3]\n",
      " [4 6]\n",
      " [4 3]\n",
      " [4 4]\n",
      " [4 6]\n",
      " [4 6]\n",
      " [4 3]\n",
      " [4 3]\n",
      " [4 6]\n",
      " [4 6]\n",
      " [4 6]\n",
      " [3 3]\n",
      " [4 6]]\n"
     ]
    }
   ],
   "source": [
    "\n",
    "leafindex = bst.predict(dtest,ntree_limit=2,pred_leaf=True)\n",
    "print(leafindex.shape)\n",
    "print(leafindex)"
   ]
  },
  {
   "cell_type": "code",
   "execution_count": 13,
   "metadata": {},
   "outputs": [
    {
     "name": "stdout",
     "output_type": "stream",
     "text": [
      "(76, 3)\n"
     ]
    }
   ],
   "source": [
    "leafindex = bst.predict(dtest, pred_leaf=True)\n",
    "print(leafindex.shape)"
   ]
  },
  {
   "cell_type": "markdown",
   "metadata": {},
   "source": [
    "### 用XGBClassifier模型进行预测"
   ]
  },
  {
   "cell_type": "code",
   "execution_count": 24,
   "metadata": {},
   "outputs": [],
   "source": [
    "dtrain = xgb.DMatrix(X_train,label=y_train)\n",
    "dtest = xgb.DMatrix(X_test,label=y_test)"
   ]
  },
  {
   "cell_type": "code",
   "execution_count": 25,
   "metadata": {
    "scrolled": true
   },
   "outputs": [],
   "source": [
    "num_round=100\n",
    "model = XGBClassifier(learning_rate = 0.1,\n",
    "                      n_estimators=1000,   #树的个数\n",
    "                      max_depth=6,           #树的深度\n",
    "                      min_child_weight=1,  #叶子节点最小权重\n",
    "                      gamma=0.,              #惩罚项中叶子结点个数前的参数\n",
    "                      subsample=0.8,       #随机选择80%样本建立决策树\n",
    "                      colsample_btree=0.8,#随机选择80%特征建立决策树\n",
    "                      objective = 'multi:softmax',#指定损失函数\n",
    "                      num_class=2,\n",
    "                      scale_pos_weight=1,  #解决样本个数不平衡问题\n",
    "                      random_state=27,     #随机数\n",
    "                     )"
   ]
  },
  {
   "cell_type": "code",
   "execution_count": 26,
   "metadata": {
    "scrolled": true
   },
   "outputs": [
    {
     "name": "stdout",
     "output_type": "stream",
     "text": [
      "[0]\tvalidation_0-mlogloss:0.625208\n",
      "Will train until validation_0-mlogloss hasn't improved in 10 rounds.\n",
      "[1]\tvalidation_0-mlogloss:0.567624\n",
      "[2]\tvalidation_0-mlogloss:0.521388\n",
      "[3]\tvalidation_0-mlogloss:0.484331\n",
      "[4]\tvalidation_0-mlogloss:0.451096\n",
      "[5]\tvalidation_0-mlogloss:0.426219\n",
      "[6]\tvalidation_0-mlogloss:0.404829\n",
      "[7]\tvalidation_0-mlogloss:0.385539\n",
      "[8]\tvalidation_0-mlogloss:0.369283\n",
      "[9]\tvalidation_0-mlogloss:0.354838\n",
      "[10]\tvalidation_0-mlogloss:0.342745\n",
      "[11]\tvalidation_0-mlogloss:0.329837\n",
      "[12]\tvalidation_0-mlogloss:0.318981\n",
      "[13]\tvalidation_0-mlogloss:0.308072\n",
      "[14]\tvalidation_0-mlogloss:0.29945\n",
      "[15]\tvalidation_0-mlogloss:0.290763\n",
      "[16]\tvalidation_0-mlogloss:0.28548\n",
      "[17]\tvalidation_0-mlogloss:0.282849\n",
      "[18]\tvalidation_0-mlogloss:0.281738\n",
      "[19]\tvalidation_0-mlogloss:0.275487\n",
      "[20]\tvalidation_0-mlogloss:0.269904\n",
      "[21]\tvalidation_0-mlogloss:0.267125\n",
      "[22]\tvalidation_0-mlogloss:0.263785\n",
      "[23]\tvalidation_0-mlogloss:0.262723\n",
      "[24]\tvalidation_0-mlogloss:0.25969\n",
      "[25]\tvalidation_0-mlogloss:0.257069\n",
      "[26]\tvalidation_0-mlogloss:0.256289\n",
      "[27]\tvalidation_0-mlogloss:0.255791\n",
      "[28]\tvalidation_0-mlogloss:0.252244\n",
      "[29]\tvalidation_0-mlogloss:0.250842\n",
      "[30]\tvalidation_0-mlogloss:0.249229\n",
      "[31]\tvalidation_0-mlogloss:0.246888\n",
      "[32]\tvalidation_0-mlogloss:0.245389\n",
      "[33]\tvalidation_0-mlogloss:0.24472\n",
      "[34]\tvalidation_0-mlogloss:0.244918\n",
      "[35]\tvalidation_0-mlogloss:0.244759\n",
      "[36]\tvalidation_0-mlogloss:0.244338\n",
      "[37]\tvalidation_0-mlogloss:0.245169\n",
      "[38]\tvalidation_0-mlogloss:0.245281\n",
      "[39]\tvalidation_0-mlogloss:0.244419\n",
      "[40]\tvalidation_0-mlogloss:0.244435\n",
      "[41]\tvalidation_0-mlogloss:0.243136\n",
      "[42]\tvalidation_0-mlogloss:0.244321\n",
      "[43]\tvalidation_0-mlogloss:0.243449\n",
      "[44]\tvalidation_0-mlogloss:0.243505\n",
      "[45]\tvalidation_0-mlogloss:0.243107\n",
      "[46]\tvalidation_0-mlogloss:0.242534\n",
      "[47]\tvalidation_0-mlogloss:0.242648\n",
      "[48]\tvalidation_0-mlogloss:0.243152\n",
      "[49]\tvalidation_0-mlogloss:0.244587\n",
      "[50]\tvalidation_0-mlogloss:0.244119\n",
      "[51]\tvalidation_0-mlogloss:0.244984\n",
      "[52]\tvalidation_0-mlogloss:0.242192\n",
      "[53]\tvalidation_0-mlogloss:0.243949\n",
      "[54]\tvalidation_0-mlogloss:0.242998\n",
      "[55]\tvalidation_0-mlogloss:0.243409\n",
      "[56]\tvalidation_0-mlogloss:0.242786\n",
      "[57]\tvalidation_0-mlogloss:0.24494\n",
      "[58]\tvalidation_0-mlogloss:0.245285\n",
      "[59]\tvalidation_0-mlogloss:0.245868\n",
      "[60]\tvalidation_0-mlogloss:0.247558\n",
      "[61]\tvalidation_0-mlogloss:0.246474\n",
      "[62]\tvalidation_0-mlogloss:0.245179\n",
      "Stopping. Best iteration:\n",
      "[52]\tvalidation_0-mlogloss:0.242192\n",
      "\n"
     ]
    },
    {
     "data": {
      "text/plain": [
       "XGBClassifier(base_score=0.5, booster='gbtree', colsample_btree=0.8,\n",
       "       colsample_bylevel=1, colsample_bytree=1, gamma=0.0,\n",
       "       learning_rate=0.1, max_delta_step=0, max_depth=6,\n",
       "       min_child_weight=1, missing=None, n_estimators=1000, n_jobs=1,\n",
       "       nthread=None, num_class=2, objective='multi:softmax',\n",
       "       random_state=27, reg_alpha=0, reg_lambda=1, scale_pos_weight=1,\n",
       "       seed=None, silent=True, subsample=0.8)"
      ]
     },
     "execution_count": 26,
     "metadata": {},
     "output_type": "execute_result"
    }
   ],
   "source": [
    "model.fit(X_train,y_train,eval_set =[(X_test,y_test)],eval_metric='mlogloss',early_stopping_rounds=10,verbose=True)"
   ]
  },
  {
   "cell_type": "code",
   "execution_count": 27,
   "metadata": {
    "scrolled": true
   },
   "outputs": [
    {
     "data": {
      "text/plain": [
       "<matplotlib.axes._subplots.AxesSubplot at 0x10e9be390>"
      ]
     },
     "execution_count": 27,
     "metadata": {},
     "output_type": "execute_result"
    },
    {
     "data": {
      "image/png": "[encoded data removed]",
      "text/plain": [
       "<Figure size 1080x1080 with 1 Axes>"
      ]
     },
     "metadata": {},
     "output_type": "display_data"
    }
   ],
   "source": [
    "#绘制feature的重要性\n",
    "fig,ax = plt.subplots(figsize=(15,15))\n",
    "plot_importance(model,height=0.5,ax=ax,max_num_features=64)"
   ]
  },
  {
   "cell_type": "code",
   "execution_count": 28,
   "metadata": {},
   "outputs": [
    {
     "name": "stderr",
     "output_type": "stream",
     "text": [
      "/usr/local/anaconda3/lib/python3.6/site-packages/sklearn/preprocessing/label.py:151: DeprecationWarning: The truth value of an empty array is ambiguous. Returning False, but in future this will result in an error. Use `array.size > 0` to check that an array is not empty.\n",
      "  if diff:\n"
     ]
    }
   ],
   "source": [
    "pred = model.predict(X_test)"
   ]
  },
  {
   "cell_type": "code",
   "execution_count": 29,
   "metadata": {},
   "outputs": [
    {
     "data": {
      "text/plain": [
       "array([0, 0, 0, 0, 0, 0, 0, 0, 0, 0, 0, 0, 0, 1, 0, 0, 0, 0, 0, 0, 0, 0,\n",
       "       0, 0, 0, 0, 0, 0, 0, 0, 0, 0, 0, 0, 0, 0, 0, 0, 0, 0, 0, 0, 0, 0,\n",
       "       0, 0, 0, 1, 1, 0, 0, 0, 0, 0, 0, 0, 0, 0, 0, 0, 0, 0, 0, 0, 0, 0,\n",
       "       0, 0, 0, 0, 0, 0, 0, 0, 1, 0])"
      ]
     },
     "execution_count": 29,
     "metadata": {},
     "output_type": "execute_result"
    }
   ],
   "source": [
    "pred"
   ]
  },
  {
   "cell_type": "code",
   "execution_count": 30,
   "metadata": {
    "scrolled": false
   },
   "outputs": [
    {
     "name": "stdout",
     "output_type": "stream",
     "text": [
      "Precision_Score:0.7083333333333333\n",
      "accuracy:89.47%\n"
     ]
    }
   ],
   "source": [
    "#该预测的精度\n",
    "from sklearn.metrics import precision_score\n",
    "print('Precision_Score:'+str(precision_score(y_test,pred,average='macro')))\n",
    "\n",
    "#模型评估\n",
    "from sklearn.metrics import accuracy_score\n",
    "accuracy = accuracy_score(y_test,pred)\n",
    "print('accuracy:%.2f%%' %(accuracy*100.0))"
   ]
  },
  {
   "cell_type": "code",
   "execution_count": null,
   "metadata": {},
   "outputs": [],
   "source": []
  },
  {
   "cell_type": "code",
   "execution_count": null,
   "metadata": {},
   "outputs": [],
   "source": []
  },
  {
   "cell_type": "markdown",
   "metadata": {},
   "source": [
    "### Pearson相关性分析"
   ]
  },
  {
   "cell_type": "code",
   "execution_count": 176,
   "metadata": {
    "scrolled": true
   },
   "outputs": [
    {
     "data": {
      "text/plain": [
       "[('ts', -0.2883084452776026),\n",
       " ('input_water_ss', -0.12340412392641328),\n",
       " ('input_water_ammonia', -0.1207493104150717),\n",
       " ('miss', -0.10809656924228259),\n",
       " ('input_wind_openness', -0.07216276135557602),\n",
       " ('input_wind_throughput', -0.049290039114645134),\n",
       " ('water_level', -0.026388351472986234),\n",
       " ('input_water_cod', -0.025408401245447285),\n",
       " ('output_water_ss', 0.03179729986241738),\n",
       " ('do', 0.09183393910192708),\n",
       " ('input_water_ph', 0.1380970352349247),\n",
       " ('output_water_ammonia', 0.3778876871384895),\n",
       " ('output_water_phosphorus', 0.42997343159307655),\n",
       " ('label', 1.0)]"
      ]
     },
     "execution_count": 176,
     "metadata": {},
     "output_type": "execute_result"
    }
   ],
   "source": [
    "#用Pearson相关，求feature_importance\n",
    "from scipy.stats import pearsonr\n",
    "columns = X_train.columns\n",
    "\n",
    "feature_importance=[(column,pearsonr(X_train[column],y_train)[0]) for column in columns]\n",
    "feature_importance.sort(key=lambda x:x[1])\n",
    "\n",
    "feature_importance"
   ]
  },
  {
   "cell_type": "markdown",
   "metadata": {},
   "source": [
    "通过Pearson相关得到的feature和label的线性关系并不明显"
   ]
  },
  {
   "cell_type": "markdown",
   "metadata": {},
   "source": [
    "### 使用线性模型L1做特征选择 "
   ]
  },
  {
   "cell_type": "code",
   "execution_count": 101,
   "metadata": {},
   "outputs": [
    {
     "name": "stdout",
     "output_type": "stream",
     "text": [
      "0.7959558823529411\n"
     ]
    },
    {
     "data": {
      "text/plain": [
       "[('ts', -4.024636665429571e-11),\n",
       " ('miss', -3.972560926063287e-05),\n",
       " ('input_wind_throughput', -4.102525863031357e-05),\n",
       " ('input_water_cod', -0.00039818340669135527),\n",
       " ('input_water_ss', -0.0015074692004011974),\n",
       " ('input_wind_openness', 0.005366042201123543),\n",
       " ('input_water_ph', 0.017618396090336812),\n",
       " ('output_water_ss', -0.03757238793274894),\n",
       " ('input_water_ammonia', -0.039366079931155096),\n",
       " ('output_water_ammonia', 0.09127269804466788),\n",
       " ('do', 0.10092172540272301),\n",
       " ('water_level', -0.13943815332982443),\n",
       " ('output_water_phosphorus', 0.8457689095376573)]"
      ]
     },
     "execution_count": 101,
     "metadata": {},
     "output_type": "execute_result"
    }
   ],
   "source": [
    "from sklearn.linear_model import LogisticRegression\n",
    "from sklearn.metrics import roc_auc_score\n",
    "X_train, X_test, y_train, y_test = train_test_split(x, y, test_size=0.1, random_state=0)\n",
    "lr=LogisticRegression(penalty='l1',random_state=0).fit(X_train,y_train)\n",
    "pred=lr.predict_proba(X_test)[:,1]\n",
    "print(roc_auc_score(y_test,pred))\n",
    " \n",
    "feature_importance=[(i[0],i[1]) for i in zip(columns,lr.coef_[0])]\n",
    "feature_importance.sort(key=lambda x:np.abs(x[1]))\n",
    "#特征系数\n",
    "feature_importance"
   ]
  },
  {
   "cell_type": "markdown",
   "metadata": {},
   "source": [
    "### 使用线性模型L2进行特征选择"
   ]
  },
  {
   "cell_type": "code",
   "execution_count": 102,
   "metadata": {},
   "outputs": [
    {
     "name": "stdout",
     "output_type": "stream",
     "text": [
      "0.7628676470588235\n"
     ]
    },
    {
     "data": {
      "text/plain": [
       "[('do', -3.2476148692454115e-19),\n",
       " ('output_water_phosphorus', 4.9317584691110855e-19),\n",
       " ('output_water_ss', -5.226903562539908e-18),\n",
       " ('water_level', -5.658971879091991e-18),\n",
       " ('input_water_ph', -6.924287011910742e-18),\n",
       " ('output_water_ammonia', 9.931940696695707e-18),\n",
       " ('input_water_ammonia', -4.2657723134179207e-17),\n",
       " ('input_wind_openness', -5.1575881173874646e-17),\n",
       " ('input_water_cod', -3.030316530688926e-16),\n",
       " ('input_water_ss', -8.156270777870916e-16),\n",
       " ('input_wind_throughput', -1.9735554170796883e-15),\n",
       " ('miss', -4.77459009369226e-15),\n",
       " ('ts', -1.5694231525070371e-09)]"
      ]
     },
     "execution_count": 102,
     "metadata": {},
     "output_type": "execute_result"
    }
   ],
   "source": [
    "X_train2, X_test2, y_train2, y_test2 = train_test_split(x, y, test_size=0.1, random_state=0)\n",
    "lr=LogisticRegression(penalty='l2',random_state=0).fit(X_train2,y_train2)\n",
    "pred=lr.predict_proba(X_test2)[:,1]\n",
    "print(roc_auc_score(y_test2,pred))\n",
    " \n",
    "feature_importance=[(i[0],i[1]) for i in zip(columns,lr.coef_[0])]\n",
    "feature_importance.sort(key=lambda x:np.abs(x[1]))\n",
    "feature_importance"
   ]
  },
  {
   "cell_type": "markdown",
   "metadata": {},
   "source": [
    "### 使用平均精确率减少做特征选择"
   ]
  },
  {
   "cell_type": "code",
   "execution_count": 172,
   "metadata": {},
   "outputs": [],
   "source": [
    "from sklearn.metrics import r2_score\n",
    "from collections import defaultdict\n",
    "\n",
    "X_train, X_test, y_train, y_test = train_test_split(x, y, test_size=0.1, random_state=0)\n",
    "rf=RandomForestClassifier(n_estimators=300,max_depth=7,min_samples_split=10,min_samples_leaf=10,n_jobs=7,random_state=0)\n",
    "scores = defaultdict(list)\n"
   ]
  },
  {
   "cell_type": "code",
   "execution_count": 173,
   "metadata": {},
   "outputs": [
    {
     "data": {
      "text/plain": [
       "[(-0.0815, 'input_wind_throughput'),\n",
       " (-0.08, 'miss'),\n",
       " (-0.0301, 'output_water_ss'),\n",
       " (-0.0207, 'do'),\n",
       " (-0.0058, 'input_wind_openness'),\n",
       " (0.0123, 'water_level'),\n",
       " (0.0539, 'input_water_ss'),\n",
       " (0.085, 'input_water_ph'),\n",
       " (0.0899, 'input_water_ammonia'),\n",
       " (0.2549, 'output_water_ammonia'),\n",
       " (0.3135, 'ts'),\n",
       " (0.3167, 'output_water_phosphorus'),\n",
       " (0.6436, 'input_water_cod')]"
      ]
     },
     "execution_count": 173,
     "metadata": {},
     "output_type": "execute_result"
    }
   ],
   "source": [
    "from sklearn.cross_validation import ShuffleSplit\n",
    "for train_idx, test_idx in ShuffleSplit(len(X_train), 3, 0.3):\n",
    "    x_train, X_test = X_train.values[train_idx], X_train.values[test_idx]\n",
    "    Y_train, Y_test = y_train.values[train_idx], y_train.values[test_idx]\n",
    "    r = rf.fit(x_train, Y_train)\n",
    "    acc = r2_score(Y_test, rf.predict_proba(X_test)[:,1])\n",
    "    for i in range(x_train.shape[1]):\n",
    "        X_t = X_test.copy()\n",
    "        np.random.shuffle(X_t[:, i])\n",
    "        shuff_acc = r2_score(Y_test, rf.predict_proba(X_t)[:,1])\n",
    "        scores[columns[i]].append((acc - shuff_acc) / acc)\n",
    "feature_impotance=sorted([(round(np.mean(score), 4), feat) for feat, score in scores.items()])\n",
    "feature_impotance"
   ]
  },
  {
   "cell_type": "markdown",
   "metadata": {},
   "source": [
    "### 顶级特征选择算法 ???"
   ]
  },
  {
   "cell_type": "code",
   "execution_count": 174,
   "metadata": {},
   "outputs": [],
   "source": [
    "#稳定性选择 \n",
    "from sklearn.linear_model import  RandomizedLasso\n",
    "\n",
    "Y=sampled_data['label']\n",
    "X=sampled_data.drop(['datetime','output_water_cod'],axis=1)\n",
    "names=data.columns\n",
    "\n",
    "rlasso = RandomizedLasso()\n",
    "rlasso.fit(X,Y)"
   ]
  },
  {
   "cell_type": "code",
   "execution_count": 167,
   "metadata": {},
   "outputs": [
    {
     "name": "stdout",
     "output_type": "stream",
     "text": [
      "Features sorted by their score:\n"
     ]
    },
    {
     "data": {
      "text/plain": [
       "[(0.0, 'datetime'),\n",
       " (0.0, 'do'),\n",
       " (0.0, 'input_water_ammonia'),\n",
       " (0.0, 'input_water_cod'),\n",
       " (0.0, 'input_water_ph'),\n",
       " (0.0, 'input_wind_openness'),\n",
       " (0.0, 'input_wind_throughput'),\n",
       " (0.0, 'miss'),\n",
       " (0.0, 'output_water_cod'),\n",
       " (0.0, 'output_water_phosphorus'),\n",
       " (0.0, 'ts'),\n",
       " (0.0, 'water_level'),\n",
       " (0.005, 'output_water_ammonia'),\n",
       " (1.0, 'input_water_ss')]"
      ]
     },
     "execution_count": 167,
     "metadata": {},
     "output_type": "execute_result"
    }
   ],
   "source": [
    "print(\"Features sorted by their score:\")\n",
    "feature_importance=sorted(zip(map(lambda x: round(x, 4), rlasso.scores_),names))\n",
    "feature_importance"
   ]
  },
  {
   "cell_type": "code",
   "execution_count": 175,
   "metadata": {},
   "outputs": [
    {
     "name": "stdout",
     "output_type": "stream",
     "text": [
      "Fitting estimator with 14 features.\n",
      "Fitting estimator with 13 features.\n",
      "Fitting estimator with 12 features.\n",
      "Fitting estimator with 11 features.\n",
      "Fitting estimator with 10 features.\n",
      "Fitting estimator with 9 features.\n",
      "Fitting estimator with 8 features.\n",
      "Fitting estimator with 7 features.\n",
      "Fitting estimator with 6 features.\n",
      "Fitting estimator with 5 features.\n",
      "Fitting estimator with 4 features.\n",
      "Fitting estimator with 3 features.\n",
      "Fitting estimator with 2 features.\n",
      "Features sorted by their rank:\n"
     ]
    },
    {
     "data": {
      "text/plain": [
       "[(14, 'output_water_ss'),\n",
       " (13, 'input_wind_throughput'),\n",
       " (12, 'input_wind_openness'),\n",
       " (11, 'input_water_ss'),\n",
       " (10, 'water_level'),\n",
       " (9, 'input_water_ammonia'),\n",
       " (8, 'miss'),\n",
       " (7, 'do'),\n",
       " (6, 'input_water_cod'),\n",
       " (5, 'ts'),\n",
       " (4, 'output_water_ammonia'),\n",
       " (3, 'input_water_ph'),\n",
       " (2, 'output_water_phosphorus')]"
      ]
     },
     "execution_count": 175,
     "metadata": {},
     "output_type": "execute_result"
    }
   ],
   "source": [
    "#递归特征消除 Recursive feature elimination (RFE)\n",
    "from sklearn.feature_selection import RFE\n",
    " \n",
    "X_train, X_test, y_train, y_test = train_test_split(X, Y, test_size=0.5, random_state=0)\n",
    "# use linear regression as the model\n",
    "rf = RandomForestClassifier()\n",
    "# rank all features, i.e continue the elimination until the last one\n",
    "rfe = RFE(rf, n_features_to_select=1,verbose=1)\n",
    "rfe.fit(X_train, y_train)\n",
    "\n",
    "print(\"Features sorted by their rank:\")\n",
    "feature_importance=(sorted(zip(map(lambda x: round(x, 4), rfe.ranking_), columns),reverse=True))\n",
    "feature_importance\n"
   ]
  },
  {
   "cell_type": "code",
   "execution_count": null,
   "metadata": {},
   "outputs": [],
   "source": []
  }
 ],
 "metadata": {
  "kernelspec": {
   "display_name": "Python 3",
   "language": "python",
   "name": "python3"
  },
  "language_info": {
   "codemirror_mode": {
    "name": "ipython",
    "version": 3
   },
   "file_extension": ".py",
   "mimetype": "text/x-python",
   "name": "python",
   "nbconvert_exporter": "python",
   "pygments_lexer": "ipython3",
   "version": "3.6.5"
  }
 },
 "nbformat": 4,
 "nbformat_minor": 2
}
