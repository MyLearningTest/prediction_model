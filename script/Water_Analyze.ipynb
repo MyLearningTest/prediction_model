{
 "cells": [
  {
   "cell_type": "code",
   "execution_count": 1,
   "metadata": {},
   "outputs": [],
   "source": [
    "import pandas as pd\n",
    "import numpy as np"
   ]
  },
  {
   "cell_type": "code",
   "execution_count": 2,
   "metadata": {},
   "outputs": [],
   "source": [
    "df = pd.read_csv('/Users/haixiangliu/Documents/水质数据及代码模型/water_clean_data.csv')"
   ]
  },
  {
   "cell_type": "code",
   "execution_count": 3,
   "metadata": {},
   "outputs": [],
   "source": [
    "df.columns=['datetime','water_level','do','miss','input_wind_throughput','input_wind_openness','ts','input_water_cod','output_water_cod','input_water_ammonia','output_water_ammonia','input_water_ph','output_water_phosphorus','input_water_ss','output_water_ss']"
   ]
  },
  {
   "cell_type": "code",
   "execution_count": 4,
   "metadata": {
    "scrolled": false
   },
   "outputs": [
    {
     "data": {
      "text/html": [
       "<div>\n",
       "<style scoped>\n",
       "    .dataframe tbody tr th:only-of-type {\n",
       "        vertical-align: middle;\n",
       "    }\n",
       "\n",
       "    .dataframe tbody tr th {\n",
       "        vertical-align: top;\n",
       "    }\n",
       "\n",
       "    .dataframe thead th {\n",
       "        text-align: right;\n",
       "    }\n",
       "</style>\n",
       "<table border=\"1\" class=\"dataframe\">\n",
       "  <thead>\n",
       "    <tr style=\"text-align: right;\">\n",
       "      <th></th>\n",
       "      <th>datetime</th>\n",
       "      <th>water_level</th>\n",
       "      <th>do</th>\n",
       "      <th>miss</th>\n",
       "      <th>input_wind_throughput</th>\n",
       "      <th>input_wind_openness</th>\n",
       "      <th>ts</th>\n",
       "      <th>input_water_cod</th>\n",
       "      <th>output_water_cod</th>\n",
       "      <th>input_water_ammonia</th>\n",
       "      <th>output_water_ammonia</th>\n",
       "      <th>input_water_ph</th>\n",
       "      <th>output_water_phosphorus</th>\n",
       "      <th>input_water_ss</th>\n",
       "      <th>output_water_ss</th>\n",
       "    </tr>\n",
       "  </thead>\n",
       "  <tbody>\n",
       "    <tr>\n",
       "      <th>0</th>\n",
       "      <td>2010-07-10 16:00:00</td>\n",
       "      <td>5.52</td>\n",
       "      <td>2.3</td>\n",
       "      <td>137.0</td>\n",
       "      <td>0</td>\n",
       "      <td>0</td>\n",
       "      <td>1.278745e+09</td>\n",
       "      <td>214</td>\n",
       "      <td>24</td>\n",
       "      <td>5.0</td>\n",
       "      <td>7</td>\n",
       "      <td>6.0</td>\n",
       "      <td>0.0</td>\n",
       "      <td>1192</td>\n",
       "      <td>8</td>\n",
       "    </tr>\n",
       "    <tr>\n",
       "      <th>1</th>\n",
       "      <td>2010-07-10 18:00:00</td>\n",
       "      <td>4.45</td>\n",
       "      <td>1.9</td>\n",
       "      <td>142.0</td>\n",
       "      <td>0</td>\n",
       "      <td>0</td>\n",
       "      <td>1.278752e+09</td>\n",
       "      <td>292</td>\n",
       "      <td>22</td>\n",
       "      <td>4.0</td>\n",
       "      <td>6</td>\n",
       "      <td>6.0</td>\n",
       "      <td>0.0</td>\n",
       "      <td>419</td>\n",
       "      <td>6</td>\n",
       "    </tr>\n",
       "    <tr>\n",
       "      <th>2</th>\n",
       "      <td>2010-07-10 20:00:00</td>\n",
       "      <td>4.46</td>\n",
       "      <td>1.4</td>\n",
       "      <td>117.0</td>\n",
       "      <td>0</td>\n",
       "      <td>0</td>\n",
       "      <td>1.278760e+09</td>\n",
       "      <td>269</td>\n",
       "      <td>22</td>\n",
       "      <td>4.0</td>\n",
       "      <td>6</td>\n",
       "      <td>6.0</td>\n",
       "      <td>0.0</td>\n",
       "      <td>437</td>\n",
       "      <td>6</td>\n",
       "    </tr>\n",
       "    <tr>\n",
       "      <th>3</th>\n",
       "      <td>2010-07-10 22:00:00</td>\n",
       "      <td>5.23</td>\n",
       "      <td>3.8</td>\n",
       "      <td>1463.0</td>\n",
       "      <td>5786</td>\n",
       "      <td>100</td>\n",
       "      <td>1.278767e+09</td>\n",
       "      <td>242</td>\n",
       "      <td>24</td>\n",
       "      <td>6.0</td>\n",
       "      <td>7</td>\n",
       "      <td>6.0</td>\n",
       "      <td>0.0</td>\n",
       "      <td>254</td>\n",
       "      <td>8</td>\n",
       "    </tr>\n",
       "    <tr>\n",
       "      <th>4</th>\n",
       "      <td>2010-07-11 04:00:00</td>\n",
       "      <td>5.00</td>\n",
       "      <td>3.3</td>\n",
       "      <td>1490.0</td>\n",
       "      <td>5881</td>\n",
       "      <td>100</td>\n",
       "      <td>1.278788e+09</td>\n",
       "      <td>324</td>\n",
       "      <td>24</td>\n",
       "      <td>20.0</td>\n",
       "      <td>7</td>\n",
       "      <td>6.0</td>\n",
       "      <td>0.0</td>\n",
       "      <td>176</td>\n",
       "      <td>9</td>\n",
       "    </tr>\n",
       "  </tbody>\n",
       "</table>\n",
       "</div>"
      ],
      "text/plain": [
       "              datetime  water_level   do    miss  input_wind_throughput  \\\n",
       "0  2010-07-10 16:00:00         5.52  2.3   137.0                      0   \n",
       "1  2010-07-10 18:00:00         4.45  1.9   142.0                      0   \n",
       "2  2010-07-10 20:00:00         4.46  1.4   117.0                      0   \n",
       "3  2010-07-10 22:00:00         5.23  3.8  1463.0                   5786   \n",
       "4  2010-07-11 04:00:00         5.00  3.3  1490.0                   5881   \n",
       "\n",
       "   input_wind_openness            ts  input_water_cod  output_water_cod  \\\n",
       "0                    0  1.278745e+09              214                24   \n",
       "1                    0  1.278752e+09              292                22   \n",
       "2                    0  1.278760e+09              269                22   \n",
       "3                  100  1.278767e+09              242                24   \n",
       "4                  100  1.278788e+09              324                24   \n",
       "\n",
       "   input_water_ammonia  output_water_ammonia  input_water_ph  \\\n",
       "0                  5.0                     7             6.0   \n",
       "1                  4.0                     6             6.0   \n",
       "2                  4.0                     6             6.0   \n",
       "3                  6.0                     7             6.0   \n",
       "4                 20.0                     7             6.0   \n",
       "\n",
       "   output_water_phosphorus  input_water_ss  output_water_ss  \n",
       "0                      0.0            1192                8  \n",
       "1                      0.0             419                6  \n",
       "2                      0.0             437                6  \n",
       "3                      0.0             254                8  \n",
       "4                      0.0             176                9  "
      ]
     },
     "execution_count": 4,
     "metadata": {},
     "output_type": "execute_result"
    }
   ],
   "source": [
    "df.head()"
   ]
  },
  {
   "cell_type": "code",
   "execution_count": 5,
   "metadata": {
    "scrolled": true
   },
   "outputs": [
    {
     "data": {
      "text/html": [
       "<div>\n",
       "<style scoped>\n",
       "    .dataframe tbody tr th:only-of-type {\n",
       "        vertical-align: middle;\n",
       "    }\n",
       "\n",
       "    .dataframe tbody tr th {\n",
       "        vertical-align: top;\n",
       "    }\n",
       "\n",
       "    .dataframe thead th {\n",
       "        text-align: right;\n",
       "    }\n",
       "</style>\n",
       "<table border=\"1\" class=\"dataframe\">\n",
       "  <thead>\n",
       "    <tr style=\"text-align: right;\">\n",
       "      <th></th>\n",
       "      <th>water_level</th>\n",
       "      <th>do</th>\n",
       "      <th>miss</th>\n",
       "      <th>input_wind_throughput</th>\n",
       "      <th>input_wind_openness</th>\n",
       "      <th>ts</th>\n",
       "      <th>input_water_cod</th>\n",
       "      <th>output_water_cod</th>\n",
       "      <th>input_water_ammonia</th>\n",
       "      <th>output_water_ammonia</th>\n",
       "      <th>input_water_ph</th>\n",
       "      <th>output_water_phosphorus</th>\n",
       "      <th>input_water_ss</th>\n",
       "      <th>output_water_ss</th>\n",
       "    </tr>\n",
       "  </thead>\n",
       "  <tbody>\n",
       "    <tr>\n",
       "      <th>count</th>\n",
       "      <td>34024.000000</td>\n",
       "      <td>34024.000000</td>\n",
       "      <td>34024.000000</td>\n",
       "      <td>34035.000000</td>\n",
       "      <td>34035.000000</td>\n",
       "      <td>3.403500e+04</td>\n",
       "      <td>34035.000000</td>\n",
       "      <td>34035.000000</td>\n",
       "      <td>34035.000000</td>\n",
       "      <td>34035.000000</td>\n",
       "      <td>34035.000000</td>\n",
       "      <td>34035.000000</td>\n",
       "      <td>34035.000000</td>\n",
       "      <td>34035.000000</td>\n",
       "    </tr>\n",
       "    <tr>\n",
       "      <th>mean</th>\n",
       "      <td>5.229836</td>\n",
       "      <td>0.636292</td>\n",
       "      <td>3516.282242</td>\n",
       "      <td>1796.653739</td>\n",
       "      <td>46.740620</td>\n",
       "      <td>1.402362e+09</td>\n",
       "      <td>267.427530</td>\n",
       "      <td>16.015131</td>\n",
       "      <td>34.131039</td>\n",
       "      <td>-6.738416</td>\n",
       "      <td>7.077556</td>\n",
       "      <td>-0.293184</td>\n",
       "      <td>374.066843</td>\n",
       "      <td>5.139180</td>\n",
       "    </tr>\n",
       "    <tr>\n",
       "      <th>std</th>\n",
       "      <td>0.457183</td>\n",
       "      <td>1.151433</td>\n",
       "      <td>3227.756050</td>\n",
       "      <td>2296.794793</td>\n",
       "      <td>49.835435</td>\n",
       "      <td>5.854110e+07</td>\n",
       "      <td>146.413104</td>\n",
       "      <td>5.670968</td>\n",
       "      <td>10.554799</td>\n",
       "      <td>7.072431</td>\n",
       "      <td>2.503650</td>\n",
       "      <td>0.281792</td>\n",
       "      <td>678.153800</td>\n",
       "      <td>2.200128</td>\n",
       "    </tr>\n",
       "    <tr>\n",
       "      <th>min</th>\n",
       "      <td>-1.750000</td>\n",
       "      <td>-3.800000</td>\n",
       "      <td>-1875.000000</td>\n",
       "      <td>-13.000000</td>\n",
       "      <td>-19.000000</td>\n",
       "      <td>1.278745e+09</td>\n",
       "      <td>2.000000</td>\n",
       "      <td>1.000000</td>\n",
       "      <td>-22.500000</td>\n",
       "      <td>-258.000000</td>\n",
       "      <td>-2.630000</td>\n",
       "      <td>-0.380000</td>\n",
       "      <td>-375.000000</td>\n",
       "      <td>-19.000000</td>\n",
       "    </tr>\n",
       "    <tr>\n",
       "      <th>25%</th>\n",
       "      <td>5.020000</td>\n",
       "      <td>0.100000</td>\n",
       "      <td>94.000000</td>\n",
       "      <td>0.000000</td>\n",
       "      <td>0.000000</td>\n",
       "      <td>1.356034e+09</td>\n",
       "      <td>190.000000</td>\n",
       "      <td>13.000000</td>\n",
       "      <td>28.900000</td>\n",
       "      <td>-9.000000</td>\n",
       "      <td>7.220000</td>\n",
       "      <td>-0.380000</td>\n",
       "      <td>-375.000000</td>\n",
       "      <td>4.000000</td>\n",
       "    </tr>\n",
       "    <tr>\n",
       "      <th>50%</th>\n",
       "      <td>5.480000</td>\n",
       "      <td>0.300000</td>\n",
       "      <td>3404.500000</td>\n",
       "      <td>0.000000</td>\n",
       "      <td>0.000000</td>\n",
       "      <td>1.418692e+09</td>\n",
       "      <td>235.000000</td>\n",
       "      <td>16.000000</td>\n",
       "      <td>34.300000</td>\n",
       "      <td>-9.000000</td>\n",
       "      <td>7.450000</td>\n",
       "      <td>-0.380000</td>\n",
       "      <td>331.000000</td>\n",
       "      <td>5.000000</td>\n",
       "    </tr>\n",
       "    <tr>\n",
       "      <th>75%</th>\n",
       "      <td>5.500000</td>\n",
       "      <td>0.600000</td>\n",
       "      <td>6105.000000</td>\n",
       "      <td>4250.000000</td>\n",
       "      <td>100.000000</td>\n",
       "      <td>1.451900e+09</td>\n",
       "      <td>303.000000</td>\n",
       "      <td>18.000000</td>\n",
       "      <td>39.800000</td>\n",
       "      <td>-9.000000</td>\n",
       "      <td>7.770000</td>\n",
       "      <td>-0.380000</td>\n",
       "      <td>835.000000</td>\n",
       "      <td>6.000000</td>\n",
       "    </tr>\n",
       "    <tr>\n",
       "      <th>max</th>\n",
       "      <td>6.050000</td>\n",
       "      <td>18.500000</td>\n",
       "      <td>10055.000000</td>\n",
       "      <td>8464.000000</td>\n",
       "      <td>100.000000</td>\n",
       "      <td>1.484806e+09</td>\n",
       "      <td>2007.000000</td>\n",
       "      <td>116.000000</td>\n",
       "      <td>121.200000</td>\n",
       "      <td>58.000000</td>\n",
       "      <td>14.050000</td>\n",
       "      <td>2.310000</td>\n",
       "      <td>2027.000000</td>\n",
       "      <td>100.000000</td>\n",
       "    </tr>\n",
       "  </tbody>\n",
       "</table>\n",
       "</div>"
      ],
      "text/plain": [
       "        water_level            do          miss  input_wind_throughput  \\\n",
       "count  34024.000000  34024.000000  34024.000000           34035.000000   \n",
       "mean       5.229836      0.636292   3516.282242            1796.653739   \n",
       "std        0.457183      1.151433   3227.756050            2296.794793   \n",
       "min       -1.750000     -3.800000  -1875.000000             -13.000000   \n",
       "25%        5.020000      0.100000     94.000000               0.000000   \n",
       "50%        5.480000      0.300000   3404.500000               0.000000   \n",
       "75%        5.500000      0.600000   6105.000000            4250.000000   \n",
       "max        6.050000     18.500000  10055.000000            8464.000000   \n",
       "\n",
       "       input_wind_openness            ts  input_water_cod  output_water_cod  \\\n",
       "count         34035.000000  3.403500e+04     34035.000000      34035.000000   \n",
       "mean             46.740620  1.402362e+09       267.427530         16.015131   \n",
       "std              49.835435  5.854110e+07       146.413104          5.670968   \n",
       "min             -19.000000  1.278745e+09         2.000000          1.000000   \n",
       "25%               0.000000  1.356034e+09       190.000000         13.000000   \n",
       "50%               0.000000  1.418692e+09       235.000000         16.000000   \n",
       "75%             100.000000  1.451900e+09       303.000000         18.000000   \n",
       "max             100.000000  1.484806e+09      2007.000000        116.000000   \n",
       "\n",
       "       input_water_ammonia  output_water_ammonia  input_water_ph  \\\n",
       "count         34035.000000          34035.000000    34035.000000   \n",
       "mean             34.131039             -6.738416        7.077556   \n",
       "std              10.554799              7.072431        2.503650   \n",
       "min             -22.500000           -258.000000       -2.630000   \n",
       "25%              28.900000             -9.000000        7.220000   \n",
       "50%              34.300000             -9.000000        7.450000   \n",
       "75%              39.800000             -9.000000        7.770000   \n",
       "max             121.200000             58.000000       14.050000   \n",
       "\n",
       "       output_water_phosphorus  input_water_ss  output_water_ss  \n",
       "count             34035.000000    34035.000000     34035.000000  \n",
       "mean                 -0.293184      374.066843         5.139180  \n",
       "std                   0.281792      678.153800         2.200128  \n",
       "min                  -0.380000     -375.000000       -19.000000  \n",
       "25%                  -0.380000     -375.000000         4.000000  \n",
       "50%                  -0.380000      331.000000         5.000000  \n",
       "75%                  -0.380000      835.000000         6.000000  \n",
       "max                   2.310000     2027.000000       100.000000  "
      ]
     },
     "execution_count": 5,
     "metadata": {},
     "output_type": "execute_result"
    }
   ],
   "source": [
    "df.describe()"
   ]
  },
  {
   "cell_type": "code",
   "execution_count": 6,
   "metadata": {
    "scrolled": false
   },
   "outputs": [
    {
     "name": "stdout",
     "output_type": "stream",
     "text": [
      "<class 'pandas.core.frame.DataFrame'>\n",
      "RangeIndex: 34035 entries, 0 to 34034\n",
      "Data columns (total 15 columns):\n",
      "datetime                   34035 non-null object\n",
      "water_level                34024 non-null float64\n",
      "do                         34024 non-null float64\n",
      "miss                       34024 non-null float64\n",
      "input_wind_throughput      34035 non-null int64\n",
      "input_wind_openness        34035 non-null int64\n",
      "ts                         34035 non-null float64\n",
      "input_water_cod            34035 non-null int64\n",
      "output_water_cod           34035 non-null int64\n",
      "input_water_ammonia        34035 non-null float64\n",
      "output_water_ammonia       34035 non-null int64\n",
      "input_water_ph             34035 non-null float64\n",
      "output_water_phosphorus    34035 non-null float64\n",
      "input_water_ss             34035 non-null int64\n",
      "output_water_ss            34035 non-null int64\n",
      "dtypes: float64(7), int64(7), object(1)\n",
      "memory usage: 3.9+ MB\n"
     ]
    }
   ],
   "source": [
    "df.info()"
   ]
  },
  {
   "cell_type": "markdown",
   "metadata": {},
   "source": [
    "\n",
    "water_level、do、miss列存在缺失值"
   ]
  },
  {
   "cell_type": "code",
   "execution_count": 7,
   "metadata": {},
   "outputs": [
    {
     "data": {
      "text/html": [
       "<div>\n",
       "<style scoped>\n",
       "    .dataframe tbody tr th:only-of-type {\n",
       "        vertical-align: middle;\n",
       "    }\n",
       "\n",
       "    .dataframe tbody tr th {\n",
       "        vertical-align: top;\n",
       "    }\n",
       "\n",
       "    .dataframe thead th {\n",
       "        text-align: right;\n",
       "    }\n",
       "</style>\n",
       "<table border=\"1\" class=\"dataframe\">\n",
       "  <thead>\n",
       "    <tr style=\"text-align: right;\">\n",
       "      <th></th>\n",
       "      <th>datetime</th>\n",
       "      <th>water_level</th>\n",
       "      <th>do</th>\n",
       "      <th>miss</th>\n",
       "      <th>input_wind_throughput</th>\n",
       "      <th>input_wind_openness</th>\n",
       "      <th>ts</th>\n",
       "      <th>input_water_cod</th>\n",
       "      <th>output_water_cod</th>\n",
       "      <th>input_water_ammonia</th>\n",
       "      <th>output_water_ammonia</th>\n",
       "      <th>input_water_ph</th>\n",
       "      <th>output_water_phosphorus</th>\n",
       "      <th>input_water_ss</th>\n",
       "      <th>output_water_ss</th>\n",
       "    </tr>\n",
       "  </thead>\n",
       "  <tbody>\n",
       "    <tr>\n",
       "      <th>34030</th>\n",
       "      <td>NaN</td>\n",
       "      <td>4.47</td>\n",
       "      <td>0.4</td>\n",
       "      <td>22.0</td>\n",
       "      <td>0.0</td>\n",
       "      <td>0.0</td>\n",
       "      <td>1.484791e+09</td>\n",
       "      <td>198</td>\n",
       "      <td>8</td>\n",
       "      <td>28.6</td>\n",
       "      <td>NaN</td>\n",
       "      <td>7.19</td>\n",
       "      <td>NaN</td>\n",
       "      <td>746.0</td>\n",
       "      <td>4.0</td>\n",
       "    </tr>\n",
       "    <tr>\n",
       "      <th>34031</th>\n",
       "      <td>NaN</td>\n",
       "      <td>5.48</td>\n",
       "      <td>0.2</td>\n",
       "      <td>4832.0</td>\n",
       "      <td>2525.0</td>\n",
       "      <td>100.0</td>\n",
       "      <td>1.484795e+09</td>\n",
       "      <td>198</td>\n",
       "      <td>8</td>\n",
       "      <td>28.6</td>\n",
       "      <td>NaN</td>\n",
       "      <td>7.23</td>\n",
       "      <td>NaN</td>\n",
       "      <td>594.0</td>\n",
       "      <td>4.0</td>\n",
       "    </tr>\n",
       "    <tr>\n",
       "      <th>34032</th>\n",
       "      <td>NaN</td>\n",
       "      <td>5.49</td>\n",
       "      <td>0.6</td>\n",
       "      <td>5790.0</td>\n",
       "      <td>3845.0</td>\n",
       "      <td>100.0</td>\n",
       "      <td>1.484798e+09</td>\n",
       "      <td>325</td>\n",
       "      <td>8</td>\n",
       "      <td>28.2</td>\n",
       "      <td>NaN</td>\n",
       "      <td>7.35</td>\n",
       "      <td>NaN</td>\n",
       "      <td>413.0</td>\n",
       "      <td>4.0</td>\n",
       "    </tr>\n",
       "    <tr>\n",
       "      <th>34033</th>\n",
       "      <td>NaN</td>\n",
       "      <td>5.47</td>\n",
       "      <td>0.6</td>\n",
       "      <td>5690.0</td>\n",
       "      <td>3754.0</td>\n",
       "      <td>100.0</td>\n",
       "      <td>1.484802e+09</td>\n",
       "      <td>324</td>\n",
       "      <td>8</td>\n",
       "      <td>28.1</td>\n",
       "      <td>NaN</td>\n",
       "      <td>7.35</td>\n",
       "      <td>NaN</td>\n",
       "      <td>417.0</td>\n",
       "      <td>4.0</td>\n",
       "    </tr>\n",
       "    <tr>\n",
       "      <th>34034</th>\n",
       "      <td>NaN</td>\n",
       "      <td>5.46</td>\n",
       "      <td>0.1</td>\n",
       "      <td>5093.0</td>\n",
       "      <td>0.0</td>\n",
       "      <td>0.0</td>\n",
       "      <td>1.484806e+09</td>\n",
       "      <td>243</td>\n",
       "      <td>7</td>\n",
       "      <td>29.8</td>\n",
       "      <td>NaN</td>\n",
       "      <td>7.26</td>\n",
       "      <td>NaN</td>\n",
       "      <td>398.0</td>\n",
       "      <td>4.0</td>\n",
       "    </tr>\n",
       "  </tbody>\n",
       "</table>\n",
       "</div>"
      ],
      "text/plain": [
       "      datetime  water_level   do    miss  input_wind_throughput  \\\n",
       "34030      NaN         4.47  0.4    22.0                    0.0   \n",
       "34031      NaN         5.48  0.2  4832.0                 2525.0   \n",
       "34032      NaN         5.49  0.6  5790.0                 3845.0   \n",
       "34033      NaN         5.47  0.6  5690.0                 3754.0   \n",
       "34034      NaN         5.46  0.1  5093.0                    0.0   \n",
       "\n",
       "       input_wind_openness            ts  input_water_cod  output_water_cod  \\\n",
       "34030                  0.0  1.484791e+09              198                 8   \n",
       "34031                100.0  1.484795e+09              198                 8   \n",
       "34032                100.0  1.484798e+09              325                 8   \n",
       "34033                100.0  1.484802e+09              324                 8   \n",
       "34034                  0.0  1.484806e+09              243                 7   \n",
       "\n",
       "       input_water_ammonia  output_water_ammonia  input_water_ph  \\\n",
       "34030                 28.6                   NaN            7.19   \n",
       "34031                 28.6                   NaN            7.23   \n",
       "34032                 28.2                   NaN            7.35   \n",
       "34033                 28.1                   NaN            7.35   \n",
       "34034                 29.8                   NaN            7.26   \n",
       "\n",
       "       output_water_phosphorus  input_water_ss  output_water_ss  \n",
       "34030                      NaN           746.0              4.0  \n",
       "34031                      NaN           594.0              4.0  \n",
       "34032                      NaN           413.0              4.0  \n",
       "34033                      NaN           417.0              4.0  \n",
       "34034                      NaN           398.0              4.0  "
      ]
     },
     "execution_count": 7,
     "metadata": {},
     "output_type": "execute_result"
    }
   ],
   "source": [
    "datetime_array=[]\n",
    "for value in df['datetime']:\n",
    "    datetime_array.append(value)\n",
    "#将所有负值替换为NAN\n",
    "df[df<0]=np.nan\n",
    "df.tail()"
   ]
  },
  {
   "cell_type": "code",
   "execution_count": 8,
   "metadata": {
    "scrolled": true
   },
   "outputs": [
    {
     "data": {
      "text/html": [
       "<div>\n",
       "<style scoped>\n",
       "    .dataframe tbody tr th:only-of-type {\n",
       "        vertical-align: middle;\n",
       "    }\n",
       "\n",
       "    .dataframe tbody tr th {\n",
       "        vertical-align: top;\n",
       "    }\n",
       "\n",
       "    .dataframe thead th {\n",
       "        text-align: right;\n",
       "    }\n",
       "</style>\n",
       "<table border=\"1\" class=\"dataframe\">\n",
       "  <thead>\n",
       "    <tr style=\"text-align: right;\">\n",
       "      <th></th>\n",
       "      <th>datetime</th>\n",
       "      <th>water_level</th>\n",
       "      <th>do</th>\n",
       "      <th>miss</th>\n",
       "      <th>input_wind_throughput</th>\n",
       "      <th>input_wind_openness</th>\n",
       "      <th>ts</th>\n",
       "      <th>input_water_cod</th>\n",
       "      <th>output_water_cod</th>\n",
       "      <th>input_water_ammonia</th>\n",
       "      <th>output_water_ammonia</th>\n",
       "      <th>input_water_ph</th>\n",
       "      <th>output_water_phosphorus</th>\n",
       "      <th>input_water_ss</th>\n",
       "      <th>output_water_ss</th>\n",
       "    </tr>\n",
       "  </thead>\n",
       "  <tbody>\n",
       "    <tr>\n",
       "      <th>34030</th>\n",
       "      <td>2017-01-19 11:00:00</td>\n",
       "      <td>4.47</td>\n",
       "      <td>0.4</td>\n",
       "      <td>22.0</td>\n",
       "      <td>0.0</td>\n",
       "      <td>0.0</td>\n",
       "      <td>1.484791e+09</td>\n",
       "      <td>198</td>\n",
       "      <td>8</td>\n",
       "      <td>28.6</td>\n",
       "      <td>NaN</td>\n",
       "      <td>7.19</td>\n",
       "      <td>NaN</td>\n",
       "      <td>746.0</td>\n",
       "      <td>4.0</td>\n",
       "    </tr>\n",
       "    <tr>\n",
       "      <th>34031</th>\n",
       "      <td>2017-01-19 12:00:00</td>\n",
       "      <td>5.48</td>\n",
       "      <td>0.2</td>\n",
       "      <td>4832.0</td>\n",
       "      <td>2525.0</td>\n",
       "      <td>100.0</td>\n",
       "      <td>1.484795e+09</td>\n",
       "      <td>198</td>\n",
       "      <td>8</td>\n",
       "      <td>28.6</td>\n",
       "      <td>NaN</td>\n",
       "      <td>7.23</td>\n",
       "      <td>NaN</td>\n",
       "      <td>594.0</td>\n",
       "      <td>4.0</td>\n",
       "    </tr>\n",
       "    <tr>\n",
       "      <th>34032</th>\n",
       "      <td>2017-01-19 13:00:00</td>\n",
       "      <td>5.49</td>\n",
       "      <td>0.6</td>\n",
       "      <td>5790.0</td>\n",
       "      <td>3845.0</td>\n",
       "      <td>100.0</td>\n",
       "      <td>1.484798e+09</td>\n",
       "      <td>325</td>\n",
       "      <td>8</td>\n",
       "      <td>28.2</td>\n",
       "      <td>NaN</td>\n",
       "      <td>7.35</td>\n",
       "      <td>NaN</td>\n",
       "      <td>413.0</td>\n",
       "      <td>4.0</td>\n",
       "    </tr>\n",
       "    <tr>\n",
       "      <th>34033</th>\n",
       "      <td>2017-01-19 14:00:00</td>\n",
       "      <td>5.47</td>\n",
       "      <td>0.6</td>\n",
       "      <td>5690.0</td>\n",
       "      <td>3754.0</td>\n",
       "      <td>100.0</td>\n",
       "      <td>1.484802e+09</td>\n",
       "      <td>324</td>\n",
       "      <td>8</td>\n",
       "      <td>28.1</td>\n",
       "      <td>NaN</td>\n",
       "      <td>7.35</td>\n",
       "      <td>NaN</td>\n",
       "      <td>417.0</td>\n",
       "      <td>4.0</td>\n",
       "    </tr>\n",
       "    <tr>\n",
       "      <th>34034</th>\n",
       "      <td>2017-01-19 15:00:00</td>\n",
       "      <td>5.46</td>\n",
       "      <td>0.1</td>\n",
       "      <td>5093.0</td>\n",
       "      <td>0.0</td>\n",
       "      <td>0.0</td>\n",
       "      <td>1.484806e+09</td>\n",
       "      <td>243</td>\n",
       "      <td>7</td>\n",
       "      <td>29.8</td>\n",
       "      <td>NaN</td>\n",
       "      <td>7.26</td>\n",
       "      <td>NaN</td>\n",
       "      <td>398.0</td>\n",
       "      <td>4.0</td>\n",
       "    </tr>\n",
       "  </tbody>\n",
       "</table>\n",
       "</div>"
      ],
      "text/plain": [
       "                  datetime  water_level   do    miss  input_wind_throughput  \\\n",
       "34030  2017-01-19 11:00:00         4.47  0.4    22.0                    0.0   \n",
       "34031  2017-01-19 12:00:00         5.48  0.2  4832.0                 2525.0   \n",
       "34032  2017-01-19 13:00:00         5.49  0.6  5790.0                 3845.0   \n",
       "34033  2017-01-19 14:00:00         5.47  0.6  5690.0                 3754.0   \n",
       "34034  2017-01-19 15:00:00         5.46  0.1  5093.0                    0.0   \n",
       "\n",
       "       input_wind_openness            ts  input_water_cod  output_water_cod  \\\n",
       "34030                  0.0  1.484791e+09              198                 8   \n",
       "34031                100.0  1.484795e+09              198                 8   \n",
       "34032                100.0  1.484798e+09              325                 8   \n",
       "34033                100.0  1.484802e+09              324                 8   \n",
       "34034                  0.0  1.484806e+09              243                 7   \n",
       "\n",
       "       input_water_ammonia  output_water_ammonia  input_water_ph  \\\n",
       "34030                 28.6                   NaN            7.19   \n",
       "34031                 28.6                   NaN            7.23   \n",
       "34032                 28.2                   NaN            7.35   \n",
       "34033                 28.1                   NaN            7.35   \n",
       "34034                 29.8                   NaN            7.26   \n",
       "\n",
       "       output_water_phosphorus  input_water_ss  output_water_ss  \n",
       "34030                      NaN           746.0              4.0  \n",
       "34031                      NaN           594.0              4.0  \n",
       "34032                      NaN           413.0              4.0  \n",
       "34033                      NaN           417.0              4.0  \n",
       "34034                      NaN           398.0              4.0  "
      ]
     },
     "execution_count": 8,
     "metadata": {},
     "output_type": "execute_result"
    }
   ],
   "source": [
    "#更正替换后的时间\n",
    "df['datetime']=pd.DataFrame(datetime_array)\n",
    "df.tail()"
   ]
  },
  {
   "cell_type": "code",
   "execution_count": 9,
   "metadata": {},
   "outputs": [],
   "source": [
    "#负值可以当0处理\n",
    "df = df.fillna(0.0)"
   ]
  },
  {
   "cell_type": "code",
   "execution_count": 10,
   "metadata": {},
   "outputs": [
    {
     "name": "stdout",
     "output_type": "stream",
     "text": [
      "<class 'pandas.core.frame.DataFrame'>\n",
      "RangeIndex: 34035 entries, 0 to 34034\n",
      "Data columns (total 15 columns):\n",
      "datetime                   34035 non-null object\n",
      "water_level                34035 non-null float64\n",
      "do                         34035 non-null float64\n",
      "miss                       34035 non-null float64\n",
      "input_wind_throughput      34035 non-null float64\n",
      "input_wind_openness        34035 non-null float64\n",
      "ts                         34035 non-null float64\n",
      "input_water_cod            34035 non-null int64\n",
      "output_water_cod           34035 non-null int64\n",
      "input_water_ammonia        34035 non-null float64\n",
      "output_water_ammonia       34035 non-null float64\n",
      "input_water_ph             34035 non-null float64\n",
      "output_water_phosphorus    34035 non-null float64\n",
      "input_water_ss             34035 non-null float64\n",
      "output_water_ss            34035 non-null float64\n",
      "dtypes: float64(12), int64(2), object(1)\n",
      "memory usage: 3.9+ MB\n"
     ]
    }
   ],
   "source": [
    "df.info()"
   ]
  },
  {
   "cell_type": "code",
   "execution_count": 11,
   "metadata": {},
   "outputs": [],
   "source": [
    "#修改数据类型为float\n",
    "df[['input_wind_throughput','input_wind_openness','input_water_cod','output_water_cod','output_water_ammonia','input_water_ss','output_water_ss']]=df[['input_wind_throughput','input_wind_openness','input_water_cod','output_water_cod','output_water_ammonia','input_water_ss','output_water_ss']].astype(float)"
   ]
  },
  {
   "cell_type": "code",
   "execution_count": 12,
   "metadata": {},
   "outputs": [],
   "source": [
    "#添加一列label作为output_water_cod列的标签\n",
    "index_array=[]\n",
    "for d in df['output_water_cod']:\n",
    "    if d>=50:\n",
    "        index_array.append(1)  #出水cod>50，水质有问题，记为1\n",
    "    else:\n",
    "        index_array.append(0)\n",
    "df['label']=pd.DataFrame(index_array)"
   ]
  },
  {
   "cell_type": "code",
   "execution_count": 13,
   "metadata": {},
   "outputs": [
    {
     "data": {
      "text/html": [
       "<div>\n",
       "<style scoped>\n",
       "    .dataframe tbody tr th:only-of-type {\n",
       "        vertical-align: middle;\n",
       "    }\n",
       "\n",
       "    .dataframe tbody tr th {\n",
       "        vertical-align: top;\n",
       "    }\n",
       "\n",
       "    .dataframe thead th {\n",
       "        text-align: right;\n",
       "    }\n",
       "</style>\n",
       "<table border=\"1\" class=\"dataframe\">\n",
       "  <thead>\n",
       "    <tr style=\"text-align: right;\">\n",
       "      <th></th>\n",
       "      <th>datetime</th>\n",
       "      <th>water_level</th>\n",
       "      <th>do</th>\n",
       "      <th>miss</th>\n",
       "      <th>input_wind_throughput</th>\n",
       "      <th>input_wind_openness</th>\n",
       "      <th>ts</th>\n",
       "      <th>input_water_cod</th>\n",
       "      <th>output_water_cod</th>\n",
       "      <th>input_water_ammonia</th>\n",
       "      <th>output_water_ammonia</th>\n",
       "      <th>input_water_ph</th>\n",
       "      <th>output_water_phosphorus</th>\n",
       "      <th>input_water_ss</th>\n",
       "      <th>output_water_ss</th>\n",
       "      <th>label</th>\n",
       "    </tr>\n",
       "  </thead>\n",
       "  <tbody>\n",
       "    <tr>\n",
       "      <th>0</th>\n",
       "      <td>2010-07-10 16:00:00</td>\n",
       "      <td>5.52</td>\n",
       "      <td>2.3</td>\n",
       "      <td>137.0</td>\n",
       "      <td>0.0</td>\n",
       "      <td>0.0</td>\n",
       "      <td>1.278745e+09</td>\n",
       "      <td>214.0</td>\n",
       "      <td>24.0</td>\n",
       "      <td>5.0</td>\n",
       "      <td>7.0</td>\n",
       "      <td>6.0</td>\n",
       "      <td>0.0</td>\n",
       "      <td>1192.0</td>\n",
       "      <td>8.0</td>\n",
       "      <td>0</td>\n",
       "    </tr>\n",
       "    <tr>\n",
       "      <th>1</th>\n",
       "      <td>2010-07-10 18:00:00</td>\n",
       "      <td>4.45</td>\n",
       "      <td>1.9</td>\n",
       "      <td>142.0</td>\n",
       "      <td>0.0</td>\n",
       "      <td>0.0</td>\n",
       "      <td>1.278752e+09</td>\n",
       "      <td>292.0</td>\n",
       "      <td>22.0</td>\n",
       "      <td>4.0</td>\n",
       "      <td>6.0</td>\n",
       "      <td>6.0</td>\n",
       "      <td>0.0</td>\n",
       "      <td>419.0</td>\n",
       "      <td>6.0</td>\n",
       "      <td>0</td>\n",
       "    </tr>\n",
       "    <tr>\n",
       "      <th>2</th>\n",
       "      <td>2010-07-10 20:00:00</td>\n",
       "      <td>4.46</td>\n",
       "      <td>1.4</td>\n",
       "      <td>117.0</td>\n",
       "      <td>0.0</td>\n",
       "      <td>0.0</td>\n",
       "      <td>1.278760e+09</td>\n",
       "      <td>269.0</td>\n",
       "      <td>22.0</td>\n",
       "      <td>4.0</td>\n",
       "      <td>6.0</td>\n",
       "      <td>6.0</td>\n",
       "      <td>0.0</td>\n",
       "      <td>437.0</td>\n",
       "      <td>6.0</td>\n",
       "      <td>0</td>\n",
       "    </tr>\n",
       "    <tr>\n",
       "      <th>3</th>\n",
       "      <td>2010-07-10 22:00:00</td>\n",
       "      <td>5.23</td>\n",
       "      <td>3.8</td>\n",
       "      <td>1463.0</td>\n",
       "      <td>5786.0</td>\n",
       "      <td>100.0</td>\n",
       "      <td>1.278767e+09</td>\n",
       "      <td>242.0</td>\n",
       "      <td>24.0</td>\n",
       "      <td>6.0</td>\n",
       "      <td>7.0</td>\n",
       "      <td>6.0</td>\n",
       "      <td>0.0</td>\n",
       "      <td>254.0</td>\n",
       "      <td>8.0</td>\n",
       "      <td>0</td>\n",
       "    </tr>\n",
       "    <tr>\n",
       "      <th>4</th>\n",
       "      <td>2010-07-11 04:00:00</td>\n",
       "      <td>5.00</td>\n",
       "      <td>3.3</td>\n",
       "      <td>1490.0</td>\n",
       "      <td>5881.0</td>\n",
       "      <td>100.0</td>\n",
       "      <td>1.278788e+09</td>\n",
       "      <td>324.0</td>\n",
       "      <td>24.0</td>\n",
       "      <td>20.0</td>\n",
       "      <td>7.0</td>\n",
       "      <td>6.0</td>\n",
       "      <td>0.0</td>\n",
       "      <td>176.0</td>\n",
       "      <td>9.0</td>\n",
       "      <td>0</td>\n",
       "    </tr>\n",
       "  </tbody>\n",
       "</table>\n",
       "</div>"
      ],
      "text/plain": [
       "              datetime  water_level   do    miss  input_wind_throughput  \\\n",
       "0  2010-07-10 16:00:00         5.52  2.3   137.0                    0.0   \n",
       "1  2010-07-10 18:00:00         4.45  1.9   142.0                    0.0   \n",
       "2  2010-07-10 20:00:00         4.46  1.4   117.0                    0.0   \n",
       "3  2010-07-10 22:00:00         5.23  3.8  1463.0                 5786.0   \n",
       "4  2010-07-11 04:00:00         5.00  3.3  1490.0                 5881.0   \n",
       "\n",
       "   input_wind_openness            ts  input_water_cod  output_water_cod  \\\n",
       "0                  0.0  1.278745e+09            214.0              24.0   \n",
       "1                  0.0  1.278752e+09            292.0              22.0   \n",
       "2                  0.0  1.278760e+09            269.0              22.0   \n",
       "3                100.0  1.278767e+09            242.0              24.0   \n",
       "4                100.0  1.278788e+09            324.0              24.0   \n",
       "\n",
       "   input_water_ammonia  output_water_ammonia  input_water_ph  \\\n",
       "0                  5.0                   7.0             6.0   \n",
       "1                  4.0                   6.0             6.0   \n",
       "2                  4.0                   6.0             6.0   \n",
       "3                  6.0                   7.0             6.0   \n",
       "4                 20.0                   7.0             6.0   \n",
       "\n",
       "   output_water_phosphorus  input_water_ss  output_water_ss  label  \n",
       "0                      0.0          1192.0              8.0      0  \n",
       "1                      0.0           419.0              6.0      0  \n",
       "2                      0.0           437.0              6.0      0  \n",
       "3                      0.0           254.0              8.0      0  \n",
       "4                      0.0           176.0              9.0      0  "
      ]
     },
     "execution_count": 13,
     "metadata": {},
     "output_type": "execute_result"
    }
   ],
   "source": [
    "df.head()"
   ]
  },
  {
   "cell_type": "code",
   "execution_count": 14,
   "metadata": {},
   "outputs": [],
   "source": [
    "#提取年、月、周/年、小时形成新列，并修改数据类型\n",
    "df['year']=pd.to_datetime(df['datetime']).dt.year\n",
    "df['month']=pd.to_datetime(df['datetime']).dt.month\n",
    "df['weekofyear']=pd.to_datetime(df['datetime']).dt.weekofyear\n",
    "df['hour']=pd.to_datetime(df['datetime']).dt.hour\n",
    "df[['year','month','weekofyear','hour']] = df[['year','month','weekofyear','hour']].astype('float')"
   ]
  },
  {
   "cell_type": "code",
   "execution_count": 15,
   "metadata": {},
   "outputs": [
    {
     "data": {
      "text/plain": [
       "Index(['datetime', 'water_level', 'do', 'miss', 'input_wind_throughput',\n",
       "       'input_wind_openness', 'ts', 'input_water_cod', 'output_water_cod',\n",
       "       'input_water_ammonia', 'output_water_ammonia', 'input_water_ph',\n",
       "       'output_water_phosphorus', 'input_water_ss', 'output_water_ss', 'label',\n",
       "       'year', 'month', 'weekofyear', 'hour'],\n",
       "      dtype='object')"
      ]
     },
     "execution_count": 15,
     "metadata": {},
     "output_type": "execute_result"
    }
   ],
   "source": [
    "df.columns"
   ]
  },
  {
   "cell_type": "code",
   "execution_count": 16,
   "metadata": {},
   "outputs": [],
   "source": [
    "import matplotlib.pyplot as plt"
   ]
  },
  {
   "cell_type": "code",
   "execution_count": 17,
   "metadata": {},
   "outputs": [
    {
     "data": {
      "text/plain": [
       "<matplotlib.legend.Legend at 0x116791a20>"
      ]
     },
     "execution_count": 17,
     "metadata": {},
     "output_type": "execute_result"
    },
    {
     "data": {
      "image/png": "[encoded data removed]",
      "text/plain": [
       "<Figure size 432x288 with 1 Axes>"
      ]
     },
     "metadata": {},
     "output_type": "display_data"
    }
   ],
   "source": [
    "plt.plot(df['input_water_cod'],color='blue',label='input_water_cod')\n",
    "plt.plot(df['output_water_cod'],color='red',label='output_water_cod')\n",
    "plt.legend()"
   ]
  },
  {
   "cell_type": "markdown",
   "metadata": {},
   "source": [
    "通过以下类似的方法，查看label和各列值之间的关系，除进气阀开度、进水COD以及出水SS外，其他列和label之间没有明显的关系"
   ]
  },
  {
   "cell_type": "code",
   "execution_count": 18,
   "metadata": {
    "scrolled": true
   },
   "outputs": [
    {
     "data": {
      "text/html": [
       "<div>\n",
       "<style scoped>\n",
       "    .dataframe tbody tr th:only-of-type {\n",
       "        vertical-align: middle;\n",
       "    }\n",
       "\n",
       "    .dataframe tbody tr th {\n",
       "        vertical-align: top;\n",
       "    }\n",
       "\n",
       "    .dataframe thead th {\n",
       "        text-align: right;\n",
       "    }\n",
       "</style>\n",
       "<table border=\"1\" class=\"dataframe\">\n",
       "  <thead>\n",
       "    <tr style=\"text-align: right;\">\n",
       "      <th></th>\n",
       "      <th>input_wind_openness</th>\n",
       "      <th>label</th>\n",
       "    </tr>\n",
       "  </thead>\n",
       "  <tbody>\n",
       "    <tr>\n",
       "      <th>0</th>\n",
       "      <td>0.0</td>\n",
       "      <td>1</td>\n",
       "    </tr>\n",
       "    <tr>\n",
       "      <th>1</th>\n",
       "      <td>1.0</td>\n",
       "      <td>1</td>\n",
       "    </tr>\n",
       "    <tr>\n",
       "      <th>64</th>\n",
       "      <td>100.0</td>\n",
       "      <td>1</td>\n",
       "    </tr>\n",
       "    <tr>\n",
       "      <th>3</th>\n",
       "      <td>4.0</td>\n",
       "      <td>0</td>\n",
       "    </tr>\n",
       "    <tr>\n",
       "      <th>49</th>\n",
       "      <td>71.0</td>\n",
       "      <td>0</td>\n",
       "    </tr>\n",
       "    <tr>\n",
       "      <th>36</th>\n",
       "      <td>53.0</td>\n",
       "      <td>0</td>\n",
       "    </tr>\n",
       "    <tr>\n",
       "      <th>37</th>\n",
       "      <td>54.0</td>\n",
       "      <td>0</td>\n",
       "    </tr>\n",
       "    <tr>\n",
       "      <th>38</th>\n",
       "      <td>55.0</td>\n",
       "      <td>0</td>\n",
       "    </tr>\n",
       "    <tr>\n",
       "      <th>39</th>\n",
       "      <td>56.0</td>\n",
       "      <td>0</td>\n",
       "    </tr>\n",
       "    <tr>\n",
       "      <th>40</th>\n",
       "      <td>61.0</td>\n",
       "      <td>0</td>\n",
       "    </tr>\n",
       "    <tr>\n",
       "      <th>41</th>\n",
       "      <td>62.0</td>\n",
       "      <td>0</td>\n",
       "    </tr>\n",
       "    <tr>\n",
       "      <th>42</th>\n",
       "      <td>63.0</td>\n",
       "      <td>0</td>\n",
       "    </tr>\n",
       "    <tr>\n",
       "      <th>43</th>\n",
       "      <td>64.0</td>\n",
       "      <td>0</td>\n",
       "    </tr>\n",
       "    <tr>\n",
       "      <th>44</th>\n",
       "      <td>65.0</td>\n",
       "      <td>0</td>\n",
       "    </tr>\n",
       "    <tr>\n",
       "      <th>45</th>\n",
       "      <td>66.0</td>\n",
       "      <td>0</td>\n",
       "    </tr>\n",
       "    <tr>\n",
       "      <th>46</th>\n",
       "      <td>67.0</td>\n",
       "      <td>0</td>\n",
       "    </tr>\n",
       "    <tr>\n",
       "      <th>47</th>\n",
       "      <td>68.0</td>\n",
       "      <td>0</td>\n",
       "    </tr>\n",
       "    <tr>\n",
       "      <th>48</th>\n",
       "      <td>70.0</td>\n",
       "      <td>0</td>\n",
       "    </tr>\n",
       "    <tr>\n",
       "      <th>50</th>\n",
       "      <td>73.0</td>\n",
       "      <td>0</td>\n",
       "    </tr>\n",
       "    <tr>\n",
       "      <th>4</th>\n",
       "      <td>5.0</td>\n",
       "      <td>0</td>\n",
       "    </tr>\n",
       "    <tr>\n",
       "      <th>51</th>\n",
       "      <td>74.0</td>\n",
       "      <td>0</td>\n",
       "    </tr>\n",
       "    <tr>\n",
       "      <th>52</th>\n",
       "      <td>75.0</td>\n",
       "      <td>0</td>\n",
       "    </tr>\n",
       "    <tr>\n",
       "      <th>53</th>\n",
       "      <td>76.0</td>\n",
       "      <td>0</td>\n",
       "    </tr>\n",
       "    <tr>\n",
       "      <th>54</th>\n",
       "      <td>78.0</td>\n",
       "      <td>0</td>\n",
       "    </tr>\n",
       "    <tr>\n",
       "      <th>55</th>\n",
       "      <td>82.0</td>\n",
       "      <td>0</td>\n",
       "    </tr>\n",
       "    <tr>\n",
       "      <th>56</th>\n",
       "      <td>84.0</td>\n",
       "      <td>0</td>\n",
       "    </tr>\n",
       "    <tr>\n",
       "      <th>57</th>\n",
       "      <td>90.0</td>\n",
       "      <td>0</td>\n",
       "    </tr>\n",
       "    <tr>\n",
       "      <th>58</th>\n",
       "      <td>91.0</td>\n",
       "      <td>0</td>\n",
       "    </tr>\n",
       "    <tr>\n",
       "      <th>59</th>\n",
       "      <td>95.0</td>\n",
       "      <td>0</td>\n",
       "    </tr>\n",
       "    <tr>\n",
       "      <th>60</th>\n",
       "      <td>96.0</td>\n",
       "      <td>0</td>\n",
       "    </tr>\n",
       "    <tr>\n",
       "      <th>...</th>\n",
       "      <td>...</td>\n",
       "      <td>...</td>\n",
       "    </tr>\n",
       "    <tr>\n",
       "      <th>33</th>\n",
       "      <td>49.0</td>\n",
       "      <td>0</td>\n",
       "    </tr>\n",
       "    <tr>\n",
       "      <th>2</th>\n",
       "      <td>2.0</td>\n",
       "      <td>0</td>\n",
       "    </tr>\n",
       "    <tr>\n",
       "      <th>5</th>\n",
       "      <td>7.0</td>\n",
       "      <td>0</td>\n",
       "    </tr>\n",
       "    <tr>\n",
       "      <th>6</th>\n",
       "      <td>9.0</td>\n",
       "      <td>0</td>\n",
       "    </tr>\n",
       "    <tr>\n",
       "      <th>7</th>\n",
       "      <td>10.0</td>\n",
       "      <td>0</td>\n",
       "    </tr>\n",
       "    <tr>\n",
       "      <th>8</th>\n",
       "      <td>11.0</td>\n",
       "      <td>0</td>\n",
       "    </tr>\n",
       "    <tr>\n",
       "      <th>9</th>\n",
       "      <td>12.0</td>\n",
       "      <td>0</td>\n",
       "    </tr>\n",
       "    <tr>\n",
       "      <th>10</th>\n",
       "      <td>13.0</td>\n",
       "      <td>0</td>\n",
       "    </tr>\n",
       "    <tr>\n",
       "      <th>11</th>\n",
       "      <td>16.0</td>\n",
       "      <td>0</td>\n",
       "    </tr>\n",
       "    <tr>\n",
       "      <th>12</th>\n",
       "      <td>17.0</td>\n",
       "      <td>0</td>\n",
       "    </tr>\n",
       "    <tr>\n",
       "      <th>13</th>\n",
       "      <td>18.0</td>\n",
       "      <td>0</td>\n",
       "    </tr>\n",
       "    <tr>\n",
       "      <th>14</th>\n",
       "      <td>20.0</td>\n",
       "      <td>0</td>\n",
       "    </tr>\n",
       "    <tr>\n",
       "      <th>15</th>\n",
       "      <td>21.0</td>\n",
       "      <td>0</td>\n",
       "    </tr>\n",
       "    <tr>\n",
       "      <th>16</th>\n",
       "      <td>22.0</td>\n",
       "      <td>0</td>\n",
       "    </tr>\n",
       "    <tr>\n",
       "      <th>17</th>\n",
       "      <td>23.0</td>\n",
       "      <td>0</td>\n",
       "    </tr>\n",
       "    <tr>\n",
       "      <th>18</th>\n",
       "      <td>25.0</td>\n",
       "      <td>0</td>\n",
       "    </tr>\n",
       "    <tr>\n",
       "      <th>19</th>\n",
       "      <td>26.0</td>\n",
       "      <td>0</td>\n",
       "    </tr>\n",
       "    <tr>\n",
       "      <th>20</th>\n",
       "      <td>27.0</td>\n",
       "      <td>0</td>\n",
       "    </tr>\n",
       "    <tr>\n",
       "      <th>21</th>\n",
       "      <td>28.0</td>\n",
       "      <td>0</td>\n",
       "    </tr>\n",
       "    <tr>\n",
       "      <th>22</th>\n",
       "      <td>29.0</td>\n",
       "      <td>0</td>\n",
       "    </tr>\n",
       "    <tr>\n",
       "      <th>23</th>\n",
       "      <td>30.0</td>\n",
       "      <td>0</td>\n",
       "    </tr>\n",
       "    <tr>\n",
       "      <th>24</th>\n",
       "      <td>31.0</td>\n",
       "      <td>0</td>\n",
       "    </tr>\n",
       "    <tr>\n",
       "      <th>25</th>\n",
       "      <td>32.0</td>\n",
       "      <td>0</td>\n",
       "    </tr>\n",
       "    <tr>\n",
       "      <th>26</th>\n",
       "      <td>33.0</td>\n",
       "      <td>0</td>\n",
       "    </tr>\n",
       "    <tr>\n",
       "      <th>27</th>\n",
       "      <td>34.0</td>\n",
       "      <td>0</td>\n",
       "    </tr>\n",
       "    <tr>\n",
       "      <th>28</th>\n",
       "      <td>35.0</td>\n",
       "      <td>0</td>\n",
       "    </tr>\n",
       "    <tr>\n",
       "      <th>29</th>\n",
       "      <td>36.0</td>\n",
       "      <td>0</td>\n",
       "    </tr>\n",
       "    <tr>\n",
       "      <th>30</th>\n",
       "      <td>40.0</td>\n",
       "      <td>0</td>\n",
       "    </tr>\n",
       "    <tr>\n",
       "      <th>31</th>\n",
       "      <td>41.0</td>\n",
       "      <td>0</td>\n",
       "    </tr>\n",
       "    <tr>\n",
       "      <th>32</th>\n",
       "      <td>44.0</td>\n",
       "      <td>0</td>\n",
       "    </tr>\n",
       "  </tbody>\n",
       "</table>\n",
       "<p>65 rows × 2 columns</p>\n",
       "</div>"
      ],
      "text/plain": [
       "    input_wind_openness  label\n",
       "0                   0.0      1\n",
       "1                   1.0      1\n",
       "64                100.0      1\n",
       "3                   4.0      0\n",
       "49                 71.0      0\n",
       "36                 53.0      0\n",
       "37                 54.0      0\n",
       "38                 55.0      0\n",
       "39                 56.0      0\n",
       "40                 61.0      0\n",
       "41                 62.0      0\n",
       "42                 63.0      0\n",
       "43                 64.0      0\n",
       "44                 65.0      0\n",
       "45                 66.0      0\n",
       "46                 67.0      0\n",
       "47                 68.0      0\n",
       "48                 70.0      0\n",
       "50                 73.0      0\n",
       "4                   5.0      0\n",
       "51                 74.0      0\n",
       "52                 75.0      0\n",
       "53                 76.0      0\n",
       "54                 78.0      0\n",
       "55                 82.0      0\n",
       "56                 84.0      0\n",
       "57                 90.0      0\n",
       "58                 91.0      0\n",
       "59                 95.0      0\n",
       "60                 96.0      0\n",
       "..                  ...    ...\n",
       "33                 49.0      0\n",
       "2                   2.0      0\n",
       "5                   7.0      0\n",
       "6                   9.0      0\n",
       "7                  10.0      0\n",
       "8                  11.0      0\n",
       "9                  12.0      0\n",
       "10                 13.0      0\n",
       "11                 16.0      0\n",
       "12                 17.0      0\n",
       "13                 18.0      0\n",
       "14                 20.0      0\n",
       "15                 21.0      0\n",
       "16                 22.0      0\n",
       "17                 23.0      0\n",
       "18                 25.0      0\n",
       "19                 26.0      0\n",
       "20                 27.0      0\n",
       "21                 28.0      0\n",
       "22                 29.0      0\n",
       "23                 30.0      0\n",
       "24                 31.0      0\n",
       "25                 32.0      0\n",
       "26                 33.0      0\n",
       "27                 34.0      0\n",
       "28                 35.0      0\n",
       "29                 36.0      0\n",
       "30                 40.0      0\n",
       "31                 41.0      0\n",
       "32                 44.0      0\n",
       "\n",
       "[65 rows x 2 columns]"
      ]
     },
     "execution_count": 18,
     "metadata": {},
     "output_type": "execute_result"
    }
   ],
   "source": [
    "df[['input_wind_openness','label']].groupby(['input_wind_openness'],as_index=False).max().sort_values(by = 'label',ascending=False)"
   ]
  },
  {
   "cell_type": "markdown",
   "metadata": {},
   "source": [
    "进气阀开度和cod之间的关系：cod>50一般都集中于进气阀开度为0，1，100这几个值上"
   ]
  },
  {
   "cell_type": "code",
   "execution_count": 184,
   "metadata": {
    "scrolled": true
   },
   "outputs": [
    {
     "data": {
      "text/plain": [
       "[<matplotlib.lines.Line2D at 0x1a1d062c50>]"
      ]
     },
     "execution_count": 184,
     "metadata": {},
     "output_type": "execute_result"
    },
    {
     "data": {
      "image/png": "[encoded data removed]",
      "text/plain": [
       "<Figure size 432x288 with 1 Axes>"
      ]
     },
     "metadata": {},
     "output_type": "display_data"
    }
   ],
   "source": [
    "#进气阀开度和出水COD的关系\n",
    "plt.plot(df['input_wind_openness'],df['label'],'ro')"
   ]
  },
  {
   "cell_type": "code",
   "execution_count": 185,
   "metadata": {},
   "outputs": [
    {
     "data": {
      "text/plain": [
       "[<matplotlib.lines.Line2D at 0x1a1da83e80>]"
      ]
     },
     "execution_count": 185,
     "metadata": {},
     "output_type": "execute_result"
    },
    {
     "data": {
      "image/png": "[encoded data removed]",
      "text/plain": [
       "<Figure size 432x288 with 1 Axes>"
      ]
     },
     "metadata": {},
     "output_type": "display_data"
    }
   ],
   "source": [
    "#进水COD和出水COD的关系\n",
    "plt.plot(df['input_water_cod'],df['label'],'o')"
   ]
  },
  {
   "cell_type": "markdown",
   "metadata": {},
   "source": [
    "进水COD>1000之后，出水COD几乎全部都是没有问题的 \n",
    "\n",
    "进水COD<1000时，会出现出水COD>50的情况"
   ]
  },
  {
   "cell_type": "code",
   "execution_count": 21,
   "metadata": {
    "scrolled": true
   },
   "outputs": [
    {
     "data": {
      "text/html": [
       "<div>\n",
       "<style scoped>\n",
       "    .dataframe tbody tr th:only-of-type {\n",
       "        vertical-align: middle;\n",
       "    }\n",
       "\n",
       "    .dataframe tbody tr th {\n",
       "        vertical-align: top;\n",
       "    }\n",
       "\n",
       "    .dataframe thead th {\n",
       "        text-align: right;\n",
       "    }\n",
       "</style>\n",
       "<table border=\"1\" class=\"dataframe\">\n",
       "  <thead>\n",
       "    <tr style=\"text-align: right;\">\n",
       "      <th></th>\n",
       "      <th>output_water_ss</th>\n",
       "      <th>label</th>\n",
       "    </tr>\n",
       "  </thead>\n",
       "  <tbody>\n",
       "    <tr>\n",
       "      <th>2</th>\n",
       "      <td>2.0</td>\n",
       "      <td>1</td>\n",
       "    </tr>\n",
       "    <tr>\n",
       "      <th>3</th>\n",
       "      <td>3.0</td>\n",
       "      <td>1</td>\n",
       "    </tr>\n",
       "    <tr>\n",
       "      <th>4</th>\n",
       "      <td>4.0</td>\n",
       "      <td>1</td>\n",
       "    </tr>\n",
       "    <tr>\n",
       "      <th>5</th>\n",
       "      <td>5.0</td>\n",
       "      <td>1</td>\n",
       "    </tr>\n",
       "    <tr>\n",
       "      <th>6</th>\n",
       "      <td>6.0</td>\n",
       "      <td>1</td>\n",
       "    </tr>\n",
       "    <tr>\n",
       "      <th>7</th>\n",
       "      <td>7.0</td>\n",
       "      <td>1</td>\n",
       "    </tr>\n",
       "    <tr>\n",
       "      <th>8</th>\n",
       "      <td>8.0</td>\n",
       "      <td>1</td>\n",
       "    </tr>\n",
       "    <tr>\n",
       "      <th>1</th>\n",
       "      <td>1.0</td>\n",
       "      <td>1</td>\n",
       "    </tr>\n",
       "    <tr>\n",
       "      <th>0</th>\n",
       "      <td>0.0</td>\n",
       "      <td>0</td>\n",
       "    </tr>\n",
       "    <tr>\n",
       "      <th>29</th>\n",
       "      <td>29.0</td>\n",
       "      <td>0</td>\n",
       "    </tr>\n",
       "    <tr>\n",
       "      <th>25</th>\n",
       "      <td>25.0</td>\n",
       "      <td>0</td>\n",
       "    </tr>\n",
       "    <tr>\n",
       "      <th>26</th>\n",
       "      <td>26.0</td>\n",
       "      <td>0</td>\n",
       "    </tr>\n",
       "    <tr>\n",
       "      <th>27</th>\n",
       "      <td>27.0</td>\n",
       "      <td>0</td>\n",
       "    </tr>\n",
       "    <tr>\n",
       "      <th>28</th>\n",
       "      <td>28.0</td>\n",
       "      <td>0</td>\n",
       "    </tr>\n",
       "    <tr>\n",
       "      <th>33</th>\n",
       "      <td>53.0</td>\n",
       "      <td>0</td>\n",
       "    </tr>\n",
       "    <tr>\n",
       "      <th>30</th>\n",
       "      <td>31.0</td>\n",
       "      <td>0</td>\n",
       "    </tr>\n",
       "    <tr>\n",
       "      <th>31</th>\n",
       "      <td>50.0</td>\n",
       "      <td>0</td>\n",
       "    </tr>\n",
       "    <tr>\n",
       "      <th>32</th>\n",
       "      <td>51.0</td>\n",
       "      <td>0</td>\n",
       "    </tr>\n",
       "    <tr>\n",
       "      <th>23</th>\n",
       "      <td>23.0</td>\n",
       "      <td>0</td>\n",
       "    </tr>\n",
       "    <tr>\n",
       "      <th>34</th>\n",
       "      <td>61.0</td>\n",
       "      <td>0</td>\n",
       "    </tr>\n",
       "    <tr>\n",
       "      <th>35</th>\n",
       "      <td>73.0</td>\n",
       "      <td>0</td>\n",
       "    </tr>\n",
       "    <tr>\n",
       "      <th>24</th>\n",
       "      <td>24.0</td>\n",
       "      <td>0</td>\n",
       "    </tr>\n",
       "    <tr>\n",
       "      <th>18</th>\n",
       "      <td>18.0</td>\n",
       "      <td>0</td>\n",
       "    </tr>\n",
       "    <tr>\n",
       "      <th>22</th>\n",
       "      <td>22.0</td>\n",
       "      <td>0</td>\n",
       "    </tr>\n",
       "    <tr>\n",
       "      <th>21</th>\n",
       "      <td>21.0</td>\n",
       "      <td>0</td>\n",
       "    </tr>\n",
       "    <tr>\n",
       "      <th>20</th>\n",
       "      <td>20.0</td>\n",
       "      <td>0</td>\n",
       "    </tr>\n",
       "    <tr>\n",
       "      <th>19</th>\n",
       "      <td>19.0</td>\n",
       "      <td>0</td>\n",
       "    </tr>\n",
       "    <tr>\n",
       "      <th>17</th>\n",
       "      <td>17.0</td>\n",
       "      <td>0</td>\n",
       "    </tr>\n",
       "    <tr>\n",
       "      <th>16</th>\n",
       "      <td>16.0</td>\n",
       "      <td>0</td>\n",
       "    </tr>\n",
       "    <tr>\n",
       "      <th>15</th>\n",
       "      <td>15.0</td>\n",
       "      <td>0</td>\n",
       "    </tr>\n",
       "    <tr>\n",
       "      <th>14</th>\n",
       "      <td>14.0</td>\n",
       "      <td>0</td>\n",
       "    </tr>\n",
       "    <tr>\n",
       "      <th>13</th>\n",
       "      <td>13.0</td>\n",
       "      <td>0</td>\n",
       "    </tr>\n",
       "    <tr>\n",
       "      <th>12</th>\n",
       "      <td>12.0</td>\n",
       "      <td>0</td>\n",
       "    </tr>\n",
       "    <tr>\n",
       "      <th>11</th>\n",
       "      <td>11.0</td>\n",
       "      <td>0</td>\n",
       "    </tr>\n",
       "    <tr>\n",
       "      <th>10</th>\n",
       "      <td>10.0</td>\n",
       "      <td>0</td>\n",
       "    </tr>\n",
       "    <tr>\n",
       "      <th>9</th>\n",
       "      <td>9.0</td>\n",
       "      <td>0</td>\n",
       "    </tr>\n",
       "    <tr>\n",
       "      <th>36</th>\n",
       "      <td>100.0</td>\n",
       "      <td>0</td>\n",
       "    </tr>\n",
       "  </tbody>\n",
       "</table>\n",
       "</div>"
      ],
      "text/plain": [
       "    output_water_ss  label\n",
       "2               2.0      1\n",
       "3               3.0      1\n",
       "4               4.0      1\n",
       "5               5.0      1\n",
       "6               6.0      1\n",
       "7               7.0      1\n",
       "8               8.0      1\n",
       "1               1.0      1\n",
       "0               0.0      0\n",
       "29             29.0      0\n",
       "25             25.0      0\n",
       "26             26.0      0\n",
       "27             27.0      0\n",
       "28             28.0      0\n",
       "33             53.0      0\n",
       "30             31.0      0\n",
       "31             50.0      0\n",
       "32             51.0      0\n",
       "23             23.0      0\n",
       "34             61.0      0\n",
       "35             73.0      0\n",
       "24             24.0      0\n",
       "18             18.0      0\n",
       "22             22.0      0\n",
       "21             21.0      0\n",
       "20             20.0      0\n",
       "19             19.0      0\n",
       "17             17.0      0\n",
       "16             16.0      0\n",
       "15             15.0      0\n",
       "14             14.0      0\n",
       "13             13.0      0\n",
       "12             12.0      0\n",
       "11             11.0      0\n",
       "10             10.0      0\n",
       "9               9.0      0\n",
       "36            100.0      0"
      ]
     },
     "execution_count": 21,
     "metadata": {},
     "output_type": "execute_result"
    }
   ],
   "source": [
    "df[['output_water_ss','label']].groupby(('output_water_ss'),as_index=False).max().sort_values(by = 'label',ascending=False)"
   ]
  },
  {
   "cell_type": "code",
   "execution_count": 22,
   "metadata": {
    "scrolled": true
   },
   "outputs": [
    {
     "data": {
      "text/plain": [
       "[<matplotlib.lines.Line2D at 0x10a173be0>]"
      ]
     },
     "execution_count": 22,
     "metadata": {},
     "output_type": "execute_result"
    },
    {
     "data": {
      "image/png": "[encoded data removed]",
      "text/plain": [
       "<Figure size 432x288 with 1 Axes>"
      ]
     },
     "metadata": {},
     "output_type": "display_data"
    }
   ],
   "source": [
    "plt.plot(df['output_water_ss'],df['label'],'o')"
   ]
  },
  {
   "cell_type": "markdown",
   "metadata": {},
   "source": [
    "出水SS和出水COD关系：出水SS在[1.0,9.0)之间时，存在出水COD>50的情况     \n",
    "\n",
    "在以后的问题中是否可以考虑通过提高出水SS的值，来改变出水COD？"
   ]
  },
  {
   "cell_type": "code",
   "execution_count": 23,
   "metadata": {},
   "outputs": [
    {
     "data": {
      "text/html": [
       "<div>\n",
       "<style scoped>\n",
       "    .dataframe tbody tr th:only-of-type {\n",
       "        vertical-align: middle;\n",
       "    }\n",
       "\n",
       "    .dataframe tbody tr th {\n",
       "        vertical-align: top;\n",
       "    }\n",
       "\n",
       "    .dataframe thead th {\n",
       "        text-align: right;\n",
       "    }\n",
       "</style>\n",
       "<table border=\"1\" class=\"dataframe\">\n",
       "  <thead>\n",
       "    <tr style=\"text-align: right;\">\n",
       "      <th></th>\n",
       "      <th>datetime</th>\n",
       "      <th>water_level</th>\n",
       "      <th>do</th>\n",
       "      <th>miss</th>\n",
       "      <th>input_wind_throughput</th>\n",
       "      <th>input_wind_openness</th>\n",
       "      <th>ts</th>\n",
       "      <th>input_water_cod</th>\n",
       "      <th>output_water_cod</th>\n",
       "      <th>input_water_ammonia</th>\n",
       "      <th>output_water_ammonia</th>\n",
       "      <th>input_water_ph</th>\n",
       "      <th>output_water_phosphorus</th>\n",
       "      <th>input_water_ss</th>\n",
       "      <th>output_water_ss</th>\n",
       "      <th>year</th>\n",
       "      <th>month</th>\n",
       "      <th>weekofyear</th>\n",
       "      <th>hour</th>\n",
       "    </tr>\n",
       "    <tr>\n",
       "      <th>label</th>\n",
       "      <th></th>\n",
       "      <th></th>\n",
       "      <th></th>\n",
       "      <th></th>\n",
       "      <th></th>\n",
       "      <th></th>\n",
       "      <th></th>\n",
       "      <th></th>\n",
       "      <th></th>\n",
       "      <th></th>\n",
       "      <th></th>\n",
       "      <th></th>\n",
       "      <th></th>\n",
       "      <th></th>\n",
       "      <th></th>\n",
       "      <th></th>\n",
       "      <th></th>\n",
       "      <th></th>\n",
       "      <th></th>\n",
       "    </tr>\n",
       "  </thead>\n",
       "  <tbody>\n",
       "    <tr>\n",
       "      <th>0</th>\n",
       "      <td>33956</td>\n",
       "      <td>33956</td>\n",
       "      <td>33956</td>\n",
       "      <td>33956</td>\n",
       "      <td>33956</td>\n",
       "      <td>33956</td>\n",
       "      <td>33956</td>\n",
       "      <td>33956</td>\n",
       "      <td>33956</td>\n",
       "      <td>33956</td>\n",
       "      <td>33956</td>\n",
       "      <td>33956</td>\n",
       "      <td>33956</td>\n",
       "      <td>33956</td>\n",
       "      <td>33956</td>\n",
       "      <td>33956</td>\n",
       "      <td>33956</td>\n",
       "      <td>33956</td>\n",
       "      <td>33956</td>\n",
       "    </tr>\n",
       "    <tr>\n",
       "      <th>1</th>\n",
       "      <td>79</td>\n",
       "      <td>79</td>\n",
       "      <td>79</td>\n",
       "      <td>79</td>\n",
       "      <td>79</td>\n",
       "      <td>79</td>\n",
       "      <td>79</td>\n",
       "      <td>79</td>\n",
       "      <td>79</td>\n",
       "      <td>79</td>\n",
       "      <td>79</td>\n",
       "      <td>79</td>\n",
       "      <td>79</td>\n",
       "      <td>79</td>\n",
       "      <td>79</td>\n",
       "      <td>79</td>\n",
       "      <td>79</td>\n",
       "      <td>79</td>\n",
       "      <td>79</td>\n",
       "    </tr>\n",
       "  </tbody>\n",
       "</table>\n",
       "</div>"
      ],
      "text/plain": [
       "       datetime  water_level     do   miss  input_wind_throughput  \\\n",
       "label                                                               \n",
       "0         33956        33956  33956  33956                  33956   \n",
       "1            79           79     79     79                     79   \n",
       "\n",
       "       input_wind_openness     ts  input_water_cod  output_water_cod  \\\n",
       "label                                                                  \n",
       "0                    33956  33956            33956             33956   \n",
       "1                       79     79               79                79   \n",
       "\n",
       "       input_water_ammonia  output_water_ammonia  input_water_ph  \\\n",
       "label                                                              \n",
       "0                    33956                 33956           33956   \n",
       "1                       79                    79              79   \n",
       "\n",
       "       output_water_phosphorus  input_water_ss  output_water_ss   year  month  \\\n",
       "label                                                                           \n",
       "0                        33956           33956            33956  33956  33956   \n",
       "1                           79              79               79     79     79   \n",
       "\n",
       "       weekofyear   hour  \n",
       "label                     \n",
       "0           33956  33956  \n",
       "1              79     79  "
      ]
     },
     "execution_count": 23,
     "metadata": {},
     "output_type": "execute_result"
    }
   ],
   "source": [
    "df.groupby('label').count()"
   ]
  },
  {
   "cell_type": "markdown",
   "metadata": {},
   "source": [
    "### 运用RandomForestClassifier和DecisionTree模型分别对原水质数据和取样后的水质数据简单的预测"
   ]
  },
  {
   "cell_type": "code",
   "execution_count": 99,
   "metadata": {},
   "outputs": [],
   "source": [
    "features =['do', 'miss', 'input_wind_throughput', 'input_wind_openness',\n",
    "                    'input_water_cod', 'input_water_ammonia', \n",
    "                    'output_water_ammonia', 'input_water_ph', 'output_water_phosphorus', \n",
    "                    'input_water_ss', 'output_water_ss']"
   ]
  },
  {
   "cell_type": "code",
   "execution_count": 100,
   "metadata": {},
   "outputs": [],
   "source": [
    "from sklearn.model_selection import train_test_split\n",
    "from sklearn.decomposition import PCA\n",
    "from sklearn.ensemble import RandomForestClassifier\n",
    "from sklearn.metrics import confusion_matrix\n",
    "\n",
    "X_train,X_test, y_train, y_test = train_test_split(df[features],df['label'],test_size=0.4, random_state=0)"
   ]
  },
  {
   "cell_type": "code",
   "execution_count": 101,
   "metadata": {
    "scrolled": true
   },
   "outputs": [
    {
     "data": {
      "image/png": "[encoded data removed]",
      "text/plain": [
       "<Figure size 432x288 with 1 Axes>"
      ]
     },
     "metadata": {},
     "output_type": "display_data"
    }
   ],
   "source": [
    "pca = PCA()\n",
    "X_pca = pca.fit_transform(X_train)\n",
    "plt.plot(np.cumsum(pca.explained_variance_ratio_))\n",
    "plt.xlabel('number of components')\n",
    "plt.ylabel('cumulative explained variance');\n",
    "#cumsum = np.cumsum(pca.explained_variance_ratio_)\n",
    "#d = np.argmax(cumsum>=0.95)+1"
   ]
  },
  {
   "cell_type": "markdown",
   "metadata": {},
   "source": [
    "由曲线图-->将X_train降为2维"
   ]
  },
  {
   "cell_type": "code",
   "execution_count": 126,
   "metadata": {},
   "outputs": [],
   "source": [
    "pca = PCA(n_components=2)\n",
    "X_pca=pca.fit_transform(X_train)\n",
    "X_train_new = pca.inverse_transform(X_pca)"
   ]
  },
  {
   "cell_type": "code",
   "execution_count": 127,
   "metadata": {
    "scrolled": true
   },
   "outputs": [
    {
     "data": {
      "text/plain": [
       "array([0.82648447, 0.15312366])"
      ]
     },
     "execution_count": 127,
     "metadata": {},
     "output_type": "execute_result"
    }
   ],
   "source": [
    "pca.explained_variance_ratio_"
   ]
  },
  {
   "cell_type": "code",
   "execution_count": 140,
   "metadata": {},
   "outputs": [],
   "source": [
    "rf = RandomForestClassifier()\n",
    "rf.fit(X_train_new,y_train)\n",
    "y_pred = rf.predict(X_test)"
   ]
  },
  {
   "cell_type": "code",
   "execution_count": 141,
   "metadata": {},
   "outputs": [
    {
     "data": {
      "text/plain": [
       "array([0.08188786, 0.08423978, 0.09735329, 0.09628472, 0.07741221,\n",
       "       0.09606618, 0.08137164, 0.08736242, 0.11540196, 0.12827749,\n",
       "       0.05434245])"
      ]
     },
     "execution_count": 141,
     "metadata": {},
     "output_type": "execute_result"
    }
   ],
   "source": [
    "rf.feature_importances_"
   ]
  },
  {
   "cell_type": "code",
   "execution_count": 142,
   "metadata": {},
   "outputs": [
    {
     "data": {
      "text/plain": [
       "Text(91.68,0.5,'predicted label')"
      ]
     },
     "execution_count": 142,
     "metadata": {},
     "output_type": "execute_result"
    },
    {
     "data": {
      "image/png": "[encoded data removed]",
      "text/plain": [
       "<Figure size 432x288 with 1 Axes>"
      ]
     },
     "metadata": {},
     "output_type": "display_data"
    }
   ],
   "source": [
    "import seaborn as sns\n",
    "mat = confusion_matrix(y_test,y_pred)\n",
    "sns.heatmap(mat.T,square=True,annot=True,fmt='o',cbar=False)\n",
    "plt.xlabel('true label')\n",
    "plt.ylabel('predicted label')"
   ]
  },
  {
   "cell_type": "code",
   "execution_count": 143,
   "metadata": {},
   "outputs": [
    {
     "data": {
      "text/plain": [
       "0.9952255031585133"
      ]
     },
     "execution_count": 143,
     "metadata": {},
     "output_type": "execute_result"
    }
   ],
   "source": [
    "from sklearn.metrics import accuracy_score\n",
    "accuracy_score(y_test,y_pred)"
   ]
  },
  {
   "cell_type": "code",
   "execution_count": 144,
   "metadata": {},
   "outputs": [],
   "source": [
    "#抽样进行训练，预测\n",
    "df1=df[df['label']==0]\n",
    "df2=df[df['label']==1]\n",
    "#抽取label=0的数据的20%\n",
    "sample_df1 = df1.sample(frac=0.02)\n",
    "#数据中label=1的所有数据\n",
    "sampled_df=df2.append(sample_df1)"
   ]
  },
  {
   "cell_type": "code",
   "execution_count": 145,
   "metadata": {},
   "outputs": [
    {
     "data": {
      "text/html": [
       "<div>\n",
       "<style scoped>\n",
       "    .dataframe tbody tr th:only-of-type {\n",
       "        vertical-align: middle;\n",
       "    }\n",
       "\n",
       "    .dataframe tbody tr th {\n",
       "        vertical-align: top;\n",
       "    }\n",
       "\n",
       "    .dataframe thead th {\n",
       "        text-align: right;\n",
       "    }\n",
       "</style>\n",
       "<table border=\"1\" class=\"dataframe\">\n",
       "  <thead>\n",
       "    <tr style=\"text-align: right;\">\n",
       "      <th></th>\n",
       "      <th>datetime</th>\n",
       "      <th>water_level</th>\n",
       "      <th>do</th>\n",
       "      <th>miss</th>\n",
       "      <th>input_wind_throughput</th>\n",
       "      <th>input_wind_openness</th>\n",
       "      <th>ts</th>\n",
       "      <th>input_water_cod</th>\n",
       "      <th>output_water_cod</th>\n",
       "      <th>input_water_ammonia</th>\n",
       "      <th>output_water_ammonia</th>\n",
       "      <th>input_water_ph</th>\n",
       "      <th>output_water_phosphorus</th>\n",
       "      <th>input_water_ss</th>\n",
       "      <th>output_water_ss</th>\n",
       "      <th>year</th>\n",
       "      <th>month</th>\n",
       "      <th>weekofyear</th>\n",
       "      <th>hour</th>\n",
       "    </tr>\n",
       "    <tr>\n",
       "      <th>label</th>\n",
       "      <th></th>\n",
       "      <th></th>\n",
       "      <th></th>\n",
       "      <th></th>\n",
       "      <th></th>\n",
       "      <th></th>\n",
       "      <th></th>\n",
       "      <th></th>\n",
       "      <th></th>\n",
       "      <th></th>\n",
       "      <th></th>\n",
       "      <th></th>\n",
       "      <th></th>\n",
       "      <th></th>\n",
       "      <th></th>\n",
       "      <th></th>\n",
       "      <th></th>\n",
       "      <th></th>\n",
       "      <th></th>\n",
       "    </tr>\n",
       "  </thead>\n",
       "  <tbody>\n",
       "    <tr>\n",
       "      <th>0</th>\n",
       "      <td>679</td>\n",
       "      <td>679</td>\n",
       "      <td>679</td>\n",
       "      <td>679</td>\n",
       "      <td>679</td>\n",
       "      <td>679</td>\n",
       "      <td>679</td>\n",
       "      <td>679</td>\n",
       "      <td>679</td>\n",
       "      <td>679</td>\n",
       "      <td>679</td>\n",
       "      <td>679</td>\n",
       "      <td>679</td>\n",
       "      <td>679</td>\n",
       "      <td>679</td>\n",
       "      <td>679</td>\n",
       "      <td>679</td>\n",
       "      <td>679</td>\n",
       "      <td>679</td>\n",
       "    </tr>\n",
       "    <tr>\n",
       "      <th>1</th>\n",
       "      <td>79</td>\n",
       "      <td>79</td>\n",
       "      <td>79</td>\n",
       "      <td>79</td>\n",
       "      <td>79</td>\n",
       "      <td>79</td>\n",
       "      <td>79</td>\n",
       "      <td>79</td>\n",
       "      <td>79</td>\n",
       "      <td>79</td>\n",
       "      <td>79</td>\n",
       "      <td>79</td>\n",
       "      <td>79</td>\n",
       "      <td>79</td>\n",
       "      <td>79</td>\n",
       "      <td>79</td>\n",
       "      <td>79</td>\n",
       "      <td>79</td>\n",
       "      <td>79</td>\n",
       "    </tr>\n",
       "  </tbody>\n",
       "</table>\n",
       "</div>"
      ],
      "text/plain": [
       "       datetime  water_level   do  miss  input_wind_throughput  \\\n",
       "label                                                            \n",
       "0           679          679  679   679                    679   \n",
       "1            79           79   79    79                     79   \n",
       "\n",
       "       input_wind_openness   ts  input_water_cod  output_water_cod  \\\n",
       "label                                                                \n",
       "0                      679  679              679               679   \n",
       "1                       79   79               79                79   \n",
       "\n",
       "       input_water_ammonia  output_water_ammonia  input_water_ph  \\\n",
       "label                                                              \n",
       "0                      679                   679             679   \n",
       "1                       79                    79              79   \n",
       "\n",
       "       output_water_phosphorus  input_water_ss  output_water_ss  year  month  \\\n",
       "label                                                                          \n",
       "0                          679             679              679   679    679   \n",
       "1                           79              79               79    79     79   \n",
       "\n",
       "       weekofyear  hour  \n",
       "label                    \n",
       "0             679   679  \n",
       "1              79    79  "
      ]
     },
     "execution_count": 145,
     "metadata": {},
     "output_type": "execute_result"
    }
   ],
   "source": [
    "sampled_df.groupby('label').count()"
   ]
  },
  {
   "cell_type": "code",
   "execution_count": 146,
   "metadata": {},
   "outputs": [],
   "source": [
    "X_train_sampled,X_test_sampled, y_train_sampled, y_test_sampled = train_test_split(sampled_df[features],sampled_df['label'],test_size=0.4, random_state=0)"
   ]
  },
  {
   "cell_type": "code",
   "execution_count": 147,
   "metadata": {},
   "outputs": [
    {
     "data": {
      "image/png": "[encoded data removed]",
      "text/plain": [
       "<Figure size 432x288 with 1 Axes>"
      ]
     },
     "metadata": {},
     "output_type": "display_data"
    }
   ],
   "source": [
    "#降维\n",
    "pca_sampled = PCA()\n",
    "X_pca_sampled=pca_sampled.fit_transform(X_train_sampled)\n",
    "plt.plot(np.cumsum(pca_sampled.explained_variance_ratio_))\n",
    "plt.xlabel('number of components')\n",
    "plt.ylabel('cumulative explained variance');"
   ]
  },
  {
   "cell_type": "code",
   "execution_count": 148,
   "metadata": {},
   "outputs": [],
   "source": [
    "pca_sampled = PCA(n_components=2)\n",
    "X_pca_sampled=pca_sampled.fit_transform(X_train_sampled)\n",
    "X_train_sampled_new= pca.inverse_transform(X_pca_sampled)"
   ]
  },
  {
   "cell_type": "code",
   "execution_count": 170,
   "metadata": {},
   "outputs": [],
   "source": [
    "rf_sampled = RandomForestClassifier(n_estimators=150)\n",
    "rf_sampled.fit(X_train_sampled_new,y_train_sampled)\n",
    "y_sampled_pred = rf_sampled.predict(X_test_sampled)"
   ]
  },
  {
   "cell_type": "code",
   "execution_count": 171,
   "metadata": {},
   "outputs": [
    {
     "data": {
      "text/plain": [
       "Text(91.68,0.5,'predicted label')"
      ]
     },
     "execution_count": 171,
     "metadata": {},
     "output_type": "execute_result"
    },
    {
     "data": {
      "image/png": "[encoded data removed]",
      "text/plain": [
       "<Figure size 432x288 with 1 Axes>"
      ]
     },
     "metadata": {},
     "output_type": "display_data"
    }
   ],
   "source": [
    "mat = confusion_matrix(y_test_sampled,y_sampled_pred)\n",
    "sns.heatmap(mat.T,square=True,annot=True,fmt='o',cbar=False)\n",
    "plt.xlabel('true label')\n",
    "plt.ylabel('predicted label')"
   ]
  },
  {
   "cell_type": "code",
   "execution_count": 172,
   "metadata": {},
   "outputs": [
    {
     "data": {
      "text/plain": [
       "0.8618421052631579"
      ]
     },
     "execution_count": 172,
     "metadata": {},
     "output_type": "execute_result"
    }
   ],
   "source": [
    "accuracy_score(y_test_sampled,y_sampled_pred)"
   ]
  },
  {
   "cell_type": "code",
   "execution_count": 173,
   "metadata": {},
   "outputs": [],
   "source": [
    "from sklearn.tree import DecisionTreeClassifier\n",
    "\n",
    "decision_tree = DecisionTreeClassifier()\n",
    "decision_tree.fit(X_train_sampled,y_train_sampled)\n",
    "y_pred_sampled=decision_tree.predict(X_test_sampled)"
   ]
  },
  {
   "cell_type": "code",
   "execution_count": 174,
   "metadata": {},
   "outputs": [
    {
     "data": {
      "text/plain": [
       "array([0.10488288, 0.1233191 , 0.00593438, 0.02919862, 0.18947804,\n",
       "       0.12526995, 0.        , 0.17201737, 0.09880579, 0.1257528 ,\n",
       "       0.02534106])"
      ]
     },
     "execution_count": 174,
     "metadata": {},
     "output_type": "execute_result"
    }
   ],
   "source": [
    "decision_tree.feature_importances_"
   ]
  },
  {
   "cell_type": "code",
   "execution_count": null,
   "metadata": {},
   "outputs": [],
   "source": []
  },
  {
   "cell_type": "code",
   "execution_count": 175,
   "metadata": {},
   "outputs": [
    {
     "data": {
      "text/plain": [
       "Text(91.68,0.5,'predicted label')"
      ]
     },
     "execution_count": 175,
     "metadata": {},
     "output_type": "execute_result"
    },
    {
     "data": {
      "image/png": "[encoded data removed]",
      "text/plain": [
       "<Figure size 432x288 with 1 Axes>"
      ]
     },
     "metadata": {},
     "output_type": "display_data"
    }
   ],
   "source": [
    "mat = confusion_matrix(y_test_sampled,y_pred_sampled)\n",
    "sns.heatmap(mat.T,square=True,annot=True,fmt='o',cbar=False)\n",
    "plt.xlabel('true label')\n",
    "plt.ylabel('predicted label')"
   ]
  },
  {
   "cell_type": "code",
   "execution_count": null,
   "metadata": {},
   "outputs": [],
   "source": []
  },
  {
   "cell_type": "code",
   "execution_count": 176,
   "metadata": {},
   "outputs": [],
   "source": [
    "from nltk import Tree, ProbabilisticTree\n",
    "a=decision_tree.tree_"
   ]
  },
  {
   "cell_type": "code",
   "execution_count": 177,
   "metadata": {},
   "outputs": [
    {
     "data": {
      "text/plain": [
       "0.868421052631579"
      ]
     },
     "execution_count": 177,
     "metadata": {},
     "output_type": "execute_result"
    }
   ],
   "source": [
    "accuracy_score(y_test_sampled,y_pred_sampled)"
   ]
  },
  {
   "cell_type": "code",
   "execution_count": 178,
   "metadata": {},
   "outputs": [],
   "source": [
    "decision_tree2 = DecisionTreeClassifier()\n",
    "decision_tree2.fit(X_train,y_train)\n",
    "y_pred2 = decision_tree2.predict(X_test)"
   ]
  },
  {
   "cell_type": "code",
   "execution_count": 179,
   "metadata": {},
   "outputs": [
    {
     "data": {
      "text/plain": [
       "Text(91.68,0.5,'predicted label')"
      ]
     },
     "execution_count": 179,
     "metadata": {},
     "output_type": "execute_result"
    },
    {
     "data": {
      "image/png": "[encoded data removed]",
      "text/plain": [
       "<Figure size 432x288 with 1 Axes>"
      ]
     },
     "metadata": {},
     "output_type": "display_data"
    }
   ],
   "source": [
    "mat = confusion_matrix(y_test,y_pred2)\n",
    "sns.heatmap(mat.T,square=True,annot=True,fmt='o',cbar=False)\n",
    "plt.xlabel('true label')\n",
    "plt.ylabel('predicted label')"
   ]
  },
  {
   "cell_type": "code",
   "execution_count": 180,
   "metadata": {
    "scrolled": true
   },
   "outputs": [
    {
     "data": {
      "text/plain": [
       "0.848298245614035"
      ]
     },
     "execution_count": 180,
     "metadata": {},
     "output_type": "execute_result"
    }
   ],
   "source": [
    "from sklearn.model_selection import cross_val_score\n",
    "cross_val_score(decision_tree,sampled_df[features],sampled_df['label'],cv=5).mean()"
   ]
  },
  {
   "cell_type": "code",
   "execution_count": 181,
   "metadata": {},
   "outputs": [
    {
     "data": {
      "text/plain": [
       "0.8783762895452286"
      ]
     },
     "execution_count": 181,
     "metadata": {},
     "output_type": "execute_result"
    }
   ],
   "source": [
    "cross_val_score(decision_tree,df[features],df['label'],cv=5).mean()"
   ]
  },
  {
   "cell_type": "code",
   "execution_count": 182,
   "metadata": {},
   "outputs": [
    {
     "data": {
      "text/plain": [
       "0.8892105263157895"
      ]
     },
     "execution_count": 182,
     "metadata": {},
     "output_type": "execute_result"
    }
   ],
   "source": [
    "cross_val_score(rf_sampled,sampled_df[features],sampled_df['label'],cv=5).mean()"
   ]
  },
  {
   "cell_type": "code",
   "execution_count": 183,
   "metadata": {
    "scrolled": true
   },
   "outputs": [
    {
     "data": {
      "text/plain": [
       "0.8925082305178351"
      ]
     },
     "execution_count": 183,
     "metadata": {},
     "output_type": "execute_result"
    }
   ],
   "source": [
    "cross_val_score(rf,df[features],df['label'],cv=5).mean()"
   ]
  },
  {
   "cell_type": "code",
   "execution_count": null,
   "metadata": {},
   "outputs": [],
   "source": []
  },
  {
   "cell_type": "code",
   "execution_count": null,
   "metadata": {},
   "outputs": [],
   "source": []
  },
  {
   "cell_type": "code",
   "execution_count": null,
   "metadata": {},
   "outputs": [],
   "source": []
  }
 ],
 "metadata": {
  "kernelspec": {
   "display_name": "Python 3",
   "language": "python",
   "name": "python3"
  },
  "language_info": {
   "codemirror_mode": {
    "name": "ipython",
    "version": 3
   },
   "file_extension": ".py",
   "mimetype": "text/x-python",
   "name": "python",
   "nbconvert_exporter": "python",
   "pygments_lexer": "ipython3",
   "version": "3.6.5"
  }
 },
 "nbformat": 4,
 "nbformat_minor": 2
}
