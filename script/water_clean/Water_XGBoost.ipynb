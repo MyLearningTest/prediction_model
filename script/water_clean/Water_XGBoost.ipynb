{
 "cells": [
  {
   "cell_type": "code",
   "execution_count": 2,
   "metadata": {},
   "outputs": [],
   "source": [
    "import pandas as pd\n",
    "import numpy as np\n",
    "import xgboost as xgb\n",
    "from xgboost import XGBClassifier\n",
    "import matplotlib.pyplot as plt\n",
    "from sklearn.model_selection import train_test_split\n",
    "from xgboost import plot_importance\n",
    "from sklearn.metrics import accuracy_score\n",
    "import seaborn as sns\n",
    "from sklearn.metrics import confusion_matrix"
   ]
  },
  {
   "cell_type": "code",
   "execution_count": 3,
   "metadata": {},
   "outputs": [],
   "source": [
    "data = pd.read_csv('/Users/haixiangliu/Documents/水质数据及代码模型/water_clean_data.csv')"
   ]
  },
  {
   "cell_type": "code",
   "execution_count": 4,
   "metadata": {},
   "outputs": [],
   "source": [
    "data.columns=['datetime','water_level','do','miss','input_wind_throughput','input_wind_openness','ts','input_water_cod','output_water_cod','input_water_ammonia','output_water_ammonia','input_water_ph','output_water_phosphorus','input_water_ss','output_water_ss']"
   ]
  },
  {
   "cell_type": "code",
   "execution_count": 5,
   "metadata": {},
   "outputs": [],
   "source": [
    "index_array=[]\n",
    "for d in data['output_water_cod']:\n",
    "    if d>=50:\n",
    "        index_array.append(1)  \n",
    "    else:\n",
    "        index_array.append(0)\n",
    "data['label']=pd.DataFrame(index_array)"
   ]
  },
  {
   "cell_type": "code",
   "execution_count": 6,
   "metadata": {},
   "outputs": [],
   "source": [
    "datetime_array=[]\n",
    "for value in data['datetime']:\n",
    "    datetime_array.append(value)\n",
    "data[data<0]=np.nan\n",
    "data['datetime']=pd.DataFrame(datetime_array)\n",
    "data = data.fillna(0.0)"
   ]
  },
  {
   "cell_type": "code",
   "execution_count": 7,
   "metadata": {},
   "outputs": [],
   "source": [
    "#抽样\n",
    "data_0=data[data['label']==0]\n",
    "data_1=data[data['label']==1]\n",
    "data0 = data_0.sample(frac=0.02)\n",
    "sampled_data = data_1.append(data0)"
   ]
  },
  {
   "cell_type": "code",
   "execution_count": 8,
   "metadata": {},
   "outputs": [],
   "source": [
    "Y = sampled_data['label']\n",
    "X= sampled_data.drop(['datetime','label','output_water_cod'],axis=1)"
   ]
  },
  {
   "cell_type": "code",
   "execution_count": 9,
   "metadata": {},
   "outputs": [],
   "source": [
    "X_train,X_test,y_train,y_test = train_test_split(X,Y,test_size=0.4,random_state = 0)"
   ]
  },
  {
   "cell_type": "code",
   "execution_count": 10,
   "metadata": {},
   "outputs": [],
   "source": [
    "dtrain = xgb.DMatrix(X_train,label=y_train)\n",
    "dtest= xgb.DMatrix(X_test,label = y_test)"
   ]
  },
  {
   "cell_type": "markdown",
   "metadata": {},
   "source": [
    "### 用XGBoost进行分类预测"
   ]
  },
  {
   "cell_type": "code",
   "execution_count": 11,
   "metadata": {},
   "outputs": [],
   "source": [
    "param={'max_depth':3,'eta':0.3,'silent':1,'objective':'multi:softprob','num_class':2}"
   ]
  },
  {
   "cell_type": "code",
   "execution_count": 12,
   "metadata": {},
   "outputs": [],
   "source": [
    "num_round = 10\n",
    "bst = xgb.train(param,dtrain,num_round)"
   ]
  },
  {
   "cell_type": "code",
   "execution_count": 13,
   "metadata": {},
   "outputs": [],
   "source": [
    "preds= bst.predict(dtest)"
   ]
  },
  {
   "cell_type": "code",
   "execution_count": 14,
   "metadata": {},
   "outputs": [
    {
     "data": {
      "text/plain": [
       "array([[0.96866906, 0.03133094],\n",
       "       [0.9526782 , 0.0473218 ],\n",
       "       [0.96866906, 0.03133094],\n",
       "       [0.9712524 , 0.0287476 ],\n",
       "       [0.93038005, 0.06961997],\n",
       "       [0.92873555, 0.07126447],\n",
       "       [0.96265686, 0.0373432 ],\n",
       "       [0.43829256, 0.5617074 ],\n",
       "       [0.59612244, 0.4038775 ],\n",
       "       [0.89541286, 0.10458712],\n",
       "       [0.65833277, 0.3416672 ],\n",
       "       [0.9712524 , 0.0287476 ],\n",
       "       [0.95291847, 0.04708153],\n",
       "       [0.16700728, 0.8329927 ],\n",
       "       [0.96701217, 0.03298785],\n",
       "       [0.9712524 , 0.0287476 ],\n",
       "       [0.8335504 , 0.16644955],\n",
       "       [0.9354212 , 0.06457871],\n",
       "       [0.86417687, 0.13582315],\n",
       "       [0.95291847, 0.04708153],\n",
       "       [0.96866906, 0.03133094],\n",
       "       [0.9712524 , 0.0287476 ],\n",
       "       [0.96701217, 0.03298785],\n",
       "       [0.83103603, 0.16896403],\n",
       "       [0.9712524 , 0.0287476 ],\n",
       "       [0.96701217, 0.03298785],\n",
       "       [0.96265686, 0.0373432 ],\n",
       "       [0.9583605 , 0.04163952],\n",
       "       [0.9533402 , 0.04665982],\n",
       "       [0.9526782 , 0.0473218 ],\n",
       "       [0.24099763, 0.7590024 ],\n",
       "       [0.9712524 , 0.0287476 ],\n",
       "       [0.92293483, 0.07706524],\n",
       "       [0.88864106, 0.11135893],\n",
       "       [0.94923306, 0.05076692],\n",
       "       [0.8795893 , 0.12041073],\n",
       "       [0.6968572 , 0.30314282],\n",
       "       [0.9109693 , 0.08903064],\n",
       "       [0.96743804, 0.03256196],\n",
       "       [0.8335504 , 0.16644955],\n",
       "       [0.96866906, 0.03133094],\n",
       "       [0.9404985 , 0.05950153],\n",
       "       [0.91328186, 0.08671817],\n",
       "       [0.5887201 , 0.4112799 ],\n",
       "       [0.4046518 , 0.5953482 ],\n",
       "       [0.955081  , 0.04491904],\n",
       "       [0.7136053 , 0.28639472],\n",
       "       [0.86417687, 0.13582315],\n",
       "       [0.5804313 , 0.41956872],\n",
       "       [0.96265686, 0.0373432 ],\n",
       "       [0.8986719 , 0.1013281 ],\n",
       "       [0.9354212 , 0.06457871],\n",
       "       [0.9488434 , 0.05115658],\n",
       "       [0.8795893 , 0.12041073],\n",
       "       [0.95888907, 0.04111097],\n",
       "       [0.87089187, 0.12910818],\n",
       "       [0.96265686, 0.0373432 ],\n",
       "       [0.808045  , 0.19195499],\n",
       "       [0.94059265, 0.05940729],\n",
       "       [0.9712524 , 0.0287476 ],\n",
       "       [0.9354212 , 0.06457871],\n",
       "       [0.96701217, 0.03298785],\n",
       "       [0.96265686, 0.0373432 ],\n",
       "       [0.9526782 , 0.0473218 ],\n",
       "       [0.8986719 , 0.1013281 ],\n",
       "       [0.8004762 , 0.19952378],\n",
       "       [0.93380517, 0.06619482],\n",
       "       [0.9295828 , 0.07041723],\n",
       "       [0.9150636 , 0.0849364 ],\n",
       "       [0.9712524 , 0.0287476 ],\n",
       "       [0.9526782 , 0.0473218 ],\n",
       "       [0.93081105, 0.06918891],\n",
       "       [0.85149527, 0.14850472],\n",
       "       [0.96743804, 0.03256196],\n",
       "       [0.95291847, 0.04708153],\n",
       "       [0.9367873 , 0.06321267],\n",
       "       [0.92873555, 0.07126447],\n",
       "       [0.9712524 , 0.0287476 ],\n",
       "       [0.95291847, 0.04708153],\n",
       "       [0.92293483, 0.07706524],\n",
       "       [0.92293483, 0.07706524],\n",
       "       [0.9583605 , 0.04163952],\n",
       "       [0.95888907, 0.04111097],\n",
       "       [0.3506336 , 0.64936644],\n",
       "       [0.9712524 , 0.0287476 ],\n",
       "       [0.96743804, 0.03256196],\n",
       "       [0.95291847, 0.04708153],\n",
       "       [0.90611416, 0.0938859 ],\n",
       "       [0.93871343, 0.0612866 ],\n",
       "       [0.92873555, 0.07126447],\n",
       "       [0.9712524 , 0.0287476 ],\n",
       "       [0.96743804, 0.03256196],\n",
       "       [0.9395737 , 0.06042632],\n",
       "       [0.9712524 , 0.0287476 ],\n",
       "       [0.94923306, 0.05076692],\n",
       "       [0.8183112 , 0.18168883],\n",
       "       [0.84641165, 0.15358837],\n",
       "       [0.6312801 , 0.36871994],\n",
       "       [0.95291847, 0.04708153],\n",
       "       [0.8345399 , 0.16546014],\n",
       "       [0.96701217, 0.03298785],\n",
       "       [0.6070735 , 0.39292648],\n",
       "       [0.69854957, 0.30145046],\n",
       "       [0.96743804, 0.03256196],\n",
       "       [0.93380517, 0.06619482],\n",
       "       [0.943483  , 0.05651699],\n",
       "       [0.954734  , 0.04526595],\n",
       "       [0.9575319 , 0.04246806],\n",
       "       [0.8515544 , 0.14844562],\n",
       "       [0.9712524 , 0.0287476 ],\n",
       "       [0.9583605 , 0.04163952],\n",
       "       [0.8162593 , 0.18374066],\n",
       "       [0.9365893 , 0.06341065],\n",
       "       [0.6784098 , 0.32159016],\n",
       "       [0.94923306, 0.05076692],\n",
       "       [0.943483  , 0.05651699],\n",
       "       [0.83443034, 0.16556972],\n",
       "       [0.8957402 , 0.10425976],\n",
       "       [0.95291847, 0.04708153],\n",
       "       [0.95291847, 0.04708153],\n",
       "       [0.9530581 , 0.04694189],\n",
       "       [0.9583605 , 0.04163952],\n",
       "       [0.84706974, 0.15293026],\n",
       "       [0.9583605 , 0.04163952],\n",
       "       [0.7345109 , 0.2654891 ],\n",
       "       [0.95291847, 0.04708153],\n",
       "       [0.72618467, 0.27381533],\n",
       "       [0.96701217, 0.03298785],\n",
       "       [0.96265686, 0.0373432 ],\n",
       "       [0.9334742 , 0.06652586],\n",
       "       [0.7918863 , 0.20811366],\n",
       "       [0.8795893 , 0.12041073],\n",
       "       [0.8795893 , 0.12041073],\n",
       "       [0.8957402 , 0.10425976],\n",
       "       [0.894893  , 0.10510702],\n",
       "       [0.96701217, 0.03298785],\n",
       "       [0.943483  , 0.05651699],\n",
       "       [0.9712524 , 0.0287476 ],\n",
       "       [0.9712524 , 0.0287476 ],\n",
       "       [0.24018697, 0.7598131 ],\n",
       "       [0.9140265 , 0.08597345],\n",
       "       [0.86040217, 0.13959785],\n",
       "       [0.9109693 , 0.08903064],\n",
       "       [0.866073  , 0.13392699],\n",
       "       [0.92873555, 0.07126447],\n",
       "       [0.8801254 , 0.11987462],\n",
       "       [0.6439738 , 0.35602617],\n",
       "       [0.9533402 , 0.04665982],\n",
       "       [0.96265686, 0.0373432 ],\n",
       "       [0.95888907, 0.04111097],\n",
       "       [0.95291847, 0.04708153],\n",
       "       [0.9404985 , 0.05950153],\n",
       "       [0.9712524 , 0.0287476 ],\n",
       "       [0.9712524 , 0.0287476 ],\n",
       "       [0.9583605 , 0.04163952],\n",
       "       [0.96701217, 0.03298785],\n",
       "       [0.96701217, 0.03298785],\n",
       "       [0.8957402 , 0.10425976],\n",
       "       [0.84641165, 0.15358837],\n",
       "       [0.7690177 , 0.23098235],\n",
       "       [0.77691287, 0.22308713],\n",
       "       [0.9150636 , 0.0849364 ],\n",
       "       [0.91328186, 0.08671817],\n",
       "       [0.954734  , 0.04526595],\n",
       "       [0.76930285, 0.23069715],\n",
       "       [0.9712524 , 0.0287476 ],\n",
       "       [0.96265686, 0.0373432 ],\n",
       "       [0.7628547 , 0.23714536],\n",
       "       [0.9712524 , 0.0287476 ],\n",
       "       [0.86040217, 0.13959785],\n",
       "       [0.96866906, 0.03133094],\n",
       "       [0.96701217, 0.03298785],\n",
       "       [0.90611416, 0.0938859 ],\n",
       "       [0.86417687, 0.13582315],\n",
       "       [0.84706974, 0.15293026],\n",
       "       [0.81222916, 0.18777078],\n",
       "       [0.7084639 , 0.29153606],\n",
       "       [0.34797907, 0.65202093],\n",
       "       [0.9712524 , 0.0287476 ],\n",
       "       [0.96265686, 0.0373432 ],\n",
       "       [0.7973989 , 0.20260108],\n",
       "       [0.9488434 , 0.05115658],\n",
       "       [0.9354212 , 0.06457871],\n",
       "       [0.6464566 , 0.35354346],\n",
       "       [0.93380517, 0.06619482],\n",
       "       [0.96743804, 0.03256196],\n",
       "       [0.9488434 , 0.05115658],\n",
       "       [0.9583605 , 0.04163952],\n",
       "       [0.8795893 , 0.12041073],\n",
       "       [0.8801254 , 0.11987462],\n",
       "       [0.3506336 , 0.64936644],\n",
       "       [0.93081105, 0.06918891],\n",
       "       [0.9533402 , 0.04665982],\n",
       "       [0.89991623, 0.10008376],\n",
       "       [0.9712524 , 0.0287476 ],\n",
       "       [0.89541286, 0.10458712],\n",
       "       [0.9583605 , 0.04163952],\n",
       "       [0.95888907, 0.04111097],\n",
       "       [0.92962164, 0.07037838],\n",
       "       [0.96866906, 0.03133094],\n",
       "       [0.9488434 , 0.05115658],\n",
       "       [0.93038005, 0.06961997],\n",
       "       [0.9583605 , 0.04163952],\n",
       "       [0.9712524 , 0.0287476 ],\n",
       "       [0.9583605 , 0.04163952],\n",
       "       [0.9712524 , 0.0287476 ],\n",
       "       [0.82399607, 0.17600389],\n",
       "       [0.96866906, 0.03133094],\n",
       "       [0.92873555, 0.07126447],\n",
       "       [0.92873555, 0.07126447],\n",
       "       [0.65283036, 0.34716967],\n",
       "       [0.9712524 , 0.0287476 ],\n",
       "       [0.9583605 , 0.04163952],\n",
       "       [0.9712524 , 0.0287476 ],\n",
       "       [0.9712524 , 0.0287476 ],\n",
       "       [0.9712524 , 0.0287476 ],\n",
       "       [0.95291847, 0.04708153],\n",
       "       [0.81868553, 0.18131444],\n",
       "       [0.96866906, 0.03133094],\n",
       "       [0.93380517, 0.06619482],\n",
       "       [0.93380517, 0.06619482],\n",
       "       [0.57901895, 0.42098108],\n",
       "       [0.9109693 , 0.08903064],\n",
       "       [0.92873555, 0.07126447],\n",
       "       [0.9712524 , 0.0287476 ],\n",
       "       [0.9712524 , 0.0287476 ],\n",
       "       [0.84622073, 0.15377922],\n",
       "       [0.93622607, 0.06377397],\n",
       "       [0.943483  , 0.05651699],\n",
       "       [0.9712524 , 0.0287476 ],\n",
       "       [0.9533402 , 0.04665982],\n",
       "       [0.95291847, 0.04708153],\n",
       "       [0.9712524 , 0.0287476 ],\n",
       "       [0.83471704, 0.16528298],\n",
       "       [0.8795893 , 0.12041073],\n",
       "       [0.9712524 , 0.0287476 ],\n",
       "       [0.96701217, 0.03298785],\n",
       "       [0.75092983, 0.24907018],\n",
       "       [0.4090798 , 0.59092027],\n",
       "       [0.84641165, 0.15358837],\n",
       "       [0.9712524 , 0.0287476 ],\n",
       "       [0.7799368 , 0.2200632 ],\n",
       "       [0.96866906, 0.03133094],\n",
       "       [0.90611416, 0.0938859 ],\n",
       "       [0.96701217, 0.03298785],\n",
       "       [0.9712524 , 0.0287476 ],\n",
       "       [0.9712524 , 0.0287476 ],\n",
       "       [0.95888907, 0.04111097],\n",
       "       [0.96265686, 0.0373432 ],\n",
       "       [0.9712524 , 0.0287476 ],\n",
       "       [0.73820394, 0.26179603],\n",
       "       [0.86533415, 0.13466582],\n",
       "       [0.9575319 , 0.04246806],\n",
       "       [0.8801254 , 0.11987462],\n",
       "       [0.9472782 , 0.05272183],\n",
       "       [0.943483  , 0.05651699],\n",
       "       [0.9354212 , 0.06457871],\n",
       "       [0.96866906, 0.03133094],\n",
       "       [0.91328186, 0.08671817],\n",
       "       [0.96743804, 0.03256196],\n",
       "       [0.16700728, 0.8329927 ],\n",
       "       [0.96866906, 0.03133094],\n",
       "       [0.68551373, 0.3144863 ],\n",
       "       [0.8785691 , 0.1214309 ],\n",
       "       [0.9295828 , 0.07041723],\n",
       "       [0.91328186, 0.08671817],\n",
       "       [0.96866906, 0.03133094],\n",
       "       [0.96265686, 0.0373432 ],\n",
       "       [0.9712524 , 0.0287476 ],\n",
       "       [0.9150636 , 0.0849364 ],\n",
       "       [0.86533415, 0.13466582],\n",
       "       [0.9472782 , 0.05272183],\n",
       "       [0.3753793 , 0.6246207 ],\n",
       "       [0.75707626, 0.2429237 ],\n",
       "       [0.91678345, 0.08321655],\n",
       "       [0.9712524 , 0.0287476 ],\n",
       "       [0.96866906, 0.03133094],\n",
       "       [0.95888907, 0.04111097],\n",
       "       [0.90341747, 0.0965825 ],\n",
       "       [0.77992713, 0.22007284],\n",
       "       [0.95291847, 0.04708153],\n",
       "       [0.96743804, 0.03256196],\n",
       "       [0.83443034, 0.16556972],\n",
       "       [0.95888907, 0.04111097],\n",
       "       [0.9712524 , 0.0287476 ],\n",
       "       [0.90611416, 0.0938859 ],\n",
       "       [0.93081105, 0.06918891],\n",
       "       [0.95226   , 0.04773997],\n",
       "       [0.96743804, 0.03256196],\n",
       "       [0.96743804, 0.03256196],\n",
       "       [0.93622607, 0.06377397],\n",
       "       [0.9712524 , 0.0287476 ],\n",
       "       [0.95291847, 0.04708153],\n",
       "       [0.9712524 , 0.0287476 ],\n",
       "       [0.943483  , 0.05651699],\n",
       "       [0.9354212 , 0.06457871],\n",
       "       [0.96866906, 0.03133094],\n",
       "       [0.9583605 , 0.04163952],\n",
       "       [0.96866906, 0.03133094],\n",
       "       [0.943483  , 0.05651699],\n",
       "       [0.93622607, 0.06377397],\n",
       "       [0.93081105, 0.06918891],\n",
       "       [0.96866906, 0.03133094],\n",
       "       [0.86533415, 0.13466582]], dtype=float32)"
      ]
     },
     "execution_count": 14,
     "metadata": {},
     "output_type": "execute_result"
    }
   ],
   "source": [
    "#属于某类的可能性，选取概率大的作为分类\n",
    "preds"
   ]
  },
  {
   "cell_type": "code",
   "execution_count": 15,
   "metadata": {},
   "outputs": [],
   "source": [
    "best_preds = np.asarray([np.argmax(line) for line in preds])"
   ]
  },
  {
   "cell_type": "code",
   "execution_count": 16,
   "metadata": {
    "scrolled": true
   },
   "outputs": [
    {
     "name": "stdout",
     "output_type": "stream",
     "text": [
      "Precision_Score ：0.7272727272727273\n"
     ]
    }
   ],
   "source": [
    "#预测精度\n",
    "from sklearn.metrics import precision_score\n",
    "p_score = precision_score(y_test,best_preds)\n",
    "print('Precision_Score ：'+str(p_score))"
   ]
  },
  {
   "cell_type": "code",
   "execution_count": 17,
   "metadata": {
    "scrolled": true
   },
   "outputs": [
    {
     "name": "stdout",
     "output_type": "stream",
     "text": [
      "Accuracy: 90.13%\n"
     ]
    }
   ],
   "source": [
    "#模型评估\n",
    "accuracy = accuracy_score(y_test,best_preds)\n",
    "print('Accuracy: %.2f%%' %(accuracy*100.0))"
   ]
  },
  {
   "cell_type": "code",
   "execution_count": 18,
   "metadata": {},
   "outputs": [
    {
     "data": {
      "text/plain": [
       "<matplotlib.axes._subplots.AxesSubplot at 0x1a0d274438>"
      ]
     },
     "execution_count": 18,
     "metadata": {},
     "output_type": "execute_result"
    },
    {
     "data": {
      "image/png": "[encoded data removed]",
      "text/plain": [
       "<Figure size 432x288 with 1 Axes>"
      ]
     },
     "metadata": {},
     "output_type": "display_data"
    }
   ],
   "source": [
    "#feature的重要性\n",
    "plot_importance(bst,height = 0.5)"
   ]
  },
  {
   "cell_type": "code",
   "execution_count": 19,
   "metadata": {},
   "outputs": [
    {
     "data": {
      "text/plain": [
       "Text(91.68,0.5,'predicted lable')"
      ]
     },
     "execution_count": 19,
     "metadata": {},
     "output_type": "execute_result"
    },
    {
     "data": {
      "image/png": "[encoded data removed]",
      "text/plain": [
       "<Figure size 432x288 with 1 Axes>"
      ]
     },
     "metadata": {},
     "output_type": "display_data"
    }
   ],
   "source": [
    "mat = confusion_matrix(y_test,best_preds)\n",
    "sns.heatmap(mat.T,square = True,annot=True,fmt='o',cbar=False)\n",
    "plt.xlabel('true label')\n",
    "plt.ylabel('predicted lable')"
   ]
  },
  {
   "cell_type": "markdown",
   "metadata": {},
   "source": [
    "### 用XGBClassifier对数据进行预测"
   ]
  },
  {
   "cell_type": "code",
   "execution_count": 20,
   "metadata": {},
   "outputs": [],
   "source": [
    "model = XGBClassifier(n_estimators=100,max_depth=3,objective='multi:softmax',num_class=2,subsample=0.8,colasmple_btree=0.8)"
   ]
  },
  {
   "cell_type": "code",
   "execution_count": 21,
   "metadata": {
    "scrolled": true
   },
   "outputs": [
    {
     "data": {
      "text/plain": [
       "XGBClassifier(base_score=0.5, booster='gbtree', colasmple_btree=0.8,\n",
       "       colsample_bylevel=1, colsample_bytree=1, gamma=0, learning_rate=0.1,\n",
       "       max_delta_step=0, max_depth=3, min_child_weight=1, missing=None,\n",
       "       n_estimators=100, n_jobs=1, nthread=None, num_class=2,\n",
       "       objective='multi:softmax', random_state=0, reg_alpha=0,\n",
       "       reg_lambda=1, scale_pos_weight=1, seed=None, silent=True,\n",
       "       subsample=0.8)"
      ]
     },
     "execution_count": 21,
     "metadata": {},
     "output_type": "execute_result"
    }
   ],
   "source": [
    "model.fit(X_train,y_train)"
   ]
  },
  {
   "cell_type": "code",
   "execution_count": 22,
   "metadata": {
    "scrolled": true
   },
   "outputs": [
    {
     "name": "stdout",
     "output_type": "stream",
     "text": [
      "[0]\tvalidation_0-mlogloss:0.62702\n",
      "Will train until validation_0-mlogloss hasn't improved in 10 rounds.\n",
      "[1]\tvalidation_0-mlogloss:0.573417\n",
      "[2]\tvalidation_0-mlogloss:0.528626\n",
      "[3]\tvalidation_0-mlogloss:0.490821\n",
      "[4]\tvalidation_0-mlogloss:0.457466\n",
      "[5]\tvalidation_0-mlogloss:0.430709\n",
      "[6]\tvalidation_0-mlogloss:0.407466\n",
      "[7]\tvalidation_0-mlogloss:0.387825\n",
      "[8]\tvalidation_0-mlogloss:0.370781\n",
      "[9]\tvalidation_0-mlogloss:0.355285\n",
      "[10]\tvalidation_0-mlogloss:0.342378\n",
      "[11]\tvalidation_0-mlogloss:0.331013\n",
      "[12]\tvalidation_0-mlogloss:0.321669\n",
      "[13]\tvalidation_0-mlogloss:0.3133\n",
      "[14]\tvalidation_0-mlogloss:0.306332\n",
      "[15]\tvalidation_0-mlogloss:0.300601\n",
      "[16]\tvalidation_0-mlogloss:0.294983\n",
      "[17]\tvalidation_0-mlogloss:0.289855\n",
      "[18]\tvalidation_0-mlogloss:0.286229\n",
      "[19]\tvalidation_0-mlogloss:0.283081\n",
      "[20]\tvalidation_0-mlogloss:0.280209\n",
      "[21]\tvalidation_0-mlogloss:0.276863\n",
      "[22]\tvalidation_0-mlogloss:0.274086\n",
      "[23]\tvalidation_0-mlogloss:0.271462\n",
      "[24]\tvalidation_0-mlogloss:0.269986\n",
      "[25]\tvalidation_0-mlogloss:0.268848\n",
      "[26]\tvalidation_0-mlogloss:0.268302\n",
      "[27]\tvalidation_0-mlogloss:0.267\n",
      "[28]\tvalidation_0-mlogloss:0.266875\n",
      "[29]\tvalidation_0-mlogloss:0.266426\n",
      "[30]\tvalidation_0-mlogloss:0.266172\n",
      "[31]\tvalidation_0-mlogloss:0.26642\n",
      "[32]\tvalidation_0-mlogloss:0.267085\n",
      "[33]\tvalidation_0-mlogloss:0.268561\n",
      "[34]\tvalidation_0-mlogloss:0.26832\n",
      "[35]\tvalidation_0-mlogloss:0.268009\n",
      "[36]\tvalidation_0-mlogloss:0.268615\n",
      "[37]\tvalidation_0-mlogloss:0.269112\n",
      "[38]\tvalidation_0-mlogloss:0.269729\n",
      "[39]\tvalidation_0-mlogloss:0.270145\n",
      "[40]\tvalidation_0-mlogloss:0.270148\n",
      "Stopping. Best iteration:\n",
      "[30]\tvalidation_0-mlogloss:0.266172\n",
      "\n"
     ]
    },
    {
     "data": {
      "text/plain": [
       "XGBClassifier(base_score=0.5, booster='gbtree', colasmple_btree=0.8,\n",
       "       colsample_bylevel=1, colsample_bytree=1, gamma=0, learning_rate=0.1,\n",
       "       max_delta_step=0, max_depth=3, min_child_weight=1, missing=None,\n",
       "       n_estimators=100, n_jobs=1, nthread=None, num_class=2,\n",
       "       objective='multi:softmax', random_state=0, reg_alpha=0,\n",
       "       reg_lambda=1, scale_pos_weight=1, seed=None, silent=True,\n",
       "       subsample=0.8)"
      ]
     },
     "execution_count": 22,
     "metadata": {},
     "output_type": "execute_result"
    }
   ],
   "source": [
    "eval_set = [(X_test,y_test)]\n",
    "model.fit(X_train,y_train,eval_set=eval_set,eval_metric='mlogloss',early_stopping_rounds=10,verbose=True)"
   ]
  },
  {
   "cell_type": "code",
   "execution_count": 23,
   "metadata": {
    "scrolled": true
   },
   "outputs": [
    {
     "name": "stderr",
     "output_type": "stream",
     "text": [
      "/usr/local/anaconda3/lib/python3.6/site-packages/sklearn/preprocessing/label.py:151: DeprecationWarning: The truth value of an empty array is ambiguous. Returning False, but in future this will result in an error. Use `array.size > 0` to check that an array is not empty.\n",
      "  if diff:\n"
     ]
    }
   ],
   "source": [
    "preds = model.predict(X_test)"
   ]
  },
  {
   "cell_type": "code",
   "execution_count": 24,
   "metadata": {},
   "outputs": [
    {
     "data": {
      "text/plain": [
       "Text(91.68,0.5,'predicted lable')"
      ]
     },
     "execution_count": 24,
     "metadata": {},
     "output_type": "execute_result"
    },
    {
     "data": {
      "image/png": "[encoded data removed]",
      "text/plain": [
       "<Figure size 432x288 with 1 Axes>"
      ]
     },
     "metadata": {},
     "output_type": "display_data"
    }
   ],
   "source": [
    "mat = confusion_matrix(y_test,preds)\n",
    "sns.heatmap(mat.T,square = True,annot=True,fmt='o',cbar=False)\n",
    "plt.xlabel('true label')\n",
    "plt.ylabel('predicted lable')"
   ]
  },
  {
   "cell_type": "code",
   "execution_count": 25,
   "metadata": {},
   "outputs": [
    {
     "name": "stdout",
     "output_type": "stream",
     "text": [
      "Precision:0.7777777777777778\n"
     ]
    }
   ],
   "source": [
    "p_score = precision_score(y_test,preds)\n",
    "print('Precision:'+str(p_score))"
   ]
  },
  {
   "cell_type": "code",
   "execution_count": 26,
   "metadata": {
    "scrolled": true
   },
   "outputs": [
    {
     "name": "stdout",
     "output_type": "stream",
     "text": [
      "Accuracy: 90.13%\n"
     ]
    }
   ],
   "source": [
    "acc_score=accuracy_score(y_test,preds)\n",
    "print('Accuracy: %.2f%%' %(acc_score*100.0))"
   ]
  },
  {
   "cell_type": "code",
   "execution_count": 27,
   "metadata": {
    "scrolled": true
   },
   "outputs": [
    {
     "data": {
      "text/plain": [
       "<matplotlib.axes._subplots.AxesSubplot at 0x1a0ba531d0>"
      ]
     },
     "execution_count": 27,
     "metadata": {},
     "output_type": "execute_result"
    },
    {
     "data": {
      "image/png": "[encoded data removed]",
      "text/plain": [
       "<Figure size 432x288 with 1 Axes>"
      ]
     },
     "metadata": {},
     "output_type": "display_data"
    }
   ],
   "source": [
    "plot_importance(model,height=0.5)"
   ]
  },
  {
   "cell_type": "markdown",
   "metadata": {},
   "source": [
    "### 用XGBClassifier模型对窗口处理后的数据进行分类预测"
   ]
  },
  {
   "cell_type": "code",
   "execution_count": 28,
   "metadata": {},
   "outputs": [],
   "source": [
    "rolling_features_input_cols = ['do', 'miss', 'input_wind_throughput', 'input_wind_openness',\n",
    "                    'input_water_cod', 'output_water_cod', 'input_water_ammonia', \n",
    "                    'output_water_ammonia', 'input_water_ph', 'output_water_phosphorus', \n",
    "                    'input_water_ss', 'output_water_ss']\n",
    "lags=[3,7]"
   ]
  },
  {
   "cell_type": "code",
   "execution_count": 29,
   "metadata": {},
   "outputs": [],
   "source": [
    "data1=data.sort_values(by=['datetime'])"
   ]
  },
  {
   "cell_type": "code",
   "execution_count": 30,
   "metadata": {},
   "outputs": [],
   "source": [
    "#均值\n",
    "for lag_n in lags:\n",
    "    for col_name in rolling_features_input_cols:\n",
    "        data1[col_name+'_rollingavg_'+str(lag_n)]=data1[col_name].rolling(window=lag_n).mean()\n",
    "#最小值\n",
    "for lag_n in lags:\n",
    "    for col_name in rolling_features_input_cols:\n",
    "        data1[col_name+'_rollingmin_'+str(lag_n)]=data1[col_name].rolling(window=lag_n).min()\n",
    "#最大值\n",
    "for lag_n in lags:\n",
    "    for col_name in rolling_features_input_cols:\n",
    "        data1[col_name+'_rollingmax_'+str(lag_n)]=data1[col_name].rolling(window=lag_n).max()\n",
    "#初值-均值\n",
    "for lag_n in lags:\n",
    "    for col_name in rolling_features_input_cols:\n",
    "        data[col_name+'_rollingsub_'+str(lag_n)]=data1[col_name]-data1[col_name].rolling(window=lag_n).mean()\n",
    "#标准差\n",
    "for lag_n in lags:\n",
    "    for col_name in rolling_features_input_cols:\n",
    "        data1[col_name+'_rollingstd_'+str(lag_n)]=data1[col_name].rolling(window=lag_n).std()"
   ]
  },
  {
   "cell_type": "code",
   "execution_count": 31,
   "metadata": {},
   "outputs": [],
   "source": [
    "#抽样进行训练，预测\n",
    "data_0=data1[data1['label']==0]\n",
    "data_1=data1[data1['label']==1]\n",
    "#抽取label=0的数据的20%\n",
    "sample_data_0 = data_0.sample(frac=0.02)\n",
    "#数据中label=1的所有数据\n",
    "sampled_data1=data_1.append(sample_data_0)"
   ]
  },
  {
   "cell_type": "code",
   "execution_count": 32,
   "metadata": {},
   "outputs": [],
   "source": [
    "excluded_cols = ['datetime', 'label', 'ts', 'output_water_cod']\n",
    "rolling_features = [col for col in sampled_data.columns if \"_rolling\" in col]\n",
    "basic_features = [col for col in sampled_data.columns if col not in rolling_features + excluded_cols]"
   ]
  },
  {
   "cell_type": "code",
   "execution_count": 33,
   "metadata": {},
   "outputs": [],
   "source": [
    "rollingavg_features = [col for col in sampled_data1.columns if \"_rollingavg\" in col]\n",
    "rollingmax_features = [col for col in sampled_data1.columns if \"_rollingmax\" in col]\n",
    "rollingmin_features = [col for col in sampled_data1.columns if \"_rollingmin\" in col]\n",
    "rollingsub_features = [col for col in sampled_data1.columns if \"_rollingsub\" in col]\n",
    "rollingstd_features = [col for col in sampled_data1.columns if \"_rollingstd\" in col]\n",
    "features_basic=basic_features+rollingavg_features+rollingmax_features+rollingmin_features+rollingsub_features+rollingstd_features"
   ]
  },
  {
   "cell_type": "code",
   "execution_count": 34,
   "metadata": {},
   "outputs": [],
   "source": [
    "X_train,X_test,y_train,y_test = train_test_split(sampled_data1[features_basic],sampled_data1['label'],test_size=0.4)"
   ]
  },
  {
   "cell_type": "code",
   "execution_count": 35,
   "metadata": {},
   "outputs": [],
   "source": [
    "model=XGBClassifier(n_estimators=100,max_depth=3,objective='multi:softmax',num_class=2,subsample=0.8,colasmple_btree=0.8)"
   ]
  },
  {
   "cell_type": "code",
   "execution_count": 36,
   "metadata": {},
   "outputs": [
    {
     "data": {
      "text/plain": [
       "XGBClassifier(base_score=0.5, booster='gbtree', colasmple_btree=0.8,\n",
       "       colsample_bylevel=1, colsample_bytree=1, gamma=0, learning_rate=0.1,\n",
       "       max_delta_step=0, max_depth=3, min_child_weight=1, missing=None,\n",
       "       n_estimators=100, n_jobs=1, nthread=None, num_class=2,\n",
       "       objective='multi:softmax', random_state=0, reg_alpha=0,\n",
       "       reg_lambda=1, scale_pos_weight=1, seed=None, silent=True,\n",
       "       subsample=0.8)"
      ]
     },
     "execution_count": 36,
     "metadata": {},
     "output_type": "execute_result"
    }
   ],
   "source": [
    "model.fit(X_train,y_train)"
   ]
  },
  {
   "cell_type": "code",
   "execution_count": 37,
   "metadata": {
    "scrolled": true
   },
   "outputs": [
    {
     "name": "stderr",
     "output_type": "stream",
     "text": [
      "/usr/local/anaconda3/lib/python3.6/site-packages/sklearn/preprocessing/label.py:151: DeprecationWarning: The truth value of an empty array is ambiguous. Returning False, but in future this will result in an error. Use `array.size > 0` to check that an array is not empty.\n",
      "  if diff:\n"
     ]
    }
   ],
   "source": [
    "w_preds = model.predict(X_test)"
   ]
  },
  {
   "cell_type": "code",
   "execution_count": 38,
   "metadata": {},
   "outputs": [
    {
     "data": {
      "text/plain": [
       "Text(91.68,0.5,'predicted lable')"
      ]
     },
     "execution_count": 38,
     "metadata": {},
     "output_type": "execute_result"
    },
    {
     "data": {
      "image/png": "[encoded data removed]",
      "text/plain": [
       "<Figure size 432x288 with 1 Axes>"
      ]
     },
     "metadata": {},
     "output_type": "display_data"
    }
   ],
   "source": [
    "mat = confusion_matrix(y_test,w_preds)\n",
    "sns.heatmap(mat.T,square = True,annot=True,fmt='o',cbar=False)\n",
    "plt.xlabel('true label')\n",
    "plt.ylabel('predicted lable')"
   ]
  },
  {
   "cell_type": "code",
   "execution_count": 46,
   "metadata": {},
   "outputs": [
    {
     "name": "stdout",
     "output_type": "stream",
     "text": [
      "Accuracy_score: 98.68%\n"
     ]
    }
   ],
   "source": [
    "print('Accuracy_score: %.2f%%' %(accuracy_score(y_test,w_preds)*100.0))"
   ]
  },
  {
   "cell_type": "code",
   "execution_count": 40,
   "metadata": {},
   "outputs": [
    {
     "data": {
      "text/plain": [
       "<matplotlib.axes._subplots.AxesSubplot at 0x1a18d31a20>"
      ]
     },
     "execution_count": 40,
     "metadata": {},
     "output_type": "execute_result"
    },
    {
     "data": {
      "image/png": "[encoded data removed]",
      "text/plain": [
       "<Figure size 432x288 with 1 Axes>"
      ]
     },
     "metadata": {},
     "output_type": "display_data"
    }
   ],
   "source": [
    "plot_importance(model,height=0.5)"
   ]
  },
  {
   "cell_type": "markdown",
   "metadata": {},
   "source": [
    "###  窗口+缺失值处理+标准化处理+XGBClassifier"
   ]
  },
  {
   "cell_type": "code",
   "execution_count": 41,
   "metadata": {},
   "outputs": [],
   "source": [
    "from sklearn.preprocessing import StandardScaler\n",
    "from sklearn.pipeline import Pipeline\n",
    "from sklearn.preprocessing import Imputer "
   ]
  },
  {
   "cell_type": "code",
   "execution_count": 42,
   "metadata": {},
   "outputs": [],
   "source": [
    "pipe = Pipeline([('imputer',Imputer()),('sc',StandardScaler()),('xgbc',XGBClassifier(n_estimators=100,max_depth=3,objective='multi:softmax',num_class=2,subsample=0.8,colasmple_btree=0.8))])"
   ]
  },
  {
   "cell_type": "code",
   "execution_count": 43,
   "metadata": {
    "scrolled": true
   },
   "outputs": [
    {
     "name": "stderr",
     "output_type": "stream",
     "text": [
      "/usr/local/anaconda3/lib/python3.6/site-packages/sklearn/preprocessing/label.py:151: DeprecationWarning: The truth value of an empty array is ambiguous. Returning False, but in future this will result in an error. Use `array.size > 0` to check that an array is not empty.\n",
      "  if diff:\n",
      "/usr/local/anaconda3/lib/python3.6/site-packages/sklearn/preprocessing/label.py:151: DeprecationWarning: The truth value of an empty array is ambiguous. Returning False, but in future this will result in an error. Use `array.size > 0` to check that an array is not empty.\n",
      "  if diff:\n"
     ]
    },
    {
     "data": {
      "text/plain": [
       "0.9868421052631579"
      ]
     },
     "execution_count": 43,
     "metadata": {},
     "output_type": "execute_result"
    }
   ],
   "source": [
    "pipe.fit(X_train,y_train)\n",
    "predictions = pipe.predict(X_test)\n",
    "pipe.score(X_test,y_test)"
   ]
  },
  {
   "cell_type": "code",
   "execution_count": 44,
   "metadata": {},
   "outputs": [
    {
     "data": {
      "text/plain": [
       "Text(91.68,0.5,'predicted lable')"
      ]
     },
     "execution_count": 44,
     "metadata": {},
     "output_type": "execute_result"
    },
    {
     "data": {
      "image/png": "[encoded data removed]",
      "text/plain": [
       "<Figure size 432x288 with 1 Axes>"
      ]
     },
     "metadata": {},
     "output_type": "display_data"
    }
   ],
   "source": [
    "mat = confusion_matrix(y_test,predictions)\n",
    "sns.heatmap(mat.T,square = True,annot=True,fmt='o',cbar=False)\n",
    "plt.xlabel('true label')\n",
    "plt.ylabel('predicted lable')"
   ]
  },
  {
   "cell_type": "code",
   "execution_count": 45,
   "metadata": {},
   "outputs": [
    {
     "name": "stdout",
     "output_type": "stream",
     "text": [
      "Accuracy_score: 98.68%\n"
     ]
    }
   ],
   "source": [
    "print('Accuracy_score: %.2f%%' %(accuracy_score(y_test,predictions)*100.0))"
   ]
  },
  {
   "cell_type": "code",
   "execution_count": null,
   "metadata": {},
   "outputs": [],
   "source": []
  }
 ],
 "metadata": {
  "kernelspec": {
   "display_name": "Python 3",
   "language": "python",
   "name": "python3"
  },
  "language_info": {
   "codemirror_mode": {
    "name": "ipython",
    "version": 3
   },
   "file_extension": ".py",
   "mimetype": "text/x-python",
   "name": "python",
   "nbconvert_exporter": "python",
   "pygments_lexer": "ipython3",
   "version": "3.6.5"
  }
 },
 "nbformat": 4,
 "nbformat_minor": 2
}
