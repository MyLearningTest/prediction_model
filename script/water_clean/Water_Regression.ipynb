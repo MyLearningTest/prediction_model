{
 "cells": [
  {
   "cell_type": "code",
   "execution_count": 39,
   "metadata": {},
   "outputs": [],
   "source": [
    "import pandas as pd\n",
    "import numpy as np"
   ]
  },
  {
   "cell_type": "code",
   "execution_count": 337,
   "metadata": {},
   "outputs": [],
   "source": [
    "data = pd.read_csv('/Users/haixiangliu/Documents/水质数据及代码模型/water_clean_data_2hour.csv')"
   ]
  },
  {
   "cell_type": "code",
   "execution_count": 338,
   "metadata": {},
   "outputs": [],
   "source": [
    "data.columns = ['id','datetime','water_level','do','miss','input_wind_throughput','input_wind_openness','ts','input_water_cod','output_water_cod','input_water_ammonia','output_water_ammonia','input_water_ph','output_water_phosphorus','input_water_ss','output_water_ss','label']"
   ]
  },
  {
   "cell_type": "code",
   "execution_count": 339,
   "metadata": {},
   "outputs": [],
   "source": [
    "data[['input_wind_throughput','input_wind_openness','input_water_cod','output_water_cod','output_water_ammonia','input_water_ss','output_water_ss','label']]=data[['input_wind_throughput','input_wind_openness','input_water_cod','output_water_cod','output_water_ammonia','input_water_ss','output_water_ss','label']].astype(float)"
   ]
  },
  {
   "cell_type": "code",
   "execution_count": 340,
   "metadata": {},
   "outputs": [
    {
     "data": {
      "text/plain": [
       "Index(['id', 'datetime', 'water_level', 'do', 'miss', 'input_wind_throughput',\n",
       "       'input_wind_openness', 'ts', 'input_water_cod', 'output_water_cod',\n",
       "       'input_water_ammonia', 'output_water_ammonia', 'input_water_ph',\n",
       "       'output_water_phosphorus', 'input_water_ss', 'output_water_ss',\n",
       "       'label'],\n",
       "      dtype='object')"
      ]
     },
     "execution_count": 340,
     "metadata": {},
     "output_type": "execute_result"
    }
   ],
   "source": [
    "data.columns"
   ]
  },
  {
   "cell_type": "code",
   "execution_count": 341,
   "metadata": {},
   "outputs": [],
   "source": [
    "data['year'] = pd.to_datetime(data['datetime']).dt.year\n",
    "data['month'] = pd.to_datetime(data['datetime']).dt.month\n",
    "data['weekofyear'] = pd.to_datetime(data['datetime']).dt.weekofyear\n",
    "data['dayofmonth'] = pd.to_datetime(data['datetime']).dt.day\n",
    "data['hour'] = pd.to_datetime(data['datetime']).dt.hour\n",
    "data[['year','month','weekofyear','hour']]= data[['year','month','weekofyear','hour']].astype(float)\n"
   ]
  },
  {
   "cell_type": "code",
   "execution_count": 342,
   "metadata": {},
   "outputs": [
    {
     "data": {
      "text/plain": [
       "22"
      ]
     },
     "execution_count": 342,
     "metadata": {},
     "output_type": "execute_result"
    }
   ],
   "source": [
    "len(data.columns)"
   ]
  },
  {
   "cell_type": "code",
   "execution_count": 343,
   "metadata": {},
   "outputs": [],
   "source": [
    "rolling_features_input_cols = ['do', 'miss', 'input_wind_throughput', 'input_wind_openness',\n",
    "                    'input_water_cod', 'output_water_cod', 'input_water_ammonia', \n",
    "                    'output_water_ammonia', 'input_water_ph', 'output_water_phosphorus', \n",
    "                    'input_water_ss', 'output_water_ss','label']\n",
    "lags = [3, 7, 14, 30]"
   ]
  },
  {
   "cell_type": "code",
   "execution_count": 344,
   "metadata": {},
   "outputs": [
    {
     "data": {
      "text/plain": [
       "22"
      ]
     },
     "execution_count": 344,
     "metadata": {},
     "output_type": "execute_result"
    }
   ],
   "source": [
    "len(data.columns)"
   ]
  },
  {
   "cell_type": "code",
   "execution_count": 345,
   "metadata": {},
   "outputs": [],
   "source": [
    "data_basic=data.sort_values(by=['datetime'])\n",
    "data=data.sort_values(by=['datetime'])"
   ]
  },
  {
   "cell_type": "code",
   "execution_count": 346,
   "metadata": {},
   "outputs": [],
   "source": [
    "#均值\n",
    "for lag_n in lags:\n",
    "    for col_name in rolling_features_input_cols:\n",
    "        data_basic[col_name+'_rollingmean_'+str(lag_n)]=data[col_name].rolling(window=lag_n,min_periods=1).mean()\n",
    "\n",
    "water_rollingmean=data_basic[['ts']+list(s for s in data_basic.columns if 'rollingmean' in s)]"
   ]
  },
  {
   "cell_type": "code",
   "execution_count": 347,
   "metadata": {},
   "outputs": [],
   "source": [
    "#最小值\n",
    "for lag_n in lags:\n",
    "    for col_name in rolling_features_input_cols:\n",
    "        data_basic[col_name+'_rollingmin_'+str(lag_n)]=data[col_name].rolling(window=lag_n,min_periods=1).min()\n",
    "water_rollingmin=data_basic[['ts']+list(s for s in data_basic.columns if 'rollingmin' in s)]"
   ]
  },
  {
   "cell_type": "code",
   "execution_count": 348,
   "metadata": {},
   "outputs": [
    {
     "data": {
      "text/plain": [
       "53"
      ]
     },
     "execution_count": 348,
     "metadata": {},
     "output_type": "execute_result"
    }
   ],
   "source": [
    "len(water_rollingmin.columns)"
   ]
  },
  {
   "cell_type": "code",
   "execution_count": 349,
   "metadata": {},
   "outputs": [],
   "source": [
    "#最大值\n",
    "for lag_n in lags:\n",
    "    for col_name in rolling_features_input_cols:\n",
    "        data_basic[col_name+'_rollingmax_'+str(lag_n)]=data[col_name].rolling(window=lag_n,min_periods=1).max()\n",
    "water_rollingmax=data_basic[['ts']+list(s for s in data_basic.columns if 'rollingmax' in s)]"
   ]
  },
  {
   "cell_type": "code",
   "execution_count": 350,
   "metadata": {},
   "outputs": [
    {
     "data": {
      "text/plain": [
       "53"
      ]
     },
     "execution_count": 350,
     "metadata": {},
     "output_type": "execute_result"
    }
   ],
   "source": [
    "len(water_rollingmax.columns)"
   ]
  },
  {
   "cell_type": "code",
   "execution_count": 351,
   "metadata": {},
   "outputs": [],
   "source": [
    "#标准差\n",
    "for lag_n in lags:\n",
    "    for col_name in rolling_features_input_cols:\n",
    "        data_basic[col_name+'_rollingstd_'+str(lag_n)]=data[col_name].rolling(window=lag_n,min_periods=1).std()\n",
    "water_rollingstd=data_basic[['ts']+list(s for s in data_basic.columns if 'rollingstd' in s)]"
   ]
  },
  {
   "cell_type": "code",
   "execution_count": 353,
   "metadata": {},
   "outputs": [],
   "source": [
    "#初值-均值\n",
    "lags = [3,7]\n",
    "for lag_n in lags:\n",
    "    for col_name in rolling_features_input_cols:\n",
    "        data_basic[col_name+'_rollingdiff_'+str(lag_n)]=data[col_name]-data[col_name].rolling(window=lag_n,min_periods=1).mean()\n",
    "water_rollingdiff=data_basic[['ts']+list(s for s in data_basic.columns if 'rollingdiff' in s)]"
   ]
  },
  {
   "cell_type": "code",
   "execution_count": 354,
   "metadata": {},
   "outputs": [
    {
     "data": {
      "text/plain": [
       "27"
      ]
     },
     "execution_count": 354,
     "metadata": {},
     "output_type": "execute_result"
    }
   ],
   "source": [
    "len(water_rollingdiff.columns)"
   ]
  },
  {
   "cell_type": "code",
   "execution_count": 355,
   "metadata": {},
   "outputs": [],
   "source": [
    "data_all = pd.merge(data,water_rollingmean,on=['ts'])\\\n",
    "                .merge(water_rollingmin,on=['ts'])\\\n",
    "                .merge(water_rollingmax,on=['ts'])\\\n",
    "                .merge(water_rollingstd,on=['ts'])\\\n",
    "                .merge(water_rollingdiff,on=['ts'])"
   ]
  },
  {
   "cell_type": "code",
   "execution_count": 356,
   "metadata": {},
   "outputs": [
    {
     "data": {
      "text/plain": [
       "256"
      ]
     },
     "execution_count": 356,
     "metadata": {},
     "output_type": "execute_result"
    }
   ],
   "source": [
    "len(data_all.columns)"
   ]
  },
  {
   "cell_type": "code",
   "execution_count": 357,
   "metadata": {},
   "outputs": [],
   "source": [
    "#a=[]\n",
    "#for i in data_all['output_water_cod']:\n",
    " #   a.append(i)\n",
    "#a=a[5:34035]\n",
    "#data_all_label = data_all.drop([34031,34032,34033,34030,34034])\n",
    "#data_all_label['label_5']=a"
   ]
  },
  {
   "cell_type": "code",
   "execution_count": 358,
   "metadata": {},
   "outputs": [],
   "source": [
    "#data_all_label=data_all_label.fillna(data_all_label.mean())"
   ]
  },
  {
   "cell_type": "code",
   "execution_count": 359,
   "metadata": {},
   "outputs": [],
   "source": [
    "data_all_label=data_all"
   ]
  },
  {
   "cell_type": "code",
   "execution_count": 361,
   "metadata": {},
   "outputs": [],
   "source": [
    "train = data_all_label.loc[data_all_label['datetime']<\"2016-01-01 00:00:00\"]\n",
    "test = data_all_label.loc[data_all_label['datetime']> \"2015-12-31 23:59:59\"]"
   ]
  },
  {
   "cell_type": "code",
   "execution_count": 363,
   "metadata": {
    "scrolled": true
   },
   "outputs": [
    {
     "data": {
      "text/plain": [
       "((25442, 256), (8593, 256))"
      ]
     },
     "execution_count": 363,
     "metadata": {},
     "output_type": "execute_result"
    }
   ],
   "source": [
    "train.shape,test.shape"
   ]
  },
  {
   "cell_type": "code",
   "execution_count": 364,
   "metadata": {},
   "outputs": [],
   "source": [
    "rolling_features = [col for col in data_all_label.columns if \"_rolling\" in col]\n",
    "excluded_cols = ['datetime', 'ts', 'output_water_cod', 'label','id']\n",
    "basic_features = [col for col in data_all_label.columns if col not in rolling_features + excluded_cols]"
   ]
  },
  {
   "cell_type": "code",
   "execution_count": 365,
   "metadata": {},
   "outputs": [],
   "source": [
    "from sklearn.preprocessing import StandardScaler\n",
    "from sklearn.decomposition import PCA\n",
    "from sklearn.pipeline import Pipeline\n",
    "from sklearn.preprocessing import Imputer \n",
    "from sklearn.ensemble import RandomForestRegressor\n",
    "from sklearn.metrics import mean_squared_error"
   ]
  },
  {
   "cell_type": "code",
   "execution_count": 366,
   "metadata": {},
   "outputs": [],
   "source": [
    "features=rolling_features+basic_features"
   ]
  },
  {
   "cell_type": "code",
   "execution_count": 367,
   "metadata": {},
   "outputs": [],
   "source": [
    "train = train.fillna(train.mean())"
   ]
  },
  {
   "cell_type": "code",
   "execution_count": 368,
   "metadata": {},
   "outputs": [],
   "source": [
    "def my_scaler(df):\n",
    "    df_norm = (df - df.mean()) / (df.std())\n",
    "    df_norm = df_norm.fillna(0.0)\n",
    "    return df_norm"
   ]
  },
  {
   "cell_type": "code",
   "execution_count": 369,
   "metadata": {},
   "outputs": [],
   "source": [
    "train[rolling_features] = my_scaler(train[rolling_features])"
   ]
  },
  {
   "cell_type": "code",
   "execution_count": 370,
   "metadata": {},
   "outputs": [
    {
     "data": {
      "text/html": [
       "<div>\n",
       "<style scoped>\n",
       "    .dataframe tbody tr th:only-of-type {\n",
       "        vertical-align: middle;\n",
       "    }\n",
       "\n",
       "    .dataframe tbody tr th {\n",
       "        vertical-align: top;\n",
       "    }\n",
       "\n",
       "    .dataframe thead th {\n",
       "        text-align: right;\n",
       "    }\n",
       "</style>\n",
       "<table border=\"1\" class=\"dataframe\">\n",
       "  <thead>\n",
       "    <tr style=\"text-align: right;\">\n",
       "      <th></th>\n",
       "      <th>do_rollingmean_3</th>\n",
       "      <th>miss_rollingmean_3</th>\n",
       "      <th>input_wind_throughput_rollingmean_3</th>\n",
       "      <th>input_wind_openness_rollingmean_3</th>\n",
       "      <th>input_water_cod_rollingmean_3</th>\n",
       "      <th>output_water_cod_rollingmean_3</th>\n",
       "      <th>input_water_ammonia_rollingmean_3</th>\n",
       "      <th>output_water_ammonia_rollingmean_3</th>\n",
       "      <th>input_water_ph_rollingmean_3</th>\n",
       "      <th>output_water_phosphorus_rollingmean_3</th>\n",
       "      <th>...</th>\n",
       "      <th>input_wind_openness_rollingdiff_7</th>\n",
       "      <th>input_water_cod_rollingdiff_7</th>\n",
       "      <th>output_water_cod_rollingdiff_7</th>\n",
       "      <th>input_water_ammonia_rollingdiff_7</th>\n",
       "      <th>output_water_ammonia_rollingdiff_7</th>\n",
       "      <th>input_water_ph_rollingdiff_7</th>\n",
       "      <th>output_water_phosphorus_rollingdiff_7</th>\n",
       "      <th>input_water_ss_rollingdiff_7</th>\n",
       "      <th>output_water_ss_rollingdiff_7</th>\n",
       "      <th>label_rollingdiff_7</th>\n",
       "    </tr>\n",
       "  </thead>\n",
       "  <tbody>\n",
       "    <tr>\n",
       "      <th>0</th>\n",
       "      <td>1.926914</td>\n",
       "      <td>-1.504207</td>\n",
       "      <td>-1.529214</td>\n",
       "      <td>-1.835000</td>\n",
       "      <td>-0.309321</td>\n",
       "      <td>1.513831</td>\n",
       "      <td>-2.996960</td>\n",
       "      <td>1.668080</td>\n",
       "      <td>-0.34016</td>\n",
       "      <td>0.834775</td>\n",
       "      <td>...</td>\n",
       "      <td>-0.000123</td>\n",
       "      <td>0.000039</td>\n",
       "      <td>-0.000014</td>\n",
       "      <td>-0.000513</td>\n",
       "      <td>0.000708</td>\n",
       "      <td>-0.000488</td>\n",
       "      <td>0.000517</td>\n",
       "      <td>0.001025</td>\n",
       "      <td>0.000230</td>\n",
       "      <td>-7.681302e-05</td>\n",
       "    </tr>\n",
       "    <tr>\n",
       "      <th>1</th>\n",
       "      <td>1.694344</td>\n",
       "      <td>-1.503074</td>\n",
       "      <td>-1.529214</td>\n",
       "      <td>-1.835000</td>\n",
       "      <td>0.018520</td>\n",
       "      <td>1.320073</td>\n",
       "      <td>-3.049086</td>\n",
       "      <td>1.603794</td>\n",
       "      <td>-0.34016</td>\n",
       "      <td>0.834775</td>\n",
       "      <td>...</td>\n",
       "      <td>-0.000123</td>\n",
       "      <td>0.439515</td>\n",
       "      <td>-0.284758</td>\n",
       "      <td>-0.085791</td>\n",
       "      <td>-0.191440</td>\n",
       "      <td>-0.000488</td>\n",
       "      <td>0.000517</td>\n",
       "      <td>-5.170680</td>\n",
       "      <td>-0.594740</td>\n",
       "      <td>-7.681302e-05</td>\n",
       "    </tr>\n",
       "    <tr>\n",
       "      <th>2</th>\n",
       "      <td>1.423012</td>\n",
       "      <td>-1.506474</td>\n",
       "      <td>-1.529214</td>\n",
       "      <td>-1.835000</td>\n",
       "      <td>0.063353</td>\n",
       "      <td>1.255487</td>\n",
       "      <td>-3.066462</td>\n",
       "      <td>1.582365</td>\n",
       "      <td>-0.34016</td>\n",
       "      <td>0.834775</td>\n",
       "      <td>...</td>\n",
       "      <td>-0.000123</td>\n",
       "      <td>0.120238</td>\n",
       "      <td>-0.189843</td>\n",
       "      <td>-0.057365</td>\n",
       "      <td>-0.127391</td>\n",
       "      <td>-0.000488</td>\n",
       "      <td>0.000517</td>\n",
       "      <td>-3.286208</td>\n",
       "      <td>-0.396416</td>\n",
       "      <td>4.011335e-01</td>\n",
       "    </tr>\n",
       "    <tr>\n",
       "      <th>3</th>\n",
       "      <td>2.004437</td>\n",
       "      <td>-1.306111</td>\n",
       "      <td>0.128072</td>\n",
       "      <td>-0.494068</td>\n",
       "      <td>0.141811</td>\n",
       "      <td>1.255487</td>\n",
       "      <td>-3.031711</td>\n",
       "      <td>1.582365</td>\n",
       "      <td>-0.34016</td>\n",
       "      <td>0.834775</td>\n",
       "      <td>...</td>\n",
       "      <td>1.656099</td>\n",
       "      <td>-0.138001</td>\n",
       "      <td>0.284731</td>\n",
       "      <td>0.212681</td>\n",
       "      <td>0.192857</td>\n",
       "      <td>-0.000488</td>\n",
       "      <td>0.000517</td>\n",
       "      <td>-4.300924</td>\n",
       "      <td>0.595200</td>\n",
       "      <td>-4.697926e-18</td>\n",
       "    </tr>\n",
       "    <tr>\n",
       "      <th>4</th>\n",
       "      <td>2.547100</td>\n",
       "      <td>-1.102425</td>\n",
       "      <td>1.812568</td>\n",
       "      <td>0.846864</td>\n",
       "      <td>0.231477</td>\n",
       "      <td>1.384659</td>\n",
       "      <td>-2.475695</td>\n",
       "      <td>1.625222</td>\n",
       "      <td>-0.34016</td>\n",
       "      <td>0.834775</td>\n",
       "      <td>...</td>\n",
       "      <td>1.324854</td>\n",
       "      <td>0.628828</td>\n",
       "      <td>0.227782</td>\n",
       "      <td>2.080260</td>\n",
       "      <td>0.154427</td>\n",
       "      <td>-0.000488</td>\n",
       "      <td>0.000517</td>\n",
       "      <td>-4.275500</td>\n",
       "      <td>0.952182</td>\n",
       "      <td>3.008309e-01</td>\n",
       "    </tr>\n",
       "  </tbody>\n",
       "</table>\n",
       "<p>5 rows × 234 columns</p>\n",
       "</div>"
      ],
      "text/plain": [
       "   do_rollingmean_3  miss_rollingmean_3  input_wind_throughput_rollingmean_3  \\\n",
       "0          1.926914           -1.504207                            -1.529214   \n",
       "1          1.694344           -1.503074                            -1.529214   \n",
       "2          1.423012           -1.506474                            -1.529214   \n",
       "3          2.004437           -1.306111                             0.128072   \n",
       "4          2.547100           -1.102425                             1.812568   \n",
       "\n",
       "   input_wind_openness_rollingmean_3  input_water_cod_rollingmean_3  \\\n",
       "0                          -1.835000                      -0.309321   \n",
       "1                          -1.835000                       0.018520   \n",
       "2                          -1.835000                       0.063353   \n",
       "3                          -0.494068                       0.141811   \n",
       "4                           0.846864                       0.231477   \n",
       "\n",
       "   output_water_cod_rollingmean_3  input_water_ammonia_rollingmean_3  \\\n",
       "0                        1.513831                          -2.996960   \n",
       "1                        1.320073                          -3.049086   \n",
       "2                        1.255487                          -3.066462   \n",
       "3                        1.255487                          -3.031711   \n",
       "4                        1.384659                          -2.475695   \n",
       "\n",
       "   output_water_ammonia_rollingmean_3  input_water_ph_rollingmean_3  \\\n",
       "0                            1.668080                      -0.34016   \n",
       "1                            1.603794                      -0.34016   \n",
       "2                            1.582365                      -0.34016   \n",
       "3                            1.582365                      -0.34016   \n",
       "4                            1.625222                      -0.34016   \n",
       "\n",
       "   output_water_phosphorus_rollingmean_3         ...           \\\n",
       "0                               0.834775         ...            \n",
       "1                               0.834775         ...            \n",
       "2                               0.834775         ...            \n",
       "3                               0.834775         ...            \n",
       "4                               0.834775         ...            \n",
       "\n",
       "   input_wind_openness_rollingdiff_7  input_water_cod_rollingdiff_7  \\\n",
       "0                          -0.000123                       0.000039   \n",
       "1                          -0.000123                       0.439515   \n",
       "2                          -0.000123                       0.120238   \n",
       "3                           1.656099                      -0.138001   \n",
       "4                           1.324854                       0.628828   \n",
       "\n",
       "   output_water_cod_rollingdiff_7  input_water_ammonia_rollingdiff_7  \\\n",
       "0                       -0.000014                          -0.000513   \n",
       "1                       -0.284758                          -0.085791   \n",
       "2                       -0.189843                          -0.057365   \n",
       "3                        0.284731                           0.212681   \n",
       "4                        0.227782                           2.080260   \n",
       "\n",
       "   output_water_ammonia_rollingdiff_7  input_water_ph_rollingdiff_7  \\\n",
       "0                            0.000708                     -0.000488   \n",
       "1                           -0.191440                     -0.000488   \n",
       "2                           -0.127391                     -0.000488   \n",
       "3                            0.192857                     -0.000488   \n",
       "4                            0.154427                     -0.000488   \n",
       "\n",
       "   output_water_phosphorus_rollingdiff_7  input_water_ss_rollingdiff_7  \\\n",
       "0                               0.000517                      0.001025   \n",
       "1                               0.000517                     -5.170680   \n",
       "2                               0.000517                     -3.286208   \n",
       "3                               0.000517                     -4.300924   \n",
       "4                               0.000517                     -4.275500   \n",
       "\n",
       "   output_water_ss_rollingdiff_7  label_rollingdiff_7  \n",
       "0                       0.000230        -7.681302e-05  \n",
       "1                      -0.594740        -7.681302e-05  \n",
       "2                      -0.396416         4.011335e-01  \n",
       "3                       0.595200        -4.697926e-18  \n",
       "4                       0.952182         3.008309e-01  \n",
       "\n",
       "[5 rows x 234 columns]"
      ]
     },
     "execution_count": 370,
     "metadata": {},
     "output_type": "execute_result"
    }
   ],
   "source": [
    "train[rolling_features].head()"
   ]
  },
  {
   "cell_type": "code",
   "execution_count": 371,
   "metadata": {},
   "outputs": [],
   "source": [
    "model = RandomForestRegressor(n_estimators=100,max_depth=5).fit(train[features],train['label'])"
   ]
  },
  {
   "cell_type": "code",
   "execution_count": 372,
   "metadata": {},
   "outputs": [],
   "source": [
    "predictions = model.predict(train[features])"
   ]
  },
  {
   "cell_type": "code",
   "execution_count": 373,
   "metadata": {},
   "outputs": [
    {
     "name": "stdout",
     "output_type": "stream",
     "text": [
      "Root Train Error : 1.3935050032160052\n"
     ]
    }
   ],
   "source": [
    "print('Root Train Error : '+str(np.sqrt(mean_squared_error(train['label'],predictions))))"
   ]
  },
  {
   "cell_type": "code",
   "execution_count": 374,
   "metadata": {},
   "outputs": [],
   "source": [
    "test = test.fillna(test.mean())\n",
    "test[rolling_features] = my_scaler(test[rolling_features])"
   ]
  },
  {
   "cell_type": "code",
   "execution_count": 375,
   "metadata": {},
   "outputs": [],
   "source": [
    "predictions_test = model.predict(test[features])"
   ]
  },
  {
   "cell_type": "code",
   "execution_count": 376,
   "metadata": {},
   "outputs": [
    {
     "name": "stdout",
     "output_type": "stream",
     "text": [
      "Root Test Error : 1.4371520026599478\n"
     ]
    }
   ],
   "source": [
    "print('Root Test Error : '+str(np.sqrt(mean_squared_error(test['label'],predictions_test))))"
   ]
  },
  {
   "cell_type": "code",
   "execution_count": 377,
   "metadata": {},
   "outputs": [],
   "source": [
    "%matplotlib inline \n",
    "import matplotlib.pyplot as plt"
   ]
  },
  {
   "cell_type": "code",
   "execution_count": 378,
   "metadata": {},
   "outputs": [],
   "source": [
    "predictions= predictions[0:500]\n",
    "train_label=[]\n",
    "num=0\n",
    "for i in train['label'].head(500).astype(float):\n",
    "     train_label.append(i)"
   ]
  },
  {
   "cell_type": "code",
   "execution_count": 379,
   "metadata": {
    "scrolled": true
   },
   "outputs": [
    {
     "data": {
      "text/plain": [
       "<matplotlib.legend.Legend at 0x11c824e10>"
      ]
     },
     "execution_count": 379,
     "metadata": {},
     "output_type": "execute_result"
    },
    {
     "data": {
      "image/png": "[encoded data removed]",
      "text/plain": [
       "<Figure size 432x288 with 1 Axes>"
      ]
     },
     "metadata": {},
     "output_type": "display_data"
    }
   ],
   "source": [
    "plt.plot(train_label,label='label')\n",
    "plt.plot(predictions,label='predictions')\n",
    "plt.rcParams['figure.figsize'] = (18.0, 6.0)\n",
    "plt.title('Train _ Predictions')\n",
    "plt.legend()"
   ]
  },
  {
   "cell_type": "code",
   "execution_count": 380,
   "metadata": {},
   "outputs": [],
   "source": [
    "predictions_label = predictions_test[0:500]\n",
    "test_label=[]\n",
    "num=0\n",
    "for i in test['label'].head(500).astype(float):\n",
    "     test_label.append(i)"
   ]
  },
  {
   "cell_type": "code",
   "execution_count": 381,
   "metadata": {
    "scrolled": true
   },
   "outputs": [
    {
     "data": {
      "text/plain": [
       "<matplotlib.legend.Legend at 0x12582eef0>"
      ]
     },
     "execution_count": 381,
     "metadata": {},
     "output_type": "execute_result"
    },
    {
     "data": {
      "image/png": "[encoded data removed]",
      "text/plain": [
       "<Figure size 1296x432 with 1 Axes>"
      ]
     },
     "metadata": {},
     "output_type": "display_data"
    }
   ],
   "source": [
    "#print('Mean Squared Error (RMSE) -- Train : '+str(mean_squared_error(train['label_5'],predictions)))\n",
    "#print('Mean Squared Error (RMSE) -- Test : '+str(mean_squared_error(test['label_5'],predictions_test)))\n",
    "plt.plot(test_label,label='label')\n",
    "plt.plot(predictions_label,label='predictions')\n",
    "plt.rcParams['figure.figsize'] = (18.0, 6.0)\n",
    "plt.title('2Hours_Test _ Predictions')\n",
    "plt.legend()"
   ]
  },
  {
   "cell_type": "code",
   "execution_count": null,
   "metadata": {},
   "outputs": [],
   "source": []
  },
  {
   "cell_type": "code",
   "execution_count": null,
   "metadata": {},
   "outputs": [],
   "source": []
  },
  {
   "cell_type": "code",
   "execution_count": null,
   "metadata": {},
   "outputs": [],
   "source": []
  },
  {
   "cell_type": "code",
   "execution_count": null,
   "metadata": {},
   "outputs": [],
   "source": []
  }
 ],
 "metadata": {
  "kernelspec": {
   "display_name": "Python 3",
   "language": "python",
   "name": "python3"
  },
  "language_info": {
   "codemirror_mode": {
    "name": "ipython",
    "version": 3
   },
   "file_extension": ".py",
   "mimetype": "text/x-python",
   "name": "python",
   "nbconvert_exporter": "python",
   "pygments_lexer": "ipython3",
   "version": "3.6.5"
  }
 },
 "nbformat": 4,
 "nbformat_minor": 2
}
