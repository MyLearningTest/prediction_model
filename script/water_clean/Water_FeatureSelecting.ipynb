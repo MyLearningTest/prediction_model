{
 "cells": [
  {
   "cell_type": "code",
   "execution_count": 1,
   "metadata": {},
   "outputs": [],
   "source": [
    "import pandas as pd\n",
    "import numpy as np\n",
    "import xgboost as xgb\n",
    "from xgboost import XGBClassifier\n",
    "import matplotlib.pyplot as plt\n",
    "from sklearn.model_selection import train_test_split\n",
    "from xgboost import plot_importance\n",
    "from sklearn.metrics import accuracy_score\n",
    "import seaborn as sns\n",
    "from sklearn.metrics import confusion_matrix"
   ]
  },
  {
   "cell_type": "code",
   "execution_count": 2,
   "metadata": {},
   "outputs": [],
   "source": [
    "data = pd.read_csv('/Users/haixiangliu/Documents/水质数据及代码模型/water_clean_data.csv')"
   ]
  },
  {
   "cell_type": "code",
   "execution_count": 3,
   "metadata": {},
   "outputs": [],
   "source": [
    "data.columns=['datetime','water_level','do','miss','input_wind_throughput','input_wind_openness','ts','input_water_cod','output_water_cod','input_water_ammonia','output_water_ammonia','input_water_ph','output_water_phosphorus','input_water_ss','output_water_ss']"
   ]
  },
  {
   "cell_type": "code",
   "execution_count": 4,
   "metadata": {},
   "outputs": [],
   "source": [
    "index_array=[]\n",
    "for d in data['output_water_cod']:\n",
    "    if d>=50:\n",
    "        index_array.append(1)  \n",
    "    else:\n",
    "        index_array.append(0)\n",
    "data['label']=pd.DataFrame(index_array)"
   ]
  },
  {
   "cell_type": "code",
   "execution_count": 5,
   "metadata": {},
   "outputs": [],
   "source": [
    "datetime_array=[]\n",
    "for value in data['datetime']:\n",
    "    datetime_array.append(value)\n",
    "data[data<0]=np.nan\n",
    "data['datetime']=pd.DataFrame(datetime_array)\n",
    "data = data.fillna(0.0)"
   ]
  },
  {
   "cell_type": "code",
   "execution_count": 6,
   "metadata": {
    "scrolled": true
   },
   "outputs": [
    {
     "data": {
      "text/html": [
       "<div>\n",
       "<style scoped>\n",
       "    .dataframe tbody tr th:only-of-type {\n",
       "        vertical-align: middle;\n",
       "    }\n",
       "\n",
       "    .dataframe tbody tr th {\n",
       "        vertical-align: top;\n",
       "    }\n",
       "\n",
       "    .dataframe thead th {\n",
       "        text-align: right;\n",
       "    }\n",
       "</style>\n",
       "<table border=\"1\" class=\"dataframe\">\n",
       "  <thead>\n",
       "    <tr style=\"text-align: right;\">\n",
       "      <th></th>\n",
       "      <th>datetime</th>\n",
       "      <th>water_level</th>\n",
       "      <th>do</th>\n",
       "      <th>miss</th>\n",
       "      <th>input_wind_throughput</th>\n",
       "      <th>input_wind_openness</th>\n",
       "      <th>ts</th>\n",
       "      <th>input_water_cod</th>\n",
       "      <th>output_water_cod</th>\n",
       "      <th>input_water_ammonia</th>\n",
       "      <th>output_water_ammonia</th>\n",
       "      <th>input_water_ph</th>\n",
       "      <th>output_water_phosphorus</th>\n",
       "      <th>input_water_ss</th>\n",
       "      <th>output_water_ss</th>\n",
       "      <th>label</th>\n",
       "    </tr>\n",
       "  </thead>\n",
       "  <tbody>\n",
       "    <tr>\n",
       "      <th>0</th>\n",
       "      <td>2010-07-10 16:00:00</td>\n",
       "      <td>5.52</td>\n",
       "      <td>2.3</td>\n",
       "      <td>137.0</td>\n",
       "      <td>0.0</td>\n",
       "      <td>0.0</td>\n",
       "      <td>1.278745e+09</td>\n",
       "      <td>214</td>\n",
       "      <td>24</td>\n",
       "      <td>5.0</td>\n",
       "      <td>7.0</td>\n",
       "      <td>6.0</td>\n",
       "      <td>0.0</td>\n",
       "      <td>1192.0</td>\n",
       "      <td>8.0</td>\n",
       "      <td>0</td>\n",
       "    </tr>\n",
       "    <tr>\n",
       "      <th>1</th>\n",
       "      <td>2010-07-10 18:00:00</td>\n",
       "      <td>4.45</td>\n",
       "      <td>1.9</td>\n",
       "      <td>142.0</td>\n",
       "      <td>0.0</td>\n",
       "      <td>0.0</td>\n",
       "      <td>1.278752e+09</td>\n",
       "      <td>292</td>\n",
       "      <td>22</td>\n",
       "      <td>4.0</td>\n",
       "      <td>6.0</td>\n",
       "      <td>6.0</td>\n",
       "      <td>0.0</td>\n",
       "      <td>419.0</td>\n",
       "      <td>6.0</td>\n",
       "      <td>0</td>\n",
       "    </tr>\n",
       "    <tr>\n",
       "      <th>2</th>\n",
       "      <td>2010-07-10 20:00:00</td>\n",
       "      <td>4.46</td>\n",
       "      <td>1.4</td>\n",
       "      <td>117.0</td>\n",
       "      <td>0.0</td>\n",
       "      <td>0.0</td>\n",
       "      <td>1.278760e+09</td>\n",
       "      <td>269</td>\n",
       "      <td>22</td>\n",
       "      <td>4.0</td>\n",
       "      <td>6.0</td>\n",
       "      <td>6.0</td>\n",
       "      <td>0.0</td>\n",
       "      <td>437.0</td>\n",
       "      <td>6.0</td>\n",
       "      <td>0</td>\n",
       "    </tr>\n",
       "    <tr>\n",
       "      <th>3</th>\n",
       "      <td>2010-07-10 22:00:00</td>\n",
       "      <td>5.23</td>\n",
       "      <td>3.8</td>\n",
       "      <td>1463.0</td>\n",
       "      <td>5786.0</td>\n",
       "      <td>100.0</td>\n",
       "      <td>1.278767e+09</td>\n",
       "      <td>242</td>\n",
       "      <td>24</td>\n",
       "      <td>6.0</td>\n",
       "      <td>7.0</td>\n",
       "      <td>6.0</td>\n",
       "      <td>0.0</td>\n",
       "      <td>254.0</td>\n",
       "      <td>8.0</td>\n",
       "      <td>0</td>\n",
       "    </tr>\n",
       "    <tr>\n",
       "      <th>4</th>\n",
       "      <td>2010-07-11 04:00:00</td>\n",
       "      <td>5.00</td>\n",
       "      <td>3.3</td>\n",
       "      <td>1490.0</td>\n",
       "      <td>5881.0</td>\n",
       "      <td>100.0</td>\n",
       "      <td>1.278788e+09</td>\n",
       "      <td>324</td>\n",
       "      <td>24</td>\n",
       "      <td>20.0</td>\n",
       "      <td>7.0</td>\n",
       "      <td>6.0</td>\n",
       "      <td>0.0</td>\n",
       "      <td>176.0</td>\n",
       "      <td>9.0</td>\n",
       "      <td>0</td>\n",
       "    </tr>\n",
       "  </tbody>\n",
       "</table>\n",
       "</div>"
      ],
      "text/plain": [
       "              datetime  water_level   do    miss  input_wind_throughput  \\\n",
       "0  2010-07-10 16:00:00         5.52  2.3   137.0                    0.0   \n",
       "1  2010-07-10 18:00:00         4.45  1.9   142.0                    0.0   \n",
       "2  2010-07-10 20:00:00         4.46  1.4   117.0                    0.0   \n",
       "3  2010-07-10 22:00:00         5.23  3.8  1463.0                 5786.0   \n",
       "4  2010-07-11 04:00:00         5.00  3.3  1490.0                 5881.0   \n",
       "\n",
       "   input_wind_openness            ts  input_water_cod  output_water_cod  \\\n",
       "0                  0.0  1.278745e+09              214                24   \n",
       "1                  0.0  1.278752e+09              292                22   \n",
       "2                  0.0  1.278760e+09              269                22   \n",
       "3                100.0  1.278767e+09              242                24   \n",
       "4                100.0  1.278788e+09              324                24   \n",
       "\n",
       "   input_water_ammonia  output_water_ammonia  input_water_ph  \\\n",
       "0                  5.0                   7.0             6.0   \n",
       "1                  4.0                   6.0             6.0   \n",
       "2                  4.0                   6.0             6.0   \n",
       "3                  6.0                   7.0             6.0   \n",
       "4                 20.0                   7.0             6.0   \n",
       "\n",
       "   output_water_phosphorus  input_water_ss  output_water_ss  label  \n",
       "0                      0.0          1192.0              8.0      0  \n",
       "1                      0.0           419.0              6.0      0  \n",
       "2                      0.0           437.0              6.0      0  \n",
       "3                      0.0           254.0              8.0      0  \n",
       "4                      0.0           176.0              9.0      0  "
      ]
     },
     "execution_count": 6,
     "metadata": {},
     "output_type": "execute_result"
    }
   ],
   "source": [
    "data.head()"
   ]
  },
  {
   "cell_type": "code",
   "execution_count": 78,
   "metadata": {},
   "outputs": [],
   "source": [
    "Y_data=data['label']\n",
    "X_data = data.drop(['label','datetime','output_water_cod'],axis=1)"
   ]
  },
  {
   "cell_type": "code",
   "execution_count": 8,
   "metadata": {},
   "outputs": [],
   "source": [
    "X_train,X_test,y_train,y_test = train_test_split(X,Y,test_size=0.3,random_state=0)"
   ]
  },
  {
   "cell_type": "markdown",
   "metadata": {},
   "source": [
    "### Pearsonr相关分析 "
   ]
  },
  {
   "cell_type": "code",
   "execution_count": 10,
   "metadata": {},
   "outputs": [],
   "source": [
    "from scipy.stats import pearsonr\n",
    "columns = X_train.columns\n",
    "feature_importance = [(column,pearsonr(X_train[column],y_train)[0]) for column in columns]\n",
    "feature_importance.sort(key=lambda x:x[1])"
   ]
  },
  {
   "cell_type": "code",
   "execution_count": 11,
   "metadata": {},
   "outputs": [
    {
     "data": {
      "text/plain": [
       "[('ts', -0.041199339476320644),\n",
       " ('input_water_ammonia', -0.022279401895139012),\n",
       " ('input_water_ss', -0.01738716429699198),\n",
       " ('miss', -0.01652140599810774),\n",
       " ('input_wind_openness', -0.007414371537875724),\n",
       " ('input_wind_throughput', -0.006731947285925133),\n",
       " ('input_water_cod', -0.0060706085767087475),\n",
       " ('water_level', -0.0007800246532163351),\n",
       " ('output_water_ss', 0.0014334236138385205),\n",
       " ('do', 0.010255560684937354),\n",
       " ('input_water_ph', 0.026279267183042437),\n",
       " ('output_water_ammonia', 0.06726247963068453),\n",
       " ('output_water_phosphorus', 0.0870890064520124)]"
      ]
     },
     "execution_count": 11,
     "metadata": {},
     "output_type": "execute_result"
    }
   ],
   "source": [
    "feature_importance"
   ]
  },
  {
   "cell_type": "markdown",
   "metadata": {},
   "source": [
    "通过Pearson分析每个特征值与label的线性关系，得：每个特征值与label之间的线性关系并不明显,在这里，Pearson相关没有很明显的作用"
   ]
  },
  {
   "cell_type": "markdown",
   "metadata": {},
   "source": [
    "### MIC"
   ]
  },
  {
   "cell_type": "code",
   "execution_count": 12,
   "metadata": {},
   "outputs": [],
   "source": [
    "from minepy import MINE"
   ]
  },
  {
   "cell_type": "code",
   "execution_count": 16,
   "metadata": {
    "scrolled": true
   },
   "outputs": [
    {
     "name": "stdout",
     "output_type": "stream",
     "text": [
      "0.00793071729634442\n"
     ]
    }
   ],
   "source": [
    "m = MINE()\n",
    "x = data['input_water_cod']\n",
    "y = data['label']\n",
    "m.compute_score(x,y)\n",
    "print(m.mic())"
   ]
  },
  {
   "cell_type": "code",
   "execution_count": 17,
   "metadata": {},
   "outputs": [
    {
     "name": "stdout",
     "output_type": "stream",
     "text": [
      "water_level : 0.002395532052798779\n",
      "do : 0.0017971393226505008\n",
      "miss : 0.014773796892369106\n",
      "input_wind_throughput : 0.006235024414187478\n",
      "input_wind_openness : 9.90066956105291e-05\n",
      "ts : 0.0236569895924308\n",
      "input_water_cod : 0.00793071729634442\n",
      "output_water_cod : 0.0236569895924308\n",
      "input_water_ammonia : 0.009695577082845535\n",
      "output_water_ammonia : 0.002891742609696642\n",
      "input_water_ph : 0.004277296060862747\n",
      "output_water_phosphorus : 0.004122247649518881\n",
      "input_water_ss : 0.006299044508360956\n",
      "output_water_ss : 0.0005898417083315099\n",
      "label : 0.0236569895924308\n"
     ]
    }
   ],
   "source": [
    "m = MINE()\n",
    "y = data['label']\n",
    "for column in data.columns:\n",
    "    if column!='datetime':\n",
    "        x= data[column]\n",
    "        m.compute_score(x,y)\n",
    "        print(column +' : ' +str(m.mic()))"
   ]
  },
  {
   "cell_type": "markdown",
   "metadata": {},
   "source": [
    "结果中ts、output_water_cod、label的值是相同的。从结果可得，并没有很突出的特征变量"
   ]
  },
  {
   "cell_type": "markdown",
   "metadata": {},
   "source": [
    "### 稳定性选择-RandomizedLasso"
   ]
  },
  {
   "cell_type": "code",
   "execution_count": 70,
   "metadata": {},
   "outputs": [],
   "source": [
    "#抽样进行训练，预测\n",
    "data_0=data[data['label']==0]\n",
    "data_1=data[data['label']==1]\n",
    "#抽取label=0的数据的20%\n",
    "sample_data_0 = data_0.sample(frac=0.02)\n",
    "#数据中label=1的所有数据\n",
    "sampled_data1=data_1.append(sample_data_0)"
   ]
  },
  {
   "cell_type": "code",
   "execution_count": 71,
   "metadata": {},
   "outputs": [
    {
     "name": "stderr",
     "output_type": "stream",
     "text": [
      "/usr/local/anaconda3/lib/python3.6/site-packages/sklearn/utils/deprecation.py:58: DeprecationWarning: Class RandomizedLasso is deprecated; The class RandomizedLasso is deprecated in 0.19 and will be removed in 0.21.\n",
      "  warnings.warn(msg, category=DeprecationWarning)\n"
     ]
    },
    {
     "data": {
      "text/plain": [
       "RandomizedLasso(alpha='aic', eps=2.220446049250313e-16, fit_intercept=True,\n",
       "        max_iter=500, memory=None, n_jobs=1, n_resampling=200,\n",
       "        normalize=True, pre_dispatch='3*n_jobs', precompute='auto',\n",
       "        random_state=None, sample_fraction=0.75, scaling=0.5,\n",
       "        selection_threshold=0.25, verbose=False)"
      ]
     },
     "execution_count": 71,
     "metadata": {},
     "output_type": "execute_result"
    }
   ],
   "source": [
    "from sklearn.linear_model import RandomizedLasso\n",
    "Y= sampled_data1['label']\n",
    "X= sampled_data1.drop(['datetime','label'],axis=1)\n",
    "names = data.columns\n",
    "rlasso = RandomizedLasso()\n",
    "rlasso.fit(X,Y)"
   ]
  },
  {
   "cell_type": "code",
   "execution_count": 72,
   "metadata": {},
   "outputs": [],
   "source": [
    "feature_importance =sorted(zip(map(lambda x:round(x,4),rlasso.scores_),names))"
   ]
  },
  {
   "cell_type": "code",
   "execution_count": 73,
   "metadata": {
    "scrolled": false
   },
   "outputs": [
    {
     "data": {
      "text/plain": [
       "[(0.0, 'datetime'),\n",
       " (0.0, 'do'),\n",
       " (0.0, 'input_water_ss'),\n",
       " (0.0, 'input_wind_throughput'),\n",
       " (0.0, 'miss'),\n",
       " (0.0, 'output_water_cod'),\n",
       " (0.0, 'ts'),\n",
       " (0.01, 'water_level'),\n",
       " (0.05, 'input_water_ammonia'),\n",
       " (0.115, 'input_wind_openness'),\n",
       " (0.15, 'output_water_ammonia'),\n",
       " (0.31, 'output_water_phosphorus'),\n",
       " (0.455, 'input_water_ph'),\n",
       " (1.0, 'input_water_cod')]"
      ]
     },
     "execution_count": 73,
     "metadata": {},
     "output_type": "execute_result"
    }
   ],
   "source": [
    "feature_importance"
   ]
  },
  {
   "cell_type": "markdown",
   "metadata": {},
   "source": [
    "通过稳定性选择所得到的结果，特征input_water_cod的重要性最高，这里包含多个结果为0的特征，说明他们的可用性很小，对预测结果的影响也很小"
   ]
  },
  {
   "cell_type": "code",
   "execution_count": 74,
   "metadata": {},
   "outputs": [],
   "source": [
    "data_0=data[data['label']==0]\n",
    "data_1=data[data['label']==1]\n",
    "sample_data_0 = data_0.sample(frac=0.02)\n",
    "sampled_data=data_1.append(sample_data_0)"
   ]
  },
  {
   "cell_type": "code",
   "execution_count": 75,
   "metadata": {},
   "outputs": [
    {
     "name": "stderr",
     "output_type": "stream",
     "text": [
      "/usr/local/anaconda3/lib/python3.6/site-packages/sklearn/preprocessing/label.py:151: DeprecationWarning: The truth value of an empty array is ambiguous. Returning False, but in future this will result in an error. Use `array.size > 0` to check that an array is not empty.\n",
      "  if diff:\n"
     ]
    }
   ],
   "source": [
    "X=sampled_data[['input_wind_openness', 'output_water_ammonia','input_water_ammonia', 'input_water_ph','input_water_cod']]\n",
    "Y = sampled_data['label']\n",
    "\n",
    "model = XGBClassifier(n_estimators=100,max_depth=3,objective='multi:softmax',num_class=2,subsample=0.8,colasmple_btree=0.8)\n",
    "X_train,X_test,y_train,y_test = train_test_split(X,Y,test_size=0.4)\n",
    "model.fit(X_train,y_train)\n",
    "y_pred = model.predict(X_test)"
   ]
  },
  {
   "cell_type": "code",
   "execution_count": 76,
   "metadata": {},
   "outputs": [
    {
     "name": "stdout",
     "output_type": "stream",
     "text": [
      "Accuracy : 92.11%\n"
     ]
    }
   ],
   "source": [
    "print(\"Accuracy : %.2f%%\"%(accuracy_score(y_test,y_pred)*100.0))"
   ]
  },
  {
   "cell_type": "code",
   "execution_count": 77,
   "metadata": {
    "scrolled": true
   },
   "outputs": [
    {
     "data": {
      "text/plain": [
       "Text(91.68,0.5,'predicted lable')"
      ]
     },
     "execution_count": 77,
     "metadata": {},
     "output_type": "execute_result"
    },
    {
     "data": {
      "image/png": "[encoded data removed]",
      "text/plain": [
       "<Figure size 432x288 with 1 Axes>"
      ]
     },
     "metadata": {},
     "output_type": "display_data"
    }
   ],
   "source": [
    "mat = confusion_matrix(y_test,y_pred)\n",
    "sns.heatmap(mat.T,square = True,annot=True,fmt='o',cbar=False)\n",
    "plt.xlabel('true label')\n",
    "plt.ylabel('predicted lable')"
   ]
  },
  {
   "cell_type": "markdown",
   "metadata": {},
   "source": [
    "如果按照稳定性来选择特征向量，在模型预测试前去掉结果为0的特征再进行预测，模型评估得分为92.11%"
   ]
  },
  {
   "cell_type": "markdown",
   "metadata": {},
   "source": [
    "### RFE"
   ]
  },
  {
   "cell_type": "code",
   "execution_count": 23,
   "metadata": {},
   "outputs": [],
   "source": [
    "from sklearn.feature_selection import RFE\n",
    "from sklearn.ensemble import RandomForestClassifier"
   ]
  },
  {
   "cell_type": "code",
   "execution_count": 79,
   "metadata": {},
   "outputs": [
    {
     "name": "stdout",
     "output_type": "stream",
     "text": [
      "Fitting estimator with 13 features.\n",
      "Fitting estimator with 12 features.\n",
      "Fitting estimator with 11 features.\n",
      "Fitting estimator with 10 features.\n",
      "Fitting estimator with 9 features.\n",
      "Fitting estimator with 8 features.\n",
      "Fitting estimator with 7 features.\n",
      "Fitting estimator with 6 features.\n",
      "Fitting estimator with 5 features.\n",
      "Fitting estimator with 4 features.\n",
      "Fitting estimator with 3 features.\n",
      "Fitting estimator with 2 features.\n",
      "Features sorted by their rank:\n"
     ]
    },
    {
     "data": {
      "text/plain": [
       "[(13, 'input_wind_throughput'),\n",
       " (12, 'miss'),\n",
       " (11, 'output_water_cod'),\n",
       " (10, 'output_water_phosphorus'),\n",
       " (9, 'water_level'),\n",
       " (8, 'input_water_ammonia'),\n",
       " (7, 'input_water_ph'),\n",
       " (6, 'datetime'),\n",
       " (5, 'output_water_ammonia'),\n",
       " (4, 'ts'),\n",
       " (3, 'input_water_cod'),\n",
       " (2, 'do'),\n",
       " (1, 'input_wind_openness')]"
      ]
     },
     "execution_count": 79,
     "metadata": {},
     "output_type": "execute_result"
    }
   ],
   "source": [
    "#递归特征消除 Recursive feature elimination (RFE)\n",
    "from sklearn.feature_selection import RFE\n",
    "names = data.columns\n",
    "X_train, X_test, y_train, y_test = train_test_split(X_data, Y_data, test_size=0.5, random_state=0)\n",
    "# use linear regression as the model\n",
    "rf = RandomForestClassifier()\n",
    "# rank all features, i.e continue the elimination until the last one\n",
    "rfe = RFE(rf, n_features_to_select=1,verbose=1)\n",
    "rfe.fit(X_train, y_train)\n",
    "\n",
    "print(\"Features sorted by their rank:\")\n",
    "feature_importance=(sorted(zip(map(lambda x: round(x, 4), rfe.ranking_), names),reverse=True))\n",
    "feature_importance"
   ]
  },
  {
   "cell_type": "markdown",
   "metadata": {},
   "source": [
    "### 使用线性模型L1做特征选择 "
   ]
  },
  {
   "cell_type": "code",
   "execution_count": 81,
   "metadata": {},
   "outputs": [],
   "source": [
    "Y_data=sampled_data['label']\n",
    "X_data = sampled_data.drop(['label','datetime','output_water_cod'],axis=1)"
   ]
  },
  {
   "cell_type": "code",
   "execution_count": 82,
   "metadata": {},
   "outputs": [
    {
     "name": "stdout",
     "output_type": "stream",
     "text": [
      "0.8033088235294118\n"
     ]
    },
    {
     "data": {
      "text/plain": [
       "[('input_wind_openness', 9.953855407627596e-10),\n",
       " ('do', -3.6910556632770215e-05),\n",
       " ('miss', 3.757283687018759e-05),\n",
       " ('ts', -0.0015522173478056626),\n",
       " ('input_water_ph', -0.0018818637285813273),\n",
       " ('input_wind_throughput', 0.002369396835911019),\n",
       " ('water_level', 0.009138906698680524),\n",
       " ('input_water_cod', -0.041456228107871),\n",
       " ('input_water_ammonia', 0.05460413057214736),\n",
       " ('output_water_phosphorus', -0.10004193691786362),\n",
       " ('output_water_cod', 0.10791309079893624),\n",
       " ('datetime', -0.3194875149025937),\n",
       " ('output_water_ammonia', 1.0695216643088197)]"
      ]
     },
     "execution_count": 82,
     "metadata": {},
     "output_type": "execute_result"
    }
   ],
   "source": [
    "from sklearn.linear_model import LogisticRegression\n",
    "from sklearn.metrics import roc_auc_score\n",
    "X_train, X_test, y_train, y_test = train_test_split(X_data, Y_data, test_size=0.1, random_state=0)\n",
    "lr=LogisticRegression(penalty='l1',random_state=0).fit(X_train,y_train)\n",
    "pred=lr.predict_proba(X_test)[:,1]\n",
    "print(roc_auc_score(y_test,pred))\n",
    "columns = sampled_data1.columns\n",
    "feature_importance=[(i[0],i[1]) for i in zip(columns,lr.coef_[0])]\n",
    "feature_importance.sort(key=lambda x:np.abs(x[1]))\n",
    "#特征系数\n",
    "feature_importance"
   ]
  },
  {
   "cell_type": "markdown",
   "metadata": {},
   "source": [
    "### 使用线性模型L2做特征选择 "
   ]
  },
  {
   "cell_type": "code",
   "execution_count": 83,
   "metadata": {},
   "outputs": [
    {
     "name": "stdout",
     "output_type": "stream",
     "text": [
      "0.7886029411764706\n"
     ]
    },
    {
     "data": {
      "text/plain": [
       "[('water_level', -4.690830289281672e-19),\n",
       " ('output_water_ammonia', 4.759519749157767e-19),\n",
       " ('output_water_phosphorus', -5.3359520363545896e-18),\n",
       " ('datetime', -5.664942360652367e-18),\n",
       " ('input_water_ammonia', -6.6745428513588046e-18),\n",
       " ('output_water_cod', 9.141824579710758e-18),\n",
       " ('input_water_cod', -4.353053902199364e-17),\n",
       " ('input_wind_throughput', -5.229128261990831e-17),\n",
       " ('ts', -3.0901270243821086e-16),\n",
       " ('input_water_ph', -7.872180048774718e-16),\n",
       " ('miss', -1.821098413699369e-15),\n",
       " ('do', -5.11883135908297e-15),\n",
       " ('input_wind_openness', -1.5715552704557107e-09)]"
      ]
     },
     "execution_count": 83,
     "metadata": {},
     "output_type": "execute_result"
    }
   ],
   "source": [
    "X_train2, X_test2, y_train2, y_test2 = train_test_split(X_data,Y_data,test_size=0.1, random_state=0)\n",
    "lr=LogisticRegression(penalty='l2',random_state=0).fit(X_train2,y_train2)\n",
    "pred=lr.predict_proba(X_test2)[:,1]\n",
    "print(roc_auc_score(y_test2,pred))\n",
    " \n",
    "feature_importance=[(i[0],i[1]) for i in zip(columns,lr.coef_[0])]\n",
    "feature_importance.sort(key=lambda x:np.abs(x[1]))\n",
    "feature_importance\n"
   ]
  },
  {
   "cell_type": "markdown",
   "metadata": {},
   "source": [
    "### 使用平均精确率减少做特征选择"
   ]
  },
  {
   "cell_type": "code",
   "execution_count": 28,
   "metadata": {},
   "outputs": [],
   "source": [
    "from sklearn.metrics import r2_score\n",
    "from collections import defaultdict\n",
    "\n",
    "X_train, X_test, y_train, y_test = train_test_split(X, Y, test_size=0.1, random_state=0)\n",
    "rf=RandomForestClassifier(n_estimators=300,max_depth=7,min_samples_split=10,min_samples_leaf=10,n_jobs=7,random_state=0)\n",
    "scores = defaultdict(list)"
   ]
  },
  {
   "cell_type": "code",
   "execution_count": 29,
   "metadata": {},
   "outputs": [
    {
     "name": "stderr",
     "output_type": "stream",
     "text": [
      "/usr/local/anaconda3/lib/python3.6/site-packages/sklearn/cross_validation.py:41: DeprecationWarning: This module was deprecated in version 0.18 in favor of the model_selection module into which all the refactored classes and functions are moved. Also note that the interface of the new CV iterators are different from that of this module. This module will be removed in 0.20.\n",
      "  \"This module will be removed in 0.20.\", DeprecationWarning)\n"
     ]
    },
    {
     "data": {
      "text/plain": [
       "[(-0.0012, 'water_level'),\n",
       " (-0.0009, 'datetime'),\n",
       " (-0.0009, 'input_water_ss'),\n",
       " (-0.0004, 'miss'),\n",
       " (-0.0001, 'input_wind_throughput'),\n",
       " (0.0007, 'output_water_ammonia'),\n",
       " (0.0021, 'input_water_ammonia'),\n",
       " (0.0032, 'do'),\n",
       " (0.0065, 'ts'),\n",
       " (0.0069, 'output_water_phosphorus'),\n",
       " (0.0072, 'input_water_ph'),\n",
       " (0.0084, 'output_water_cod'),\n",
       " (0.0184, 'input_wind_openness'),\n",
       " (1.2426, 'input_water_cod')]"
      ]
     },
     "execution_count": 29,
     "metadata": {},
     "output_type": "execute_result"
    }
   ],
   "source": [
    "from sklearn.cross_validation import ShuffleSplit\n",
    "for train_idx, test_idx in ShuffleSplit(len(X_train), 3, 0.3):\n",
    "    x_train, X_test = X_train.values[train_idx], X_train.values[test_idx]\n",
    "    Y_train, Y_test = y_train.values[train_idx], y_train.values[test_idx]\n",
    "    r = rf.fit(x_train, Y_train)\n",
    "    acc = r2_score(Y_test, rf.predict_proba(X_test)[:,1])\n",
    "    for i in range(x_train.shape[1]):\n",
    "        X_t = X_test.copy()\n",
    "        np.random.shuffle(X_t[:, i])\n",
    "        shuff_acc = r2_score(Y_test, rf.predict_proba(X_t)[:,1])\n",
    "        scores[columns[i]].append((acc - shuff_acc) / acc)\n",
    "feature_impotance=sorted([(round(np.mean(score), 4), feat) for feat, score in scores.items()])\n",
    "feature_impotance"
   ]
  },
  {
   "cell_type": "code",
   "execution_count": null,
   "metadata": {},
   "outputs": [],
   "source": []
  }
 ],
 "metadata": {
  "kernelspec": {
   "display_name": "Python 3",
   "language": "python",
   "name": "python3"
  },
  "language_info": {
   "codemirror_mode": {
    "name": "ipython",
    "version": 3
   },
   "file_extension": ".py",
   "mimetype": "text/x-python",
   "name": "python",
   "nbconvert_exporter": "python",
   "pygments_lexer": "ipython3",
   "version": "3.6.5"
  }
 },
 "nbformat": 4,
 "nbformat_minor": 2
}
